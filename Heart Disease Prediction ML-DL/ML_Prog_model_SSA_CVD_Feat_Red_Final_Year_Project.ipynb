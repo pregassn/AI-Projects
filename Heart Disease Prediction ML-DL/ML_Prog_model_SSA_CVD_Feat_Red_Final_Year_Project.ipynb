{
 "cells": [
  {
   "cell_type": "markdown",
   "metadata": {
    "id": "0SZp0iRsBsw4"
   },
   "source": [
    "\n",
    "\n",
    "\n",
    "\n",
    "\\#\\#\\#\\#\\#\\#\\#\\#\\#\\#\\#\\#\\#\\#\\#\\#\\#\\#\\#\\#\\#\\#\\#\\#\\#\\#\\#\\#\\#\\#\\#\\#\\#\\#\\#\\#\\#\\#\\#\\#\\#\\#\\#\\#\\#\\#\\#\\#\\#\\#\\#\\#\\#\\#\\#\\#\\#\\#\\#\\#\\#\\#\n",
    "#     ML Prognosis model for SSA CVD      # \n",
    "\\#\\#\\#\\#\\#\\#\\#\\#\\#\\#\\#\\#\\#\\#\\#\\#\\#\\#\\#\\#\\#\\#\\#\\#\\#\\#\\#\\#\\#\\#\\#\\#\\#\\#\\#\\#\\#\\#\\#\\#\\#\\#\\#\\#\\#\\#\\#\\#\\#\\#\\#\\#\\#\\#\\#\\#\\#\\#\\#\\#\\#\n",
    "  "
   ]
  },
  {
   "cell_type": "code",
   "execution_count": null,
   "metadata": {
    "id": "RmTJfmpy3kYX"
   },
   "outputs": [],
   "source": [
    "!pip  install openpyxl"
   ]
  },
  {
   "cell_type": "code",
   "execution_count": null,
   "metadata": {
    "colab": {
     "base_uri": "https://localhost:8080/",
     "height": 122
    },
    "id": "RYBkTljo5vfz",
    "outputId": "d01b0e5b-4e90-44f3-bb42-c0a2869ca38f"
   },
   "outputs": [
    {
     "name": "stdout",
     "output_type": "stream",
     "text": [
      "Go to this URL in a browser: https://accounts.google.com/o/oauth2/auth?client_id=947318989803-6bn6qk8qdgf4n4g3pfee6491hc0brc4i.apps.googleusercontent.com&redirect_uri=urn%3aietf%3awg%3aoauth%3a2.0%3aoob&response_type=code&scope=email%20https%3a%2f%2fwww.googleapis.com%2fauth%2fdocs.test%20https%3a%2f%2fwww.googleapis.com%2fauth%2fdrive%20https%3a%2f%2fwww.googleapis.com%2fauth%2fdrive.photos.readonly%20https%3a%2f%2fwww.googleapis.com%2fauth%2fpeopleapi.readonly\n",
      "\n",
      "Enter your authorization code:\n",
      "··········\n",
      "Mounted at /content/gdrive\n"
     ]
    }
   ],
   "source": [
    "from google.colab import drive\n",
    "drive.mount('/content/gdrive')"
   ]
  },
  {
   "cell_type": "markdown",
   "metadata": {
    "id": "bnt6nO-6Rrj8"
   },
   "source": [
    "Load all xls input"
   ]
  },
  {
   "cell_type": "code",
   "execution_count": null,
   "metadata": {
    "id": "lda5LMge6TzL"
   },
   "outputs": [],
   "source": [
    "import pandas as pd\n",
    "import numpy as np\n",
    "from pandas import ExcelWriter\n",
    "from pandas import ExcelFile\n",
    "\n",
    "# Loading yearly datasets inputs\n",
    "df_2015 = pd.read_excel('/content/gdrive/My Drive/Colab Notebooks/AI_final_year_project/ENQ2015.xlsx')\n",
    "df_2016 = pd.read_excel('/content/gdrive/My Drive/Colab Notebooks/AI_final_year_project/ENQ2016.xlsx')\n",
    "df_2017 = pd.read_excel('/content/gdrive/My Drive/Colab Notebooks/AI_final_year_project/ENQ2017.xlsx')\n",
    "df_2019 = pd.read_excel('/content/gdrive/My Drive/Colab Notebooks/AI_final_year_project/ENQ2019.xlsx')\n",
    "\n",
    "# Loading the individuals' status xls\n",
    "df_results = pd.read_excel('/content/gdrive/My Drive/Colab Notebooks/AI_final_year_project/Evenements_a_predir.xlsx')\n",
    "df_results.at[112,'Date'] = np.nan\n",
    "\n",
    "# Rename Id column for futur merge of datasets based on individuals' Id\n",
    "df_2015.rename(columns = {\"id_sujet_15\":'Id'}, inplace = True)\n",
    "df_2016.rename(columns = {\"id_sujet_16\":'Id'}, inplace = True)\n",
    "df_2017.rename(columns = {\"id_sujet_17\":'Id'}, inplace = True)\n",
    "df_2019.rename(columns = {\"id_sujet_19\":'Id'}, inplace = True)\n",
    "df_2019.rename(columns = {'_submission_time':'inclusion_19'}, inplace = True)\n",
    "\n",
    "# Change types of the colums\n",
    "df_2019 = df_2019.astype({\"Id\" : int})\n",
    "df_2017 = df_2017.astype({\"Id\" : int})\n",
    "df_2017 = df_2017.astype({\"age_17\" : int})"
   ]
  },
  {
   "cell_type": "markdown",
   "metadata": {
    "id": "q7poL5-0ct5j"
   },
   "source": [
    "Convert and Recompute some data"
   ]
  },
  {
   "cell_type": "code",
   "execution_count": null,
   "metadata": {
    "id": "1h5BvkWMimux"
   },
   "outputs": [],
   "source": [
    "\n",
    "import datetime \n",
    "from dateutil.relativedelta import relativedelta\n",
    "\n",
    "# Convert date string into date format for report status\n",
    "df_results['Date'] = df_results.apply( lambda row: \n",
    "                                      datetime.datetime.strptime(row['Date'],'%d/%m/%Y') \n",
    "                                      if not isinstance(row['Date'], datetime.date) and not np.isnan(row['Date']) and not(row['Date'] is pd.NaT) \n",
    "                                      else row['Date'] , axis=1)\n",
    "\n",
    "# Convert date string into date format for year 2016\n",
    "df_2016['ddn_16'] = df_2016.apply( lambda row: datetime.datetime.strptime(row['ddn_16'],'%d/%m/%Y') if not isinstance(row['ddn_16'], datetime.date) else row['ddn_16'] , axis=1)\n",
    "df_2016['inclusion_16'] = df_2016.apply( lambda row: datetime.datetime.strptime(row['inclusion_16'],'%d/%m/%Y') if not isinstance(row['inclusion_16'], datetime.date) else row['inclusion_16'] , axis=1)\n",
    "\n",
    "# Recompute some parameters in year 2016 based other xls \n",
    "df_2016['age_16'] = df_2016.apply( lambda row: relativedelta(row['inclusion_16'],row['ddn_16']).years if np.isnan(row['age_16']) else row['age_16'], axis=1)\n",
    "for i in range(2,4):\n",
    "  for j in ['s', 'd']:\n",
    "    for k in ['g', 'd']:\n",
    "      df_2016[\"pa\"+j+\"_b\"+k+str(i)+'_16'] = df_2016.apply( lambda row: \n",
    "                                                          row[\"pa\"+j+\"_b\"+k+\"1_16\"] if (not np.isnan(row[\"pa\"+j+\"_b\"+k+\"1_16\"])) \n",
    "                                                          else row[\"pa\"+j+\"_b\"+k+str(i)+'_16'] , axis=1)\n",
    "for i in range(1,4):\n",
    "  for k in ['g', 'd']:\n",
    "    df_2016[\"poul\"+k+str(i)+\"_16\"] = df_2016.apply( lambda row: \n",
    "                                                   df_2015.loc[ df_2015.Id == row['Id'], \"poul\"+k+str(i)+\"_15\"].values[0] if (row['Id'] in df_2015.Id.values and np.isnan(row[\"poul\"+k+str(i)+\"_16\"])) else df_2017.loc[ df_2017.Id == row['Id'], \"poul\"+k+str(i)+\"_17\"].values[0]  if (row['Id'] in df_2017.Id.values and np.isnan(row[\"poul\"+k+str(i)+\"_16\"])) else row[\"poul\"+k+str(i)+\"_16\"], axis=1)\n",
    "\n",
    "df_2016[\"omi_godet_16\"] = df_2016.apply( lambda row: df_2017.loc[ df_2017.Id == row['Id'], \"omi_godet_17\"].values[0] if (row['Id'] in df_2017.Id.values and np.isnan(row[\"omi_godet_16\"])) else df_2015.loc[ df_2015.Id == row['Id'], \"omi_godet_15\"].values[0]  if (row['Id'] in df_2015.Id.values and np.isnan(row[\"omi_godet_16\"])) else row[\"omi_godet_16\"], axis=1)\n",
    "\n",
    "# Convert date string into date format for year 2019\n",
    "df_2019['ddn_19'] = df_2019.apply( lambda row: datetime.datetime.strptime(row['ddn_19'],'%Y-%m-%d') if \"-\" in str(row['ddn_19']) and not(\":\" in str(row['ddn_19'])) else row['ddn_19'] , axis=1)\n",
    "df_2019['inclusion_19'] = df_2019.apply( lambda row: datetime.datetime.strptime(row['inclusion_19'],'%Y-%m-%dT%H:%M:%S') if not isinstance(row['inclusion_19'], datetime.date) else row['inclusion_19'] , axis=1)\n",
    "\n",
    "# Recompute some parameters in year 2016 based other xls \n",
    "df_2019['age_19'] = df_2019.apply( lambda row: df_2017.loc[ df_2017.Id == row['Id'], 'age_17'].values[0] + 2 if row['Id'] in df_2017.Id.values else relativedelta(row['inclusion_19'],row['ddn_19']).years if not(row['ddn_19'] is pd.NaT) and not(row['inclusion_19'] is pd.NaT) else np.nan, axis=1)\n",
    "\n",
    "# Encoding of categorical string\n",
    "df_2019['dysp_repos_19'] = df_2019['dysp_repos_19'].map({'oui': 1, 'non': 0})\n",
    "df_2019['amp_mi_19'] = df_2019['amp_mi_19'].map({'oui': 1, 'non': 0})\n",
    "df_2019['amp_mi_sg_19'] = df_2019['amp_mi_sg_19'].map({'oui': 1, 'non': 0})\n",
    "df_2019['omi_19'] = df_2019['omi_19'].map({'oui': 1, 'non': 0})\n",
    "df_2019['omi_godet_19'] = df_2019['omi_godet_19'].map({'oui': 1, 'non': 0})\n",
    "\n"
   ]
  },
  {
   "cell_type": "markdown",
   "metadata": {
    "id": "IIDbrk03c7vl"
   },
   "source": [
    "The Idea is to do make an Evolution Rate Merging of the datasets.\n",
    "\n",
    "For that we have to select Individuals who has at least 2 samples.\n",
    "\n",
    "But we have to make sure that those individuals are not duplicated while doing a merge.\n",
    "\n",
    "Therefore the solution is to make first a temporary merge with 2 yearly datasets with only selected individuals before doing a final merge of all datasets."
   ]
  },
  {
   "cell_type": "code",
   "execution_count": null,
   "metadata": {
    "id": "NDG1L3NMzUkL"
   },
   "outputs": [],
   "source": [
    "import collections \n",
    "\n",
    "# Create a dictionnary of individuals for each year\n",
    "w_15 = collections.Counter(df_2015.Id.values)\n",
    "w_16 = collections.Counter(df_2016.Id.values)\n",
    "w_17 = collections.Counter(df_2017.Id.values)\n",
    "w_19 = collections.Counter(df_2019.Id.values)\n",
    "\n",
    "#merge_w = w_15+w_16+w_17+w_19\n",
    "#occ_1 = {k:v for k,v in merge_w.items() if v == 1}\n",
    "\n",
    "# List individuals present in 2019 and 2015\n",
    "l_19_15 = (w_15.keys()) & set(w_19.keys())\n",
    "# List individuals present in 2017 and 2016 exclusding previous list\n",
    "l_17_15 = (set(w_15.keys()) & set(w_17.keys())) - set(l_19_15)\n",
    "# List individuals present in 2019 and 2016 exclusding previous list\n",
    "l_19_16 = (set(w_19.keys()) & set(w_16.keys())) - set(l_19_15) - set(l_17_15)\n",
    "# List individuals present in 2019 and 2017 exclusding previous list\n",
    "l_19_17 = (set(w_19.keys()) & set(w_17.keys())) - set(l_19_15) - set(l_17_15) - set(l_19_16)\n",
    "# List individuals present in 2016 and 2017 exclusding previous list\n",
    "l_17_16 = (set(w_16.keys()) & set(w_17.keys())) - set(l_19_15) - set(l_17_15) - set(l_19_16) - set(l_19_17)\n",
    "# List individuals present in 2015 and 2016 exclusding previous list\n",
    "l_16_15 = (set(w_16.keys()) & set(w_15.keys())) - set(l_19_15) - set(l_17_15) - set(l_19_16) - set(l_19_17) - set(l_17_16)\n",
    "\n",
    "# There are 6 temporary datasets merge\n"
   ]
  },
  {
   "cell_type": "code",
   "execution_count": null,
   "metadata": {
    "id": "GsSEfLcAbEi5"
   },
   "outputs": [],
   "source": [
    "# Temporay merge between year 2019 and 2015\n",
    "df_merge_19_15 = pd.merge(df_2015, df_2019, how='inner', left_on='Id', right_on='Id')\n",
    "df_merge_19_15 = df_merge_19_15[df_merge_19_15['Id'].isin(l_19_15)]\n",
    "\n",
    "# Drop all the missing parameters (parameters not present in both datasets)  \n",
    "df_merge_19_15 = df_merge_19_15.drop(['Champ169', 'siege_omi_15', 'Typ_rep_19', 'nb_gross_19',\n",
    "       'HTA_gross_19', 'medoc_HTA_gross_19', 'date_fin_gross1st_19',\n",
    "       'date_fin_gross_dern_19', 'lieu_accouch_derng', 'piece_id_19', 'tour_hanch_19', 'amp_mi_sg_15', 'amp_mi_sg_19', 'creat_19', '_id', '_uuid'], axis=1)\n",
    "\n",
    "# Merge the temporary datasets with the status report xls dataset\n",
    "df_merge_19_15 = pd.merge(df_merge_19_15, df_results[['Id', \"Date\", \"Type d'évènement\", 'Age']], how='left')\n",
    "df_merge_19_15['Date'] = df_merge_19_15.apply( lambda row: datetime.datetime.strptime(row['Date'],'%d/%m/%Y') if not isinstance(row['Date'], datetime.date) and not np.isnan(row['Date']) and not(row['Date'] is pd.NaT) else row['Date'] , axis=1)\n",
    "df_merge_19_15.rename(columns = {\"Type d'évènement\":'event'}, inplace = True)\n",
    "\n",
    "# Compute missing parameter\n",
    "df_merge_19_15[\"sexe\"] = df_merge_19_15.apply( lambda row: row['sexe_15'] if (not np.isnan(row['sexe_15'])) else row['sexe_19'] , axis=1)\n",
    "df_merge_19_15 = df_merge_19_15.drop(['sexe_15', 'sexe_19'], axis=1)\n",
    "\n",
    "# Encode the status of the individual\n",
    "df_merge_19_15[\"event\"] = df_merge_19_15[\"event\"].map({'deces': 1, 'ICD': 2, 'AVC': 3, np.nan: 0})\n",
    "\n",
    "# Compute lifespan of the individual\n",
    "df_merge_19_15['lifespan'] = df_merge_19_15.apply( lambda row: relativedelta(row['Date'],row['inclusion_19']).years * 12 + relativedelta(row['Date'],row['inclusion_19']).months if not(row['Date'] is pd.NaT) and not(row['inclusion_19'] is pd.NaT) else 999, axis=1)\n",
    "\n",
    "# Compute relative time\n",
    "df_merge_19_15['time_diff'] = df_merge_19_15.apply( lambda row: relativedelta(row['inclusion_19'],row['inclusion_15']).years * 12 + relativedelta(row['inclusion_19'],row['inclusion_15']).months if not(row['inclusion_19'] is pd.NaT) and not(row['inclusion_15'] is pd.NaT) else 12*4, axis=1)\n",
    "\n",
    "# List all the individuals from the merged datasets\n",
    "rows = list(df_merge_19_15.Id.values)\n",
    "\n",
    "# List all parameters which evolution rates need to be computed\n",
    "cols = list(df_merge_19_15.columns.values)\n",
    "cols.pop(cols.index('Id'))\n",
    "cols.pop(cols.index('ddn_15'))\n",
    "cols.pop(cols.index('ddn_19'))\n",
    "cols.pop(cols.index('Date'))\n",
    "cols.pop(cols.index('Age'))\n",
    "cols.pop(cols.index('event'))\n",
    "cols.pop(cols.index(\"lifespan\"))\n",
    "cols = cols+['event','lifespan']\n",
    "df_merge_19_15 = df_merge_19_15[cols]\n",
    "\n",
    "# Convert all value to numerical\n",
    "for col in df_merge_19_15.columns:\n",
    "  df_merge_19_15[col] = pd.to_numeric(df_merge_19_15[col], errors='coerce')\n",
    "\n"
   ]
  },
  {
   "cell_type": "code",
   "execution_count": null,
   "metadata": {
    "id": "eWcjjO310-nJ"
   },
   "outputs": [],
   "source": [
    "from sklearn.impute import KNNImputer\n",
    "\n",
    "# Apply KNN imputation\n",
    "imputer = KNNImputer(n_neighbors=5)\n",
    "df_merge_19_15_filled = imputer.fit_transform(df_merge_19_15)\n",
    "\n",
    "# Recreate a Dataframe from Numpy array\n",
    "df_merge_19_15_filled = pd.DataFrame(data=df_merge_19_15_filled, index=rows, columns=cols)\n"
   ]
  },
  {
   "cell_type": "code",
   "execution_count": null,
   "metadata": {
    "id": "tvvfnXhhqovK"
   },
   "outputs": [],
   "source": [
    "# List of all the column which needs to be computed for evolution rate\n",
    "# and rename them with a consistent name\n",
    "modif_col_val = ['poids',\n",
    "       'tail', 'tour_tail', 'pas_bg1', 'pad_bg1', 'poulg1',\n",
    "       'pas_bg2', 'pad_bg2', 'poulg2', 'pas_bg3', 'pad_bg3',\n",
    "       'poulg3', 'pas_bd1', 'pad_bd2', 'pould1', 'pas_bd2',\n",
    "       'pould2', 'pas_bd3', 'pad_bd3', 'pould3',\n",
    "       'dysp_repos', 'amp_mi', 'omi',\n",
    "       'omi_godet', 'gly']\n",
    "\n",
    "# Column which does not need to be computed for evolution rate\n",
    "keep_col_val = ['age']"
   ]
  },
  {
   "cell_type": "code",
   "execution_count": null,
   "metadata": {
    "colab": {
     "base_uri": "https://localhost:8080/",
     "height": 85
    },
    "id": "qmLQWW1KAgPa",
    "outputId": "1f7d806b-1abb-43b9-bdda-40f7b6f08836"
   },
   "outputs": [
    {
     "name": "stderr",
     "output_type": "stream",
     "text": [
      "/usr/local/lib/python3.6/dist-packages/ipykernel_launcher.py:3: RuntimeWarning: invalid value encountered in double_scalars\n",
      "  This is separate from the ipykernel package so we can avoid doing imports until\n",
      "/usr/local/lib/python3.6/dist-packages/ipykernel_launcher.py:3: RuntimeWarning: divide by zero encountered in double_scalars\n",
      "  This is separate from the ipykernel package so we can avoid doing imports until\n"
     ]
    }
   ],
   "source": [
    "# Compute the evolution rate for each dedicated column\n",
    "for col in modif_col_val:\n",
    "  df_merge_19_15_filled[col] = df_merge_19_15_filled.apply( lambda row: ((int(row[col + '_19']) - int(row[col + '_15']))/row['time_diff'])/int(row[col + '_15']) , axis=1)\n",
    "\n",
    "# Select the value of parameter which does not need evolution rate computation\n",
    "for col in keep_col_val:\n",
    "  df_merge_19_15_filled[col] = df_merge_19_15_filled.apply( lambda row: max(row[col + '_19'], row[col + '_15']), axis=1)\n",
    "\n",
    "# Get the final temporary merged datasets\n",
    "df_merge_19_15_final = df_merge_19_15_filled[keep_col_val+modif_col_val+['event','lifespan']]\n"
   ]
  },
  {
   "cell_type": "code",
   "execution_count": null,
   "metadata": {
    "colab": {
     "base_uri": "https://localhost:8080/",
     "height": 224
    },
    "id": "9v51dswjWPYw",
    "outputId": "126b495e-3cdb-45d8-c4f8-50c03ea51332"
   },
   "outputs": [
    {
     "data": {
      "text/html": [
       "<div>\n",
       "<style scoped>\n",
       "    .dataframe tbody tr th:only-of-type {\n",
       "        vertical-align: middle;\n",
       "    }\n",
       "\n",
       "    .dataframe tbody tr th {\n",
       "        vertical-align: top;\n",
       "    }\n",
       "\n",
       "    .dataframe thead th {\n",
       "        text-align: right;\n",
       "    }\n",
       "</style>\n",
       "<table border=\"1\" class=\"dataframe\">\n",
       "  <thead>\n",
       "    <tr style=\"text-align: right;\">\n",
       "      <th></th>\n",
       "      <th>age</th>\n",
       "      <th>poids</th>\n",
       "      <th>tail</th>\n",
       "      <th>tour_tail</th>\n",
       "      <th>pas_bg1</th>\n",
       "      <th>pad_bg1</th>\n",
       "      <th>poulg1</th>\n",
       "      <th>pas_bg2</th>\n",
       "      <th>pad_bg2</th>\n",
       "      <th>poulg2</th>\n",
       "      <th>pas_bg3</th>\n",
       "      <th>pad_bg3</th>\n",
       "      <th>poulg3</th>\n",
       "      <th>pas_bd1</th>\n",
       "      <th>pad_bd2</th>\n",
       "      <th>pould1</th>\n",
       "      <th>pas_bd2</th>\n",
       "      <th>pould2</th>\n",
       "      <th>pas_bd3</th>\n",
       "      <th>pad_bd3</th>\n",
       "      <th>pould3</th>\n",
       "      <th>dysp_repos</th>\n",
       "      <th>amp_mi</th>\n",
       "      <th>omi</th>\n",
       "      <th>omi_godet</th>\n",
       "      <th>gly</th>\n",
       "      <th>event</th>\n",
       "      <th>lifespan</th>\n",
       "    </tr>\n",
       "  </thead>\n",
       "  <tbody>\n",
       "    <tr>\n",
       "      <th>10010101</th>\n",
       "      <td>39.0</td>\n",
       "      <td>0.001182</td>\n",
       "      <td>-0.000133</td>\n",
       "      <td>0.004255</td>\n",
       "      <td>0.000463</td>\n",
       "      <td>0.000000</td>\n",
       "      <td>0.003089</td>\n",
       "      <td>0.003415</td>\n",
       "      <td>0.000734</td>\n",
       "      <td>0.005409</td>\n",
       "      <td>-0.000443</td>\n",
       "      <td>0.002920</td>\n",
       "      <td>0.002026</td>\n",
       "      <td>-0.001915</td>\n",
       "      <td>0.002007</td>\n",
       "      <td>0.003139</td>\n",
       "      <td>-0.000229</td>\n",
       "      <td>0.006304</td>\n",
       "      <td>-0.001403</td>\n",
       "      <td>0.001252</td>\n",
       "      <td>0.001637</td>\n",
       "      <td>NaN</td>\n",
       "      <td>NaN</td>\n",
       "      <td>NaN</td>\n",
       "      <td>-0.021277</td>\n",
       "      <td>inf</td>\n",
       "      <td>0.0</td>\n",
       "      <td>999.0</td>\n",
       "    </tr>\n",
       "    <tr>\n",
       "      <th>10010102</th>\n",
       "      <td>47.0</td>\n",
       "      <td>0.003868</td>\n",
       "      <td>-0.000250</td>\n",
       "      <td>0.000239</td>\n",
       "      <td>-0.002249</td>\n",
       "      <td>-0.001680</td>\n",
       "      <td>-0.005127</td>\n",
       "      <td>-0.001995</td>\n",
       "      <td>-0.000546</td>\n",
       "      <td>-0.004358</td>\n",
       "      <td>-0.002231</td>\n",
       "      <td>-0.004203</td>\n",
       "      <td>-0.006216</td>\n",
       "      <td>-0.000709</td>\n",
       "      <td>0.002128</td>\n",
       "      <td>-0.005127</td>\n",
       "      <td>0.000570</td>\n",
       "      <td>-0.006147</td>\n",
       "      <td>-0.000185</td>\n",
       "      <td>0.005404</td>\n",
       "      <td>-0.001850</td>\n",
       "      <td>NaN</td>\n",
       "      <td>NaN</td>\n",
       "      <td>NaN</td>\n",
       "      <td>-0.021277</td>\n",
       "      <td>inf</td>\n",
       "      <td>0.0</td>\n",
       "      <td>999.0</td>\n",
       "    </tr>\n",
       "    <tr>\n",
       "      <th>10010201</th>\n",
       "      <td>53.0</td>\n",
       "      <td>-0.002128</td>\n",
       "      <td>-0.000143</td>\n",
       "      <td>0.000000</td>\n",
       "      <td>-0.003485</td>\n",
       "      <td>0.000322</td>\n",
       "      <td>-0.001252</td>\n",
       "      <td>-0.002167</td>\n",
       "      <td>0.001013</td>\n",
       "      <td>-0.001489</td>\n",
       "      <td>-0.001824</td>\n",
       "      <td>0.001395</td>\n",
       "      <td>-0.000665</td>\n",
       "      <td>-0.001101</td>\n",
       "      <td>-0.004465</td>\n",
       "      <td>-0.002128</td>\n",
       "      <td>-0.001506</td>\n",
       "      <td>-0.001489</td>\n",
       "      <td>-0.001193</td>\n",
       "      <td>0.003246</td>\n",
       "      <td>-0.001954</td>\n",
       "      <td>NaN</td>\n",
       "      <td>NaN</td>\n",
       "      <td>NaN</td>\n",
       "      <td>-0.021277</td>\n",
       "      <td>inf</td>\n",
       "      <td>0.0</td>\n",
       "      <td>999.0</td>\n",
       "    </tr>\n",
       "    <tr>\n",
       "      <th>10060101</th>\n",
       "      <td>92.0</td>\n",
       "      <td>0.000443</td>\n",
       "      <td>-0.000268</td>\n",
       "      <td>0.003163</td>\n",
       "      <td>-0.001193</td>\n",
       "      <td>0.004327</td>\n",
       "      <td>-0.004255</td>\n",
       "      <td>0.001719</td>\n",
       "      <td>-0.006404</td>\n",
       "      <td>-0.002690</td>\n",
       "      <td>0.000000</td>\n",
       "      <td>0.009635</td>\n",
       "      <td>-0.003203</td>\n",
       "      <td>-0.000843</td>\n",
       "      <td>0.002524</td>\n",
       "      <td>-0.001520</td>\n",
       "      <td>0.003238</td>\n",
       "      <td>-0.001001</td>\n",
       "      <td>0.002081</td>\n",
       "      <td>0.009787</td>\n",
       "      <td>-0.002974</td>\n",
       "      <td>NaN</td>\n",
       "      <td>NaN</td>\n",
       "      <td>NaN</td>\n",
       "      <td>-0.021277</td>\n",
       "      <td>inf</td>\n",
       "      <td>0.0</td>\n",
       "      <td>999.0</td>\n",
       "    </tr>\n",
       "    <tr>\n",
       "      <th>10060401</th>\n",
       "      <td>71.0</td>\n",
       "      <td>-0.002503</td>\n",
       "      <td>0.000734</td>\n",
       "      <td>0.000000</td>\n",
       "      <td>-0.000289</td>\n",
       "      <td>0.004495</td>\n",
       "      <td>-0.002418</td>\n",
       "      <td>0.007023</td>\n",
       "      <td>0.004910</td>\n",
       "      <td>0.016076</td>\n",
       "      <td>-0.001478</td>\n",
       "      <td>0.004380</td>\n",
       "      <td>-0.001732</td>\n",
       "      <td>0.002285</td>\n",
       "      <td>0.003001</td>\n",
       "      <td>-0.001025</td>\n",
       "      <td>0.002428</td>\n",
       "      <td>0.014657</td>\n",
       "      <td>0.002461</td>\n",
       "      <td>0.004728</td>\n",
       "      <td>-0.003347</td>\n",
       "      <td>NaN</td>\n",
       "      <td>NaN</td>\n",
       "      <td>NaN</td>\n",
       "      <td>-0.021277</td>\n",
       "      <td>1.914894</td>\n",
       "      <td>0.0</td>\n",
       "      <td>999.0</td>\n",
       "    </tr>\n",
       "  </tbody>\n",
       "</table>\n",
       "</div>"
      ],
      "text/plain": [
       "           age     poids      tail  ...       gly  event  lifespan\n",
       "10010101  39.0  0.001182 -0.000133  ...       inf    0.0     999.0\n",
       "10010102  47.0  0.003868 -0.000250  ...       inf    0.0     999.0\n",
       "10010201  53.0 -0.002128 -0.000143  ...       inf    0.0     999.0\n",
       "10060101  92.0  0.000443 -0.000268  ...       inf    0.0     999.0\n",
       "10060401  71.0 -0.002503  0.000734  ...  1.914894    0.0     999.0\n",
       "\n",
       "[5 rows x 28 columns]"
      ]
     },
     "execution_count": 9,
     "metadata": {
      "tags": []
     },
     "output_type": "execute_result"
    }
   ],
   "source": [
    "df_merge_19_15_final.head()"
   ]
  },
  {
   "cell_type": "code",
   "execution_count": null,
   "metadata": {
    "colab": {
     "base_uri": "https://localhost:8080/",
     "height": 51
    },
    "id": "PIcuzQkBNAK6",
    "outputId": "27020c82-e259-46ac-f972-1c9747a84b3e"
   },
   "outputs": [
    {
     "name": "stderr",
     "output_type": "stream",
     "text": [
      "/usr/local/lib/python3.6/dist-packages/ipykernel_launcher.py:39: RuntimeWarning: invalid value encountered in double_scalars\n",
      "/usr/local/lib/python3.6/dist-packages/ipykernel_launcher.py:39: RuntimeWarning: divide by zero encountered in double_scalars\n"
     ]
    }
   ],
   "source": [
    "df_merge_17_15 = pd.merge(df_2015, df_2017, how='inner', left_on='Id', right_on='Id')\n",
    "df_merge_17_15 = df_merge_17_15[df_merge_17_15['Id'].isin(l_17_15)]\n",
    "\n",
    "df_merge_17_15 = df_merge_17_15.drop(['Champ169', 'siege_omi_15', 'today_17', 'siege_omi_17', 'siege_omi_15', 'amp_mi_sg_15', 'amp_mi_sg_17'], axis=1)\n",
    "\n",
    "df_merge_17_15 = pd.merge(df_merge_17_15, df_results[['Id', \"Date\", \"Type d'évènement\", 'Age']], how='left')\n",
    "df_merge_17_15['Date'] = df_merge_17_15.apply( lambda row: datetime.datetime.strptime(row['Date'],'%d/%m/%Y') if not isinstance(row['Date'], datetime.date) and not np.isnan(row['Date']) and not(row['Date'] is pd.NaT) else row['Date'] , axis=1)\n",
    "df_merge_17_15.rename(columns = {\"Type d'évènement\":'event'}, inplace = True)\n",
    "\n",
    "df_merge_17_15[\"sexe\"] = df_merge_17_15.apply( lambda row: row['sexe_15'] if (not np.isnan(row['sexe_15'])) else row['sexe_17'] , axis=1)\n",
    "df_merge_17_15 = df_merge_17_15.drop(['sexe_15', 'sexe_17'], axis=1)\n",
    "\n",
    "df_merge_17_15['time_diff'] = df_merge_17_15.apply( lambda row: relativedelta(row['inclusion_17'],row['inclusion_15']).years * 12 + relativedelta(row['inclusion_17'],row['inclusion_15']).months if not(row['inclusion_17'] is pd.NaT) and not(row['inclusion_15'] is pd.NaT) else 12*2, axis=1)\n",
    "\n",
    "df_merge_17_15[\"event\"] = df_merge_17_15[\"event\"].map({'deces': 1, 'ICD': 2, 'AVC': 3, np.nan: 0})\n",
    "df_merge_17_15['lifespan'] = df_merge_17_15.apply( lambda row: relativedelta(row['Date'],row['inclusion_17']).years * 12 + relativedelta(row['Date'],row['inclusion_17']).months if not(row['Date'] is pd.NaT) and not(row['inclusion_17'] is pd.NaT) else 999, axis=1)\n",
    "\n",
    "\n",
    "cols = list(df_merge_17_15.columns.values)\n",
    "rows = list(df_merge_17_15.Id.values)\n",
    "cols.pop(cols.index('Id'))\n",
    "cols.pop(cols.index('ddn_15'))\n",
    "cols.pop(cols.index('ddn_17'))\n",
    "cols.pop(cols.index('Date'))\n",
    "cols.pop(cols.index('Age'))\n",
    "cols.pop(cols.index('event'))\n",
    "cols.pop(cols.index(\"lifespan\"))\n",
    "cols = cols+['event','lifespan']\n",
    "df_merge_17_15 = df_merge_17_15[cols]\n",
    "\n",
    "for col in df_merge_17_15.columns:\n",
    "  df_merge_17_15[col] = pd.to_numeric(df_merge_17_15[col], errors='coerce')\n",
    "\n",
    "imputer = KNNImputer(n_neighbors=5)\n",
    "df_merge_17_15_filled = imputer.fit_transform(df_merge_17_15)\n",
    "df_merge_17_15_filled = pd.DataFrame(data=df_merge_17_15_filled, index=rows, columns=cols)\n",
    "\n",
    "for col in modif_col_val:\n",
    "  df_merge_17_15_filled[col] = df_merge_17_15_filled.apply( lambda row: ((int(row[col + '_17']) - int(row[col + '_15']))/row['time_diff'])/int(row[col + '_15']) , axis=1)\n",
    "\n",
    "for col in keep_col_val:\n",
    "  df_merge_17_15_filled[col] = df_merge_17_15_filled.apply( lambda row: max(row[col + '_17'], row[col + '_15']), axis=1)\n",
    "\n",
    "df_merge_17_15_final = df_merge_17_15_filled[keep_col_val+modif_col_val+['event','lifespan']]\n"
   ]
  },
  {
   "cell_type": "code",
   "execution_count": null,
   "metadata": {
    "colab": {
     "base_uri": "https://localhost:8080/",
     "height": 51
    },
    "id": "X0HYvEmbTe_L",
    "outputId": "15aad69a-3985-4253-9abb-a37f5fac27ef"
   },
   "outputs": [
    {
     "name": "stderr",
     "output_type": "stream",
     "text": [
      "/usr/local/lib/python3.6/dist-packages/ipykernel_launcher.py:42: RuntimeWarning: invalid value encountered in double_scalars\n",
      "/usr/local/lib/python3.6/dist-packages/ipykernel_launcher.py:42: RuntimeWarning: divide by zero encountered in double_scalars\n"
     ]
    }
   ],
   "source": [
    "df_merge_19_16 = pd.merge(df_2016, df_2019, how='inner', left_on='Id', right_on='Id')\n",
    "df_merge_19_16 = df_merge_19_16[df_merge_19_16['Id'].isin(l_19_16)]\n",
    "\n",
    "df_merge_19_16 = df_merge_19_16.drop(['siege_omi_16', 'Typ_rep_19', 'nb_gross_19', 'today_16',\n",
    "       'HTA_gross_19', 'medoc_HTA_gross_19', 'date_fin_gross1st_19',\n",
    "       'date_fin_gross_dern_19', 'lieu_accouch_derng', 'piece_id_19', 'tour_hanch_19', 'amp_mi_sg_16', 'amp_mi_sg_19', 'creat_19', '_id', '_uuid'], axis=1)\n",
    "\n",
    "df_merge_19_16 = pd.merge(df_merge_19_16, df_results[['Id', \"Date\", \"Type d'évènement\", 'Age']], how='left')\n",
    "df_merge_19_16['Date'] = df_merge_19_16.apply( lambda row: datetime.datetime.strptime(row['Date'],'%d/%m/%Y') if not isinstance(row['Date'], datetime.date) and not np.isnan(row['Date']) and not(row['Date'] is pd.NaT) else row['Date'] , axis=1)\n",
    "df_merge_19_16.rename(columns = {\"Type d'évènement\":'event'}, inplace = True)\n",
    "\n",
    "df_merge_19_16[\"sexe\"] = df_merge_19_16.apply( lambda row: row['sexe_16'] if (not np.isnan(row['sexe_16'])) else row['sexe_19'] , axis=1)\n",
    "df_merge_19_16 = df_merge_19_16.drop(['sexe_16', 'sexe_19'], axis=1)\n",
    "\n",
    "df_merge_19_16['time_diff'] = df_merge_19_16.apply( lambda row: relativedelta(row['inclusion_19'],row['inclusion_16']).years * 12 + relativedelta(row['inclusion_19'],row['inclusion_16']).months if not(row['inclusion_19'] is pd.NaT) and not(row['inclusion_16'] is pd.NaT) else 12*3, axis=1)\n",
    "\n",
    "df_merge_19_16[\"event\"] = df_merge_19_16[\"event\"].map({'deces': 1, 'ICD': 2, 'AVC': 3, np.nan: 0})\n",
    "df_merge_19_16['lifespan'] = df_merge_19_16.apply( lambda row: relativedelta(row['Date'],row['inclusion_19']).years * 12 + relativedelta(row['Date'],row['inclusion_19']).months if not(row['Date'] is pd.NaT) and not(row['inclusion_19'] is pd.NaT) else 999, axis=1)\n",
    "\n",
    "cols = list(df_merge_19_16.columns.values)\n",
    "rows = list(df_merge_19_16.Id.values)\n",
    "cols.pop(cols.index('Id'))\n",
    "cols.pop(cols.index('ddn_16'))\n",
    "cols.pop(cols.index('ddn_19'))\n",
    "cols.pop(cols.index('Date'))\n",
    "cols.pop(cols.index('Age'))\n",
    "cols.pop(cols.index('event'))\n",
    "cols.pop(cols.index(\"lifespan\"))\n",
    "cols = cols+['event','lifespan']\n",
    "df_merge_19_16 = df_merge_19_16[cols]\n",
    "\n",
    "for col in df_merge_19_16.columns:\n",
    "  df_merge_19_16[col] = pd.to_numeric(df_merge_19_16[col], errors='coerce')\n",
    "\n",
    "from sklearn.impute import KNNImputer\n",
    "\n",
    "imputer = KNNImputer(n_neighbors=5)\n",
    "df_merge_19_16_filled = imputer.fit_transform(df_merge_19_16)\n",
    "df_merge_19_16_filled = pd.DataFrame(data=df_merge_19_16_filled, index=rows, columns=cols)\n",
    "\n",
    "for col in modif_col_val:\n",
    "  df_merge_19_16_filled[col] = df_merge_19_16_filled.apply( lambda row: ((int(row[col + '_19']) - int(row[col + '_16']))/row['time_diff'])/int(row[col + '_16']) , axis=1)\n",
    "\n",
    "for col in keep_col_val:\n",
    "  df_merge_19_16_filled[col] = df_merge_19_16_filled.apply( lambda row: max(row[col + '_19'], row[col + '_16']), axis=1)\n",
    "\n",
    "df_merge_19_16_final = df_merge_19_16_filled[keep_col_val+modif_col_val+['event','lifespan']]\n"
   ]
  },
  {
   "cell_type": "code",
   "execution_count": null,
   "metadata": {
    "colab": {
     "base_uri": "https://localhost:8080/",
     "height": 51
    },
    "id": "iaiv4btQjFw0",
    "outputId": "1da6577d-0254-456f-e303-dc6a43b3805f"
   },
   "outputs": [
    {
     "name": "stderr",
     "output_type": "stream",
     "text": [
      "/usr/local/lib/python3.6/dist-packages/ipykernel_launcher.py:47: RuntimeWarning: divide by zero encountered in double_scalars\n",
      "/usr/local/lib/python3.6/dist-packages/ipykernel_launcher.py:47: RuntimeWarning: invalid value encountered in double_scalars\n"
     ]
    }
   ],
   "source": [
    "\n",
    "df_merge_19_17 = pd.merge(df_2017, df_2019, how='inner', left_on='Id', right_on='Id')\n",
    "df_merge_19_17 = df_merge_19_17[df_merge_19_17['Id'].isin(l_19_17)]\n",
    "\n",
    "df_merge_19_17 = df_merge_19_17.drop(['siege_omi_17', 'Typ_rep_19', 'nb_gross_19', 'today_17',\n",
    "       'HTA_gross_19', 'medoc_HTA_gross_19', 'date_fin_gross1st_19',\n",
    "       'date_fin_gross_dern_19', 'lieu_accouch_derng', 'piece_id_19', 'tour_hanch_19', 'amp_mi_sg_17', 'amp_mi_sg_19', 'creat_19', '_id', '_uuid'], axis=1)\n",
    "\n",
    "df_merge_19_17 = pd.merge(df_merge_19_17, df_results[['Id', \"Date\", \"Type d'évènement\", 'Age']], how='left')\n",
    "df_merge_19_17['Date'] = df_merge_19_17.apply( lambda row: datetime.datetime.strptime(row['Date'],'%d/%m/%Y') if not isinstance(row['Date'], datetime.date) and not np.isnan(row['Date']) and not(row['Date'] is pd.NaT) else row['Date'] , axis=1)\n",
    "df_merge_19_17.rename(columns = {\"Type d'évènement\":'event'}, inplace = True)\n",
    "\n",
    "df_merge_19_17[\"sexe\"] = df_merge_19_17.apply( lambda row: row['sexe_17'] if (not np.isnan(row['sexe_17'])) else row['sexe_19'] , axis=1)\n",
    "df_merge_19_17 = df_merge_19_17.drop(['sexe_17', 'sexe_19'], axis=1)\n",
    "\n",
    "df_merge_19_17['time_diff'] = df_merge_19_17.apply( lambda row: relativedelta(row['inclusion_19'],row['inclusion_17']).years * 12 + relativedelta(row['inclusion_19'],row['inclusion_17']).months if not(row['inclusion_19'] is pd.NaT) and not(row['inclusion_17'] is pd.NaT) else 12*2, axis=1)\n",
    "\n",
    "df_merge_19_17[\"event\"] = df_merge_19_17[\"event\"].map({'deces': 1, 'ICD': 2, 'AVC': 3, np.nan: 0})\n",
    "df_merge_19_17['lifespan'] = df_merge_19_17.apply( lambda row: relativedelta(row['Date'],row['inclusion_19']).years * 12 + relativedelta(row['Date'],row['inclusion_19']).months if not(row['Date'] is pd.NaT) and not(row['inclusion_19'] is pd.NaT) else 999, axis=1)\n",
    "\n",
    "#df_merge_19_17 = df_all_result.drop(1553)\n",
    "#df_merge_19_17.head(n=10)\n",
    "\n",
    "cols = list(df_merge_19_17.columns.values)\n",
    "rows = list(df_merge_19_17.Id.values)\n",
    "cols.pop(cols.index('Id'))\n",
    "cols.pop(cols.index('ddn_17'))\n",
    "cols.pop(cols.index('ddn_19'))\n",
    "cols.pop(cols.index('Date'))\n",
    "cols.pop(cols.index('Age'))\n",
    "cols.pop(cols.index('event'))\n",
    "cols.pop(cols.index(\"lifespan\"))\n",
    "cols = cols+['event','lifespan']\n",
    "df_merge_19_17 = df_merge_19_17[cols]\n",
    "\n",
    "for col in df_merge_19_17.columns:\n",
    "  df_merge_19_17[col] = pd.to_numeric(df_merge_19_17[col], errors='coerce')\n",
    "\n",
    "from sklearn.impute import KNNImputer\n",
    "\n",
    "imputer = KNNImputer(n_neighbors=5)\n",
    "df_merge_19_17_filled = imputer.fit_transform(df_merge_19_17)\n",
    "#df_all_result.head(n=10)\n",
    "df_merge_19_17_filled = pd.DataFrame(data=df_merge_19_17_filled, index=rows, columns=cols)\n",
    "\n",
    "for col in modif_col_val:\n",
    "  df_merge_19_17_filled[col] = df_merge_19_17_filled.apply( lambda row: ((int(row[col + '_19']) - int(row[col + '_17']))/row['time_diff'])/int(row[col + '_17']) , axis=1)\n",
    "\n",
    "for col in keep_col_val:\n",
    "  df_merge_19_17_filled[col] = df_merge_19_17_filled.apply( lambda row: max(row[col + '_19'], row[col + '_17']), axis=1)\n",
    "\n",
    "df_merge_19_17_final = df_merge_19_17_filled[keep_col_val+modif_col_val+['event','lifespan']]\n"
   ]
  },
  {
   "cell_type": "code",
   "execution_count": null,
   "metadata": {
    "colab": {
     "base_uri": "https://localhost:8080/",
     "height": 51
    },
    "id": "PHc67dMWkfsm",
    "outputId": "e1e8cb6b-d7c4-4ed0-8ed8-ac5f0b78bdea"
   },
   "outputs": [
    {
     "name": "stderr",
     "output_type": "stream",
     "text": [
      "/usr/local/lib/python3.6/dist-packages/ipykernel_launcher.py:39: RuntimeWarning: divide by zero encountered in double_scalars\n",
      "/usr/local/lib/python3.6/dist-packages/ipykernel_launcher.py:39: RuntimeWarning: invalid value encountered in double_scalars\n"
     ]
    }
   ],
   "source": [
    "df_merge_17_16 = pd.merge(df_2016, df_2017, how='inner', left_on='Id', right_on='Id')\n",
    "df_merge_17_16 = df_merge_17_16[df_merge_17_16['Id'].isin(l_17_16)]\n",
    "\n",
    "df_merge_17_16 = df_merge_17_16.drop(['siege_omi_16', 'today_16', 'today_17', 'siege_omi_17', 'siege_omi_17', 'amp_mi_sg_16', 'amp_mi_sg_17'], axis=1)\n",
    "\n",
    "df_merge_17_16 = pd.merge(df_merge_17_16, df_results[['Id', \"Date\", \"Type d'évènement\", 'Age']], how='left')\n",
    "df_merge_17_16['Date'] = df_merge_17_16.apply( lambda row: datetime.datetime.strptime(row['Date'],'%d/%m/%Y') if not isinstance(row['Date'], datetime.date) and not np.isnan(row['Date']) and not(row['Date'] is pd.NaT) else row['Date'] , axis=1)\n",
    "df_merge_17_16.rename(columns = {\"Type d'évènement\":'event'}, inplace = True)\n",
    "\n",
    "df_merge_17_16[\"sexe\"] = df_merge_17_16.apply( lambda row: row['sexe_16'] if (not np.isnan(row['sexe_16'])) else row['sexe_17'] , axis=1)\n",
    "df_merge_17_16 = df_merge_17_16.drop(['sexe_16', 'sexe_17'], axis=1)\n",
    "\n",
    "df_merge_17_16['time_diff'] = df_merge_17_16.apply( lambda row: relativedelta(row['inclusion_17'],row['inclusion_16']).years * 12 + relativedelta(row['inclusion_17'],row['inclusion_16']).months if not(row['inclusion_17'] is pd.NaT) and not(row['inclusion_16'] is pd.NaT) else 12, axis=1)\n",
    "\n",
    "df_merge_17_16[\"event\"] = df_merge_17_16[\"event\"].map({'deces': 1, 'ICD': 2, 'AVC': 3, np.nan: 0})\n",
    "df_merge_17_16['lifespan'] = df_merge_17_16.apply( lambda row: relativedelta(row['Date'],row['inclusion_17']).years * 12 + relativedelta(row['Date'],row['inclusion_17']).months if not(row['Date'] is pd.NaT) and not(row['inclusion_17'] is pd.NaT) else 999, axis=1)\n",
    "\n",
    "\n",
    "cols = list(df_merge_17_16.columns.values)\n",
    "rows = list(df_merge_17_16.Id.values)\n",
    "cols.pop(cols.index('Id'))\n",
    "cols.pop(cols.index('ddn_16'))\n",
    "cols.pop(cols.index('ddn_17'))\n",
    "cols.pop(cols.index('Date'))\n",
    "cols.pop(cols.index('Age'))\n",
    "cols.pop(cols.index('event'))\n",
    "cols.pop(cols.index(\"lifespan\"))\n",
    "cols = cols+['event','lifespan']\n",
    "df_merge_17_16 = df_merge_17_16[cols]\n",
    "\n",
    "for col in df_merge_17_16.columns:\n",
    "  df_merge_17_16[col] = pd.to_numeric(df_merge_17_16[col], errors='coerce')\n",
    "\n",
    "imputer = KNNImputer(n_neighbors=5)\n",
    "df_merge_17_16_filled = imputer.fit_transform(df_merge_17_16)\n",
    "df_merge_17_16_filled = pd.DataFrame(data=df_merge_17_16_filled, index=rows, columns=cols)\n",
    "\n",
    "for col in modif_col_val:\n",
    "  df_merge_17_16_filled[col] = df_merge_17_16_filled.apply( lambda row: ((int(row[col + '_17']) - int(row[col + '_16']))/row['time_diff'])/int(row[col + '_16']) , axis=1)\n",
    "\n",
    "for col in keep_col_val:\n",
    "  df_merge_17_16_filled[col] = df_merge_17_16_filled.apply( lambda row: max(row[col + '_17'], row[col + '_16']), axis=1)\n",
    "\n",
    "df_merge_17_16_final = df_merge_17_16_filled[keep_col_val+modif_col_val+['event','lifespan']]\n"
   ]
  },
  {
   "cell_type": "code",
   "execution_count": null,
   "metadata": {
    "colab": {
     "base_uri": "https://localhost:8080/",
     "height": 51
    },
    "id": "ev8d1jEomIax",
    "outputId": "3cf6d792-ec11-4372-8e56-978c620aa43b"
   },
   "outputs": [
    {
     "name": "stderr",
     "output_type": "stream",
     "text": [
      "/usr/local/lib/python3.6/dist-packages/ipykernel_launcher.py:41: RuntimeWarning: invalid value encountered in double_scalars\n",
      "/usr/local/lib/python3.6/dist-packages/ipykernel_launcher.py:41: RuntimeWarning: divide by zero encountered in double_scalars\n"
     ]
    }
   ],
   "source": [
    "df_2016[\"omi_godet_16\"] = df_2016.apply( lambda row: df_2017.loc[ df_2017.Id == row['Id'], \"omi_godet_17\"].values[0] if (row['Id'] in df_2017.Id.values and np.isnan(row[\"omi_godet_16\"])) else df_2015.loc[ df_2015.Id == row['Id'], \"omi_godet_15\"].values[0]  if (row['Id'] in df_2015.Id.values and np.isnan(row[\"omi_godet_16\"])) else row[\"omi_godet_16\"], axis=1)\n",
    "\n",
    "df_merge_16_15 = pd.merge(df_2016, df_2015, how='inner', left_on='Id', right_on='Id')\n",
    "df_merge_16_15 = df_merge_16_15[df_merge_16_15['Id'].isin(l_16_15)]\n",
    "\n",
    "df_merge_16_15 = df_merge_16_15.drop(['Champ169', 'siege_omi_15', 'today_16', 'siege_omi_16', 'siege_omi_15', 'amp_mi_sg_15', 'amp_mi_sg_16'], axis=1)\n",
    "\n",
    "df_merge_16_15 = pd.merge(df_merge_16_15, df_results[['Id', \"Date\", \"Type d'évènement\", 'Age']], how='left')\n",
    "df_merge_16_15['Date'] = df_merge_16_15.apply( lambda row: datetime.datetime.strptime(row['Date'],'%d/%m/%Y') if not isinstance(row['Date'], datetime.date) and not np.isnan(row['Date']) and not(row['Date'] is pd.NaT) else row['Date'] , axis=1)\n",
    "df_merge_16_15.rename(columns = {\"Type d'évènement\":'event'}, inplace = True)\n",
    "\n",
    "df_merge_16_15[\"sexe\"] = df_merge_16_15.apply( lambda row: row['sexe_15'] if (not np.isnan(row['sexe_15'])) else row['sexe_16'] , axis=1)\n",
    "df_merge_16_15 = df_merge_16_15.drop(['sexe_15', 'sexe_16'], axis=1)\n",
    "\n",
    "df_merge_16_15['time_diff'] = df_merge_16_15.apply( lambda row: relativedelta(row['inclusion_16'],row['inclusion_15']).years * 12 + relativedelta(row['inclusion_16'],row['inclusion_15']).months if not(row['inclusion_16'] is pd.NaT) and not(row['inclusion_15'] is pd.NaT) else 12, axis=1)\n",
    "\n",
    "df_merge_16_15[\"event\"] = df_merge_16_15[\"event\"].map({'deces': 1, 'ICD': 2, 'AVC': 3, np.nan: 0})\n",
    "df_merge_16_15['lifespan'] = df_merge_16_15.apply( lambda row: relativedelta(row['Date'],row['inclusion_16']).years * 12 + relativedelta(row['Date'],row['inclusion_16']).months if not(row['Date'] is pd.NaT) and not(row['inclusion_16'] is pd.NaT) else 999, axis=1)\n",
    "\n",
    "\n",
    "cols = list(df_merge_16_15.columns.values)\n",
    "rows = list(df_merge_16_15.Id.values)\n",
    "cols.pop(cols.index('Id'))\n",
    "cols.pop(cols.index('ddn_15'))\n",
    "cols.pop(cols.index('ddn_16'))\n",
    "cols.pop(cols.index('Date'))\n",
    "cols.pop(cols.index('Age'))\n",
    "cols.pop(cols.index('event'))\n",
    "cols.pop(cols.index(\"lifespan\"))\n",
    "cols = cols+['event','lifespan']\n",
    "df_merge_16_15 = df_merge_16_15[cols]\n",
    "\n",
    "for col in df_merge_16_15.columns:\n",
    "  df_merge_16_15[col] = pd.to_numeric(df_merge_16_15[col], errors='coerce')\n",
    "\n",
    "imputer = KNNImputer(n_neighbors=5)\n",
    "df_merge_16_15_filled = imputer.fit_transform(df_merge_16_15)\n",
    "df_merge_16_15_filled = pd.DataFrame(data=df_merge_16_15_filled, index=rows, columns=cols)\n",
    "\n",
    "for col in modif_col_val:\n",
    "  df_merge_16_15_filled[col] = df_merge_16_15_filled.apply( lambda row: ((int(row[col + '_16']) - int(row[col + '_15']))/row['time_diff'])/int(row[col + '_15']) , axis=1)\n",
    "\n",
    "for col in keep_col_val:\n",
    "  df_merge_16_15_filled[col] = df_merge_16_15_filled.apply( lambda row: max(row[col + '_16'], row[col + '_15']), axis=1)\n",
    "\n",
    "df_merge_16_15_final = df_merge_16_15_filled[keep_col_val+modif_col_val+['event','lifespan']]\n"
   ]
  },
  {
   "cell_type": "code",
   "execution_count": null,
   "metadata": {
    "colab": {
     "base_uri": "https://localhost:8080/",
     "height": 224
    },
    "id": "X_8zDnOnrxie",
    "outputId": "37d01523-2c9b-48dc-81d9-d48508c804e3"
   },
   "outputs": [
    {
     "data": {
      "text/html": [
       "<div>\n",
       "<style scoped>\n",
       "    .dataframe tbody tr th:only-of-type {\n",
       "        vertical-align: middle;\n",
       "    }\n",
       "\n",
       "    .dataframe tbody tr th {\n",
       "        vertical-align: top;\n",
       "    }\n",
       "\n",
       "    .dataframe thead th {\n",
       "        text-align: right;\n",
       "    }\n",
       "</style>\n",
       "<table border=\"1\" class=\"dataframe\">\n",
       "  <thead>\n",
       "    <tr style=\"text-align: right;\">\n",
       "      <th></th>\n",
       "      <th>age</th>\n",
       "      <th>poids</th>\n",
       "      <th>tail</th>\n",
       "      <th>tour_tail</th>\n",
       "      <th>pas_bg1</th>\n",
       "      <th>pad_bg1</th>\n",
       "      <th>poulg1</th>\n",
       "      <th>pas_bg2</th>\n",
       "      <th>pad_bg2</th>\n",
       "      <th>poulg2</th>\n",
       "      <th>pas_bg3</th>\n",
       "      <th>pad_bg3</th>\n",
       "      <th>poulg3</th>\n",
       "      <th>pas_bd1</th>\n",
       "      <th>pad_bd2</th>\n",
       "      <th>pould1</th>\n",
       "      <th>pas_bd2</th>\n",
       "      <th>pould2</th>\n",
       "      <th>pas_bd3</th>\n",
       "      <th>pad_bd3</th>\n",
       "      <th>pould3</th>\n",
       "      <th>dysp_repos</th>\n",
       "      <th>amp_mi</th>\n",
       "      <th>omi</th>\n",
       "      <th>omi_godet</th>\n",
       "      <th>gly</th>\n",
       "      <th>event</th>\n",
       "      <th>lifespan</th>\n",
       "    </tr>\n",
       "  </thead>\n",
       "  <tbody>\n",
       "    <tr>\n",
       "      <th>10010101</th>\n",
       "      <td>39.0</td>\n",
       "      <td>0.001182</td>\n",
       "      <td>-0.000133</td>\n",
       "      <td>0.004255</td>\n",
       "      <td>0.000463</td>\n",
       "      <td>0.000000</td>\n",
       "      <td>0.003089</td>\n",
       "      <td>0.003415</td>\n",
       "      <td>0.000734</td>\n",
       "      <td>0.005409</td>\n",
       "      <td>-0.000443</td>\n",
       "      <td>0.002920</td>\n",
       "      <td>0.002026</td>\n",
       "      <td>-0.001915</td>\n",
       "      <td>0.002007</td>\n",
       "      <td>0.003139</td>\n",
       "      <td>-0.000229</td>\n",
       "      <td>0.006304</td>\n",
       "      <td>-0.001403</td>\n",
       "      <td>0.001252</td>\n",
       "      <td>0.001637</td>\n",
       "      <td>NaN</td>\n",
       "      <td>NaN</td>\n",
       "      <td>NaN</td>\n",
       "      <td>-0.021277</td>\n",
       "      <td>inf</td>\n",
       "      <td>0.0</td>\n",
       "      <td>999.0</td>\n",
       "    </tr>\n",
       "    <tr>\n",
       "      <th>10010102</th>\n",
       "      <td>47.0</td>\n",
       "      <td>0.003868</td>\n",
       "      <td>-0.000250</td>\n",
       "      <td>0.000239</td>\n",
       "      <td>-0.002249</td>\n",
       "      <td>-0.001680</td>\n",
       "      <td>-0.005127</td>\n",
       "      <td>-0.001995</td>\n",
       "      <td>-0.000546</td>\n",
       "      <td>-0.004358</td>\n",
       "      <td>-0.002231</td>\n",
       "      <td>-0.004203</td>\n",
       "      <td>-0.006216</td>\n",
       "      <td>-0.000709</td>\n",
       "      <td>0.002128</td>\n",
       "      <td>-0.005127</td>\n",
       "      <td>0.000570</td>\n",
       "      <td>-0.006147</td>\n",
       "      <td>-0.000185</td>\n",
       "      <td>0.005404</td>\n",
       "      <td>-0.001850</td>\n",
       "      <td>NaN</td>\n",
       "      <td>NaN</td>\n",
       "      <td>NaN</td>\n",
       "      <td>-0.021277</td>\n",
       "      <td>inf</td>\n",
       "      <td>0.0</td>\n",
       "      <td>999.0</td>\n",
       "    </tr>\n",
       "    <tr>\n",
       "      <th>10010201</th>\n",
       "      <td>53.0</td>\n",
       "      <td>-0.002128</td>\n",
       "      <td>-0.000143</td>\n",
       "      <td>0.000000</td>\n",
       "      <td>-0.003485</td>\n",
       "      <td>0.000322</td>\n",
       "      <td>-0.001252</td>\n",
       "      <td>-0.002167</td>\n",
       "      <td>0.001013</td>\n",
       "      <td>-0.001489</td>\n",
       "      <td>-0.001824</td>\n",
       "      <td>0.001395</td>\n",
       "      <td>-0.000665</td>\n",
       "      <td>-0.001101</td>\n",
       "      <td>-0.004465</td>\n",
       "      <td>-0.002128</td>\n",
       "      <td>-0.001506</td>\n",
       "      <td>-0.001489</td>\n",
       "      <td>-0.001193</td>\n",
       "      <td>0.003246</td>\n",
       "      <td>-0.001954</td>\n",
       "      <td>NaN</td>\n",
       "      <td>NaN</td>\n",
       "      <td>NaN</td>\n",
       "      <td>-0.021277</td>\n",
       "      <td>inf</td>\n",
       "      <td>0.0</td>\n",
       "      <td>999.0</td>\n",
       "    </tr>\n",
       "    <tr>\n",
       "      <th>10060101</th>\n",
       "      <td>92.0</td>\n",
       "      <td>0.000443</td>\n",
       "      <td>-0.000268</td>\n",
       "      <td>0.003163</td>\n",
       "      <td>-0.001193</td>\n",
       "      <td>0.004327</td>\n",
       "      <td>-0.004255</td>\n",
       "      <td>0.001719</td>\n",
       "      <td>-0.006404</td>\n",
       "      <td>-0.002690</td>\n",
       "      <td>0.000000</td>\n",
       "      <td>0.009635</td>\n",
       "      <td>-0.003203</td>\n",
       "      <td>-0.000843</td>\n",
       "      <td>0.002524</td>\n",
       "      <td>-0.001520</td>\n",
       "      <td>0.003238</td>\n",
       "      <td>-0.001001</td>\n",
       "      <td>0.002081</td>\n",
       "      <td>0.009787</td>\n",
       "      <td>-0.002974</td>\n",
       "      <td>NaN</td>\n",
       "      <td>NaN</td>\n",
       "      <td>NaN</td>\n",
       "      <td>-0.021277</td>\n",
       "      <td>inf</td>\n",
       "      <td>0.0</td>\n",
       "      <td>999.0</td>\n",
       "    </tr>\n",
       "    <tr>\n",
       "      <th>10060401</th>\n",
       "      <td>71.0</td>\n",
       "      <td>-0.002503</td>\n",
       "      <td>0.000734</td>\n",
       "      <td>0.000000</td>\n",
       "      <td>-0.000289</td>\n",
       "      <td>0.004495</td>\n",
       "      <td>-0.002418</td>\n",
       "      <td>0.007023</td>\n",
       "      <td>0.004910</td>\n",
       "      <td>0.016076</td>\n",
       "      <td>-0.001478</td>\n",
       "      <td>0.004380</td>\n",
       "      <td>-0.001732</td>\n",
       "      <td>0.002285</td>\n",
       "      <td>0.003001</td>\n",
       "      <td>-0.001025</td>\n",
       "      <td>0.002428</td>\n",
       "      <td>0.014657</td>\n",
       "      <td>0.002461</td>\n",
       "      <td>0.004728</td>\n",
       "      <td>-0.003347</td>\n",
       "      <td>NaN</td>\n",
       "      <td>NaN</td>\n",
       "      <td>NaN</td>\n",
       "      <td>-0.021277</td>\n",
       "      <td>1.914894</td>\n",
       "      <td>0.0</td>\n",
       "      <td>999.0</td>\n",
       "    </tr>\n",
       "  </tbody>\n",
       "</table>\n",
       "</div>"
      ],
      "text/plain": [
       "           age     poids      tail  ...       gly  event  lifespan\n",
       "10010101  39.0  0.001182 -0.000133  ...       inf    0.0     999.0\n",
       "10010102  47.0  0.003868 -0.000250  ...       inf    0.0     999.0\n",
       "10010201  53.0 -0.002128 -0.000143  ...       inf    0.0     999.0\n",
       "10060101  92.0  0.000443 -0.000268  ...       inf    0.0     999.0\n",
       "10060401  71.0 -0.002503  0.000734  ...  1.914894    0.0     999.0\n",
       "\n",
       "[5 rows x 28 columns]"
      ]
     },
     "execution_count": 14,
     "metadata": {
      "tags": []
     },
     "output_type": "execute_result"
    }
   ],
   "source": [
    "# Merge all the temporary datasets into one single dataset\n",
    "frames = [df_merge_19_15_final, df_merge_17_15_final, df_merge_19_16_final, df_merge_19_17_final, df_merge_17_16_final, df_merge_16_15_final]\n",
    "df_all_result = pd.concat(frames, sort=False)\n",
    "df_all_result.head()"
   ]
  },
  {
   "cell_type": "code",
   "execution_count": null,
   "metadata": {
    "colab": {
     "base_uri": "https://localhost:8080/",
     "height": 367
    },
    "id": "scJ7FQH47hz0",
    "outputId": "1b1e2093-48df-47cd-dee3-49357e59f967"
   },
   "outputs": [
    {
     "name": "stderr",
     "output_type": "stream",
     "text": [
      "/usr/local/lib/python3.6/dist-packages/statsmodels/tools/_testing.py:19: FutureWarning: pandas.util.testing is deprecated. Use the functions in the public API at pandas.testing instead.\n",
      "  import pandas.util.testing as tm\n"
     ]
    },
    {
     "data": {
      "text/plain": [
       "<matplotlib.axes._subplots.AxesSubplot at 0x7f2c76c679e8>"
      ]
     },
     "execution_count": 15,
     "metadata": {
      "tags": []
     },
     "output_type": "execute_result"
    },
    {
     "data": {
      "image/png": "[encoded data removed]",
      "text/plain": [
       "<Figure size 432x288 with 2 Axes>"
      ]
     },
     "metadata": {
      "needs_background": "light",
      "tags": []
     },
     "output_type": "display_data"
    }
   ],
   "source": [
    "# Pearson Correlation calculation\n",
    "pearsoncorr = df_all_result.corr(method='pearson')\n",
    "import seaborn as sb\n",
    "sb.heatmap(pearsoncorr, \n",
    "            xticklabels=pearsoncorr.columns,\n",
    "            yticklabels=pearsoncorr.columns,\n",
    "            cmap='RdBu_r')"
   ]
  },
  {
   "cell_type": "code",
   "execution_count": null,
   "metadata": {
    "cellView": "code",
    "colab": {
     "base_uri": "https://localhost:8080/",
     "height": 937
    },
    "id": "J9w5u2atSsBV",
    "outputId": "a65d5ce7-e0f3-43df-fc9b-817a0c685670"
   },
   "outputs": [
    {
     "data": {
      "text/html": [
       "<div>\n",
       "<style scoped>\n",
       "    .dataframe tbody tr th:only-of-type {\n",
       "        vertical-align: middle;\n",
       "    }\n",
       "\n",
       "    .dataframe tbody tr th {\n",
       "        vertical-align: top;\n",
       "    }\n",
       "\n",
       "    .dataframe thead th {\n",
       "        text-align: right;\n",
       "    }\n",
       "</style>\n",
       "<table border=\"1\" class=\"dataframe\">\n",
       "  <thead>\n",
       "    <tr style=\"text-align: right;\">\n",
       "      <th></th>\n",
       "      <th>age</th>\n",
       "      <th>poids</th>\n",
       "      <th>tail</th>\n",
       "      <th>tour_tail</th>\n",
       "      <th>pas_bg1</th>\n",
       "      <th>pad_bg1</th>\n",
       "      <th>poulg1</th>\n",
       "      <th>pas_bg2</th>\n",
       "      <th>pad_bg2</th>\n",
       "      <th>poulg2</th>\n",
       "      <th>pas_bg3</th>\n",
       "      <th>pad_bg3</th>\n",
       "      <th>poulg3</th>\n",
       "      <th>pas_bd1</th>\n",
       "      <th>pad_bd2</th>\n",
       "      <th>pould1</th>\n",
       "      <th>pas_bd2</th>\n",
       "      <th>pould2</th>\n",
       "      <th>pas_bd3</th>\n",
       "      <th>pad_bd3</th>\n",
       "      <th>pould3</th>\n",
       "      <th>dysp_repos</th>\n",
       "      <th>amp_mi</th>\n",
       "      <th>omi</th>\n",
       "      <th>omi_godet</th>\n",
       "      <th>gly</th>\n",
       "      <th>event</th>\n",
       "      <th>lifespan</th>\n",
       "    </tr>\n",
       "  </thead>\n",
       "  <tbody>\n",
       "    <tr>\n",
       "      <th>age</th>\n",
       "      <td>1.000000</td>\n",
       "      <td>-0.139465</td>\n",
       "      <td>-0.008505</td>\n",
       "      <td>-0.004588</td>\n",
       "      <td>-0.002615</td>\n",
       "      <td>-0.005356</td>\n",
       "      <td>-0.001662</td>\n",
       "      <td>0.023489</td>\n",
       "      <td>0.027262</td>\n",
       "      <td>0.004464</td>\n",
       "      <td>0.006329</td>\n",
       "      <td>0.017591</td>\n",
       "      <td>-0.009072</td>\n",
       "      <td>0.012890</td>\n",
       "      <td>-0.013305</td>\n",
       "      <td>-0.035450</td>\n",
       "      <td>0.055457</td>\n",
       "      <td>-0.013739</td>\n",
       "      <td>0.039534</td>\n",
       "      <td>0.002793</td>\n",
       "      <td>0.000763</td>\n",
       "      <td>-0.012034</td>\n",
       "      <td>0.661223</td>\n",
       "      <td>-0.000147</td>\n",
       "      <td>0.054734</td>\n",
       "      <td>0.130781</td>\n",
       "      <td>0.261757</td>\n",
       "      <td>-0.279298</td>\n",
       "    </tr>\n",
       "    <tr>\n",
       "      <th>poids</th>\n",
       "      <td>-0.139465</td>\n",
       "      <td>1.000000</td>\n",
       "      <td>0.020432</td>\n",
       "      <td>0.281045</td>\n",
       "      <td>0.174252</td>\n",
       "      <td>0.082873</td>\n",
       "      <td>0.000087</td>\n",
       "      <td>0.112538</td>\n",
       "      <td>0.070453</td>\n",
       "      <td>-0.000919</td>\n",
       "      <td>0.131659</td>\n",
       "      <td>0.064836</td>\n",
       "      <td>0.015399</td>\n",
       "      <td>0.090177</td>\n",
       "      <td>0.020210</td>\n",
       "      <td>-0.003167</td>\n",
       "      <td>0.097390</td>\n",
       "      <td>0.015348</td>\n",
       "      <td>0.110813</td>\n",
       "      <td>0.026413</td>\n",
       "      <td>0.021106</td>\n",
       "      <td>-0.232938</td>\n",
       "      <td>-0.603804</td>\n",
       "      <td>-0.274249</td>\n",
       "      <td>-0.047533</td>\n",
       "      <td>-0.097632</td>\n",
       "      <td>-0.097516</td>\n",
       "      <td>0.132713</td>\n",
       "    </tr>\n",
       "    <tr>\n",
       "      <th>tail</th>\n",
       "      <td>-0.008505</td>\n",
       "      <td>0.020432</td>\n",
       "      <td>1.000000</td>\n",
       "      <td>-0.004284</td>\n",
       "      <td>-0.052998</td>\n",
       "      <td>-0.026380</td>\n",
       "      <td>0.001044</td>\n",
       "      <td>-0.050009</td>\n",
       "      <td>0.016141</td>\n",
       "      <td>-0.009460</td>\n",
       "      <td>-0.024889</td>\n",
       "      <td>-0.030289</td>\n",
       "      <td>0.003277</td>\n",
       "      <td>0.046871</td>\n",
       "      <td>0.006141</td>\n",
       "      <td>-0.006337</td>\n",
       "      <td>-0.008661</td>\n",
       "      <td>0.002869</td>\n",
       "      <td>0.015145</td>\n",
       "      <td>-0.050975</td>\n",
       "      <td>0.002032</td>\n",
       "      <td>-0.260829</td>\n",
       "      <td>-0.383205</td>\n",
       "      <td>0.019112</td>\n",
       "      <td>-0.052296</td>\n",
       "      <td>-0.006044</td>\n",
       "      <td>-0.008250</td>\n",
       "      <td>0.009679</td>\n",
       "    </tr>\n",
       "    <tr>\n",
       "      <th>tour_tail</th>\n",
       "      <td>-0.004588</td>\n",
       "      <td>0.281045</td>\n",
       "      <td>-0.004284</td>\n",
       "      <td>1.000000</td>\n",
       "      <td>0.017689</td>\n",
       "      <td>-0.044777</td>\n",
       "      <td>-0.002318</td>\n",
       "      <td>0.042146</td>\n",
       "      <td>0.001383</td>\n",
       "      <td>0.007245</td>\n",
       "      <td>0.033993</td>\n",
       "      <td>0.011293</td>\n",
       "      <td>0.048452</td>\n",
       "      <td>0.000321</td>\n",
       "      <td>0.002004</td>\n",
       "      <td>0.010641</td>\n",
       "      <td>0.008768</td>\n",
       "      <td>0.023811</td>\n",
       "      <td>0.026809</td>\n",
       "      <td>-0.023270</td>\n",
       "      <td>0.019794</td>\n",
       "      <td>-0.534272</td>\n",
       "      <td>-0.744458</td>\n",
       "      <td>-0.705318</td>\n",
       "      <td>-0.126043</td>\n",
       "      <td>-0.094496</td>\n",
       "      <td>0.011123</td>\n",
       "      <td>0.024491</td>\n",
       "    </tr>\n",
       "    <tr>\n",
       "      <th>pas_bg1</th>\n",
       "      <td>-0.002615</td>\n",
       "      <td>0.174252</td>\n",
       "      <td>-0.052998</td>\n",
       "      <td>0.017689</td>\n",
       "      <td>1.000000</td>\n",
       "      <td>0.600872</td>\n",
       "      <td>-0.001460</td>\n",
       "      <td>0.828176</td>\n",
       "      <td>0.510600</td>\n",
       "      <td>-0.031225</td>\n",
       "      <td>0.802119</td>\n",
       "      <td>0.506566</td>\n",
       "      <td>-0.005545</td>\n",
       "      <td>0.668469</td>\n",
       "      <td>0.067310</td>\n",
       "      <td>-0.022109</td>\n",
       "      <td>0.572376</td>\n",
       "      <td>-0.033006</td>\n",
       "      <td>0.638348</td>\n",
       "      <td>0.336616</td>\n",
       "      <td>-0.021911</td>\n",
       "      <td>0.618960</td>\n",
       "      <td>-0.453691</td>\n",
       "      <td>-0.818376</td>\n",
       "      <td>-0.100917</td>\n",
       "      <td>-0.027639</td>\n",
       "      <td>0.010005</td>\n",
       "      <td>0.028915</td>\n",
       "    </tr>\n",
       "    <tr>\n",
       "      <th>pad_bg1</th>\n",
       "      <td>-0.005356</td>\n",
       "      <td>0.082873</td>\n",
       "      <td>-0.026380</td>\n",
       "      <td>-0.044777</td>\n",
       "      <td>0.600872</td>\n",
       "      <td>1.000000</td>\n",
       "      <td>-0.000866</td>\n",
       "      <td>0.592081</td>\n",
       "      <td>0.813242</td>\n",
       "      <td>-0.074434</td>\n",
       "      <td>0.565845</td>\n",
       "      <td>0.769431</td>\n",
       "      <td>-0.073946</td>\n",
       "      <td>0.479994</td>\n",
       "      <td>0.165372</td>\n",
       "      <td>-0.062466</td>\n",
       "      <td>0.470431</td>\n",
       "      <td>-0.068687</td>\n",
       "      <td>0.479067</td>\n",
       "      <td>0.497929</td>\n",
       "      <td>-0.076000</td>\n",
       "      <td>0.135839</td>\n",
       "      <td>-0.200106</td>\n",
       "      <td>-0.441490</td>\n",
       "      <td>0.056856</td>\n",
       "      <td>0.057082</td>\n",
       "      <td>0.031712</td>\n",
       "      <td>-0.036576</td>\n",
       "    </tr>\n",
       "    <tr>\n",
       "      <th>poulg1</th>\n",
       "      <td>-0.001662</td>\n",
       "      <td>0.000087</td>\n",
       "      <td>0.001044</td>\n",
       "      <td>-0.002318</td>\n",
       "      <td>-0.001460</td>\n",
       "      <td>-0.000866</td>\n",
       "      <td>1.000000</td>\n",
       "      <td>-0.017842</td>\n",
       "      <td>-0.020988</td>\n",
       "      <td>0.234269</td>\n",
       "      <td>-0.009809</td>\n",
       "      <td>-0.009688</td>\n",
       "      <td>0.225918</td>\n",
       "      <td>-0.006329</td>\n",
       "      <td>-0.003275</td>\n",
       "      <td>0.210685</td>\n",
       "      <td>-0.018236</td>\n",
       "      <td>0.209223</td>\n",
       "      <td>-0.012655</td>\n",
       "      <td>-0.017935</td>\n",
       "      <td>0.219634</td>\n",
       "      <td>-0.046210</td>\n",
       "      <td>0.235242</td>\n",
       "      <td>0.350070</td>\n",
       "      <td>-0.014647</td>\n",
       "      <td>-0.081714</td>\n",
       "      <td>0.005019</td>\n",
       "      <td>-0.006717</td>\n",
       "    </tr>\n",
       "    <tr>\n",
       "      <th>pas_bg2</th>\n",
       "      <td>0.023489</td>\n",
       "      <td>0.112538</td>\n",
       "      <td>-0.050009</td>\n",
       "      <td>0.042146</td>\n",
       "      <td>0.828176</td>\n",
       "      <td>0.592081</td>\n",
       "      <td>-0.017842</td>\n",
       "      <td>1.000000</td>\n",
       "      <td>0.605560</td>\n",
       "      <td>-0.038778</td>\n",
       "      <td>0.847279</td>\n",
       "      <td>0.551603</td>\n",
       "      <td>-0.026486</td>\n",
       "      <td>0.642198</td>\n",
       "      <td>0.139550</td>\n",
       "      <td>-0.042595</td>\n",
       "      <td>0.605723</td>\n",
       "      <td>-0.045667</td>\n",
       "      <td>0.656713</td>\n",
       "      <td>0.392524</td>\n",
       "      <td>-0.031753</td>\n",
       "      <td>0.477760</td>\n",
       "      <td>0.120877</td>\n",
       "      <td>-0.610881</td>\n",
       "      <td>-0.040286</td>\n",
       "      <td>0.002614</td>\n",
       "      <td>-0.000860</td>\n",
       "      <td>0.030690</td>\n",
       "    </tr>\n",
       "    <tr>\n",
       "      <th>pad_bg2</th>\n",
       "      <td>0.027262</td>\n",
       "      <td>0.070453</td>\n",
       "      <td>0.016141</td>\n",
       "      <td>0.001383</td>\n",
       "      <td>0.510600</td>\n",
       "      <td>0.813242</td>\n",
       "      <td>-0.020988</td>\n",
       "      <td>0.605560</td>\n",
       "      <td>1.000000</td>\n",
       "      <td>-0.077581</td>\n",
       "      <td>0.556113</td>\n",
       "      <td>0.819717</td>\n",
       "      <td>-0.094199</td>\n",
       "      <td>0.428446</td>\n",
       "      <td>0.224050</td>\n",
       "      <td>-0.085418</td>\n",
       "      <td>0.502820</td>\n",
       "      <td>-0.076563</td>\n",
       "      <td>0.483342</td>\n",
       "      <td>0.591830</td>\n",
       "      <td>-0.091993</td>\n",
       "      <td>0.041127</td>\n",
       "      <td>-0.267458</td>\n",
       "      <td>-0.517077</td>\n",
       "      <td>0.045572</td>\n",
       "      <td>0.123897</td>\n",
       "      <td>0.035487</td>\n",
       "      <td>-0.042933</td>\n",
       "    </tr>\n",
       "    <tr>\n",
       "      <th>poulg2</th>\n",
       "      <td>0.004464</td>\n",
       "      <td>-0.000919</td>\n",
       "      <td>-0.009460</td>\n",
       "      <td>0.007245</td>\n",
       "      <td>-0.031225</td>\n",
       "      <td>-0.074434</td>\n",
       "      <td>0.234269</td>\n",
       "      <td>-0.038778</td>\n",
       "      <td>-0.077581</td>\n",
       "      <td>1.000000</td>\n",
       "      <td>-0.021885</td>\n",
       "      <td>-0.037992</td>\n",
       "      <td>0.737456</td>\n",
       "      <td>-0.034772</td>\n",
       "      <td>-0.010738</td>\n",
       "      <td>0.668182</td>\n",
       "      <td>-0.033025</td>\n",
       "      <td>0.705428</td>\n",
       "      <td>-0.047596</td>\n",
       "      <td>-0.052732</td>\n",
       "      <td>0.697755</td>\n",
       "      <td>-0.023171</td>\n",
       "      <td>0.631631</td>\n",
       "      <td>0.428352</td>\n",
       "      <td>-0.012140</td>\n",
       "      <td>-0.076319</td>\n",
       "      <td>0.056309</td>\n",
       "      <td>-0.057807</td>\n",
       "    </tr>\n",
       "    <tr>\n",
       "      <th>pas_bg3</th>\n",
       "      <td>0.006329</td>\n",
       "      <td>0.131659</td>\n",
       "      <td>-0.024889</td>\n",
       "      <td>0.033993</td>\n",
       "      <td>0.802119</td>\n",
       "      <td>0.565845</td>\n",
       "      <td>-0.009809</td>\n",
       "      <td>0.847279</td>\n",
       "      <td>0.556113</td>\n",
       "      <td>-0.021885</td>\n",
       "      <td>1.000000</td>\n",
       "      <td>0.551913</td>\n",
       "      <td>-0.014408</td>\n",
       "      <td>0.663608</td>\n",
       "      <td>0.140216</td>\n",
       "      <td>-0.020761</td>\n",
       "      <td>0.616974</td>\n",
       "      <td>-0.030841</td>\n",
       "      <td>0.680790</td>\n",
       "      <td>0.371068</td>\n",
       "      <td>-0.017128</td>\n",
       "      <td>0.606106</td>\n",
       "      <td>-0.692410</td>\n",
       "      <td>-0.650339</td>\n",
       "      <td>-0.049675</td>\n",
       "      <td>0.003280</td>\n",
       "      <td>0.003662</td>\n",
       "      <td>0.026225</td>\n",
       "    </tr>\n",
       "    <tr>\n",
       "      <th>pad_bg3</th>\n",
       "      <td>0.017591</td>\n",
       "      <td>0.064836</td>\n",
       "      <td>-0.030289</td>\n",
       "      <td>0.011293</td>\n",
       "      <td>0.506566</td>\n",
       "      <td>0.769431</td>\n",
       "      <td>-0.009688</td>\n",
       "      <td>0.551603</td>\n",
       "      <td>0.819717</td>\n",
       "      <td>-0.037992</td>\n",
       "      <td>0.551913</td>\n",
       "      <td>1.000000</td>\n",
       "      <td>-0.018413</td>\n",
       "      <td>0.410270</td>\n",
       "      <td>0.205857</td>\n",
       "      <td>-0.042197</td>\n",
       "      <td>0.441575</td>\n",
       "      <td>-0.035152</td>\n",
       "      <td>0.440333</td>\n",
       "      <td>0.542786</td>\n",
       "      <td>-0.036796</td>\n",
       "      <td>0.128169</td>\n",
       "      <td>-0.162062</td>\n",
       "      <td>-0.463468</td>\n",
       "      <td>0.061958</td>\n",
       "      <td>0.108504</td>\n",
       "      <td>0.056233</td>\n",
       "      <td>-0.070087</td>\n",
       "    </tr>\n",
       "    <tr>\n",
       "      <th>poulg3</th>\n",
       "      <td>-0.009072</td>\n",
       "      <td>0.015399</td>\n",
       "      <td>0.003277</td>\n",
       "      <td>0.048452</td>\n",
       "      <td>-0.005545</td>\n",
       "      <td>-0.073946</td>\n",
       "      <td>0.225918</td>\n",
       "      <td>-0.026486</td>\n",
       "      <td>-0.094199</td>\n",
       "      <td>0.737456</td>\n",
       "      <td>-0.014408</td>\n",
       "      <td>-0.018413</td>\n",
       "      <td>1.000000</td>\n",
       "      <td>-0.012871</td>\n",
       "      <td>-0.009753</td>\n",
       "      <td>0.637605</td>\n",
       "      <td>-0.019838</td>\n",
       "      <td>0.664063</td>\n",
       "      <td>-0.022640</td>\n",
       "      <td>-0.051803</td>\n",
       "      <td>0.729646</td>\n",
       "      <td>-0.050593</td>\n",
       "      <td>-0.005996</td>\n",
       "      <td>0.338067</td>\n",
       "      <td>-0.006049</td>\n",
       "      <td>-0.109720</td>\n",
       "      <td>0.071660</td>\n",
       "      <td>-0.072464</td>\n",
       "    </tr>\n",
       "    <tr>\n",
       "      <th>pas_bd1</th>\n",
       "      <td>0.012890</td>\n",
       "      <td>0.090177</td>\n",
       "      <td>0.046871</td>\n",
       "      <td>0.000321</td>\n",
       "      <td>0.668469</td>\n",
       "      <td>0.479994</td>\n",
       "      <td>-0.006329</td>\n",
       "      <td>0.642198</td>\n",
       "      <td>0.428446</td>\n",
       "      <td>-0.034772</td>\n",
       "      <td>0.663608</td>\n",
       "      <td>0.410270</td>\n",
       "      <td>-0.012871</td>\n",
       "      <td>1.000000</td>\n",
       "      <td>0.045277</td>\n",
       "      <td>0.046379</td>\n",
       "      <td>0.800309</td>\n",
       "      <td>0.014426</td>\n",
       "      <td>0.818983</td>\n",
       "      <td>0.404633</td>\n",
       "      <td>0.035823</td>\n",
       "      <td>0.552338</td>\n",
       "      <td>-0.916951</td>\n",
       "      <td>-0.577700</td>\n",
       "      <td>-0.005929</td>\n",
       "      <td>0.026824</td>\n",
       "      <td>0.013327</td>\n",
       "      <td>0.003409</td>\n",
       "    </tr>\n",
       "    <tr>\n",
       "      <th>pad_bd2</th>\n",
       "      <td>-0.013305</td>\n",
       "      <td>0.020210</td>\n",
       "      <td>0.006141</td>\n",
       "      <td>0.002004</td>\n",
       "      <td>0.067310</td>\n",
       "      <td>0.165372</td>\n",
       "      <td>-0.003275</td>\n",
       "      <td>0.139550</td>\n",
       "      <td>0.224050</td>\n",
       "      <td>-0.010738</td>\n",
       "      <td>0.140216</td>\n",
       "      <td>0.205857</td>\n",
       "      <td>-0.009753</td>\n",
       "      <td>0.045277</td>\n",
       "      <td>1.000000</td>\n",
       "      <td>0.002061</td>\n",
       "      <td>0.092952</td>\n",
       "      <td>-0.000471</td>\n",
       "      <td>0.103129</td>\n",
       "      <td>0.226298</td>\n",
       "      <td>-0.000958</td>\n",
       "      <td>0.233081</td>\n",
       "      <td>-0.902276</td>\n",
       "      <td>-0.699610</td>\n",
       "      <td>0.088996</td>\n",
       "      <td>0.071517</td>\n",
       "      <td>-0.003622</td>\n",
       "      <td>0.003620</td>\n",
       "    </tr>\n",
       "    <tr>\n",
       "      <th>pould1</th>\n",
       "      <td>-0.035450</td>\n",
       "      <td>-0.003167</td>\n",
       "      <td>-0.006337</td>\n",
       "      <td>0.010641</td>\n",
       "      <td>-0.022109</td>\n",
       "      <td>-0.062466</td>\n",
       "      <td>0.210685</td>\n",
       "      <td>-0.042595</td>\n",
       "      <td>-0.085418</td>\n",
       "      <td>0.668182</td>\n",
       "      <td>-0.020761</td>\n",
       "      <td>-0.042197</td>\n",
       "      <td>0.637605</td>\n",
       "      <td>0.046379</td>\n",
       "      <td>0.002061</td>\n",
       "      <td>1.000000</td>\n",
       "      <td>0.052399</td>\n",
       "      <td>0.750635</td>\n",
       "      <td>0.047263</td>\n",
       "      <td>0.064004</td>\n",
       "      <td>0.747617</td>\n",
       "      <td>0.023455</td>\n",
       "      <td>-0.872101</td>\n",
       "      <td>0.368969</td>\n",
       "      <td>-0.095063</td>\n",
       "      <td>-0.089828</td>\n",
       "      <td>0.017562</td>\n",
       "      <td>-0.013668</td>\n",
       "    </tr>\n",
       "    <tr>\n",
       "      <th>pas_bd2</th>\n",
       "      <td>0.055457</td>\n",
       "      <td>0.097390</td>\n",
       "      <td>-0.008661</td>\n",
       "      <td>0.008768</td>\n",
       "      <td>0.572376</td>\n",
       "      <td>0.470431</td>\n",
       "      <td>-0.018236</td>\n",
       "      <td>0.605723</td>\n",
       "      <td>0.502820</td>\n",
       "      <td>-0.033025</td>\n",
       "      <td>0.616974</td>\n",
       "      <td>0.441575</td>\n",
       "      <td>-0.019838</td>\n",
       "      <td>0.800309</td>\n",
       "      <td>0.092952</td>\n",
       "      <td>0.052399</td>\n",
       "      <td>1.000000</td>\n",
       "      <td>0.004952</td>\n",
       "      <td>0.839088</td>\n",
       "      <td>0.508529</td>\n",
       "      <td>0.022418</td>\n",
       "      <td>0.530419</td>\n",
       "      <td>-0.883613</td>\n",
       "      <td>-0.504707</td>\n",
       "      <td>0.012851</td>\n",
       "      <td>0.042375</td>\n",
       "      <td>0.006793</td>\n",
       "      <td>0.008025</td>\n",
       "    </tr>\n",
       "    <tr>\n",
       "      <th>pould2</th>\n",
       "      <td>-0.013739</td>\n",
       "      <td>0.015348</td>\n",
       "      <td>0.002869</td>\n",
       "      <td>0.023811</td>\n",
       "      <td>-0.033006</td>\n",
       "      <td>-0.068687</td>\n",
       "      <td>0.209223</td>\n",
       "      <td>-0.045667</td>\n",
       "      <td>-0.076563</td>\n",
       "      <td>0.705428</td>\n",
       "      <td>-0.030841</td>\n",
       "      <td>-0.035152</td>\n",
       "      <td>0.664063</td>\n",
       "      <td>0.014426</td>\n",
       "      <td>-0.000471</td>\n",
       "      <td>0.750635</td>\n",
       "      <td>0.004952</td>\n",
       "      <td>1.000000</td>\n",
       "      <td>0.008826</td>\n",
       "      <td>0.027676</td>\n",
       "      <td>0.776617</td>\n",
       "      <td>-0.034744</td>\n",
       "      <td>-0.851032</td>\n",
       "      <td>0.318508</td>\n",
       "      <td>-0.060653</td>\n",
       "      <td>-0.088326</td>\n",
       "      <td>0.058051</td>\n",
       "      <td>-0.055550</td>\n",
       "    </tr>\n",
       "    <tr>\n",
       "      <th>pas_bd3</th>\n",
       "      <td>0.039534</td>\n",
       "      <td>0.110813</td>\n",
       "      <td>0.015145</td>\n",
       "      <td>0.026809</td>\n",
       "      <td>0.638348</td>\n",
       "      <td>0.479067</td>\n",
       "      <td>-0.012655</td>\n",
       "      <td>0.656713</td>\n",
       "      <td>0.483342</td>\n",
       "      <td>-0.047596</td>\n",
       "      <td>0.680790</td>\n",
       "      <td>0.440333</td>\n",
       "      <td>-0.022640</td>\n",
       "      <td>0.818983</td>\n",
       "      <td>0.103129</td>\n",
       "      <td>0.047263</td>\n",
       "      <td>0.839088</td>\n",
       "      <td>0.008826</td>\n",
       "      <td>1.000000</td>\n",
       "      <td>0.536845</td>\n",
       "      <td>0.037743</td>\n",
       "      <td>0.524652</td>\n",
       "      <td>-0.900200</td>\n",
       "      <td>-0.582262</td>\n",
       "      <td>-0.045604</td>\n",
       "      <td>0.013078</td>\n",
       "      <td>-0.000631</td>\n",
       "      <td>0.028573</td>\n",
       "    </tr>\n",
       "    <tr>\n",
       "      <th>pad_bd3</th>\n",
       "      <td>0.002793</td>\n",
       "      <td>0.026413</td>\n",
       "      <td>-0.050975</td>\n",
       "      <td>-0.023270</td>\n",
       "      <td>0.336616</td>\n",
       "      <td>0.497929</td>\n",
       "      <td>-0.017935</td>\n",
       "      <td>0.392524</td>\n",
       "      <td>0.591830</td>\n",
       "      <td>-0.052732</td>\n",
       "      <td>0.371068</td>\n",
       "      <td>0.542786</td>\n",
       "      <td>-0.051803</td>\n",
       "      <td>0.404633</td>\n",
       "      <td>0.226298</td>\n",
       "      <td>0.064004</td>\n",
       "      <td>0.508529</td>\n",
       "      <td>0.027676</td>\n",
       "      <td>0.536845</td>\n",
       "      <td>1.000000</td>\n",
       "      <td>0.032962</td>\n",
       "      <td>0.309785</td>\n",
       "      <td>-0.874912</td>\n",
       "      <td>-0.650766</td>\n",
       "      <td>-0.025289</td>\n",
       "      <td>0.093951</td>\n",
       "      <td>0.042515</td>\n",
       "      <td>-0.044790</td>\n",
       "    </tr>\n",
       "    <tr>\n",
       "      <th>pould3</th>\n",
       "      <td>0.000763</td>\n",
       "      <td>0.021106</td>\n",
       "      <td>0.002032</td>\n",
       "      <td>0.019794</td>\n",
       "      <td>-0.021911</td>\n",
       "      <td>-0.076000</td>\n",
       "      <td>0.219634</td>\n",
       "      <td>-0.031753</td>\n",
       "      <td>-0.091993</td>\n",
       "      <td>0.697755</td>\n",
       "      <td>-0.017128</td>\n",
       "      <td>-0.036796</td>\n",
       "      <td>0.729646</td>\n",
       "      <td>0.035823</td>\n",
       "      <td>-0.000958</td>\n",
       "      <td>0.747617</td>\n",
       "      <td>0.022418</td>\n",
       "      <td>0.776617</td>\n",
       "      <td>0.037743</td>\n",
       "      <td>0.032962</td>\n",
       "      <td>1.000000</td>\n",
       "      <td>0.001588</td>\n",
       "      <td>-0.838687</td>\n",
       "      <td>0.403451</td>\n",
       "      <td>-0.031124</td>\n",
       "      <td>-0.099239</td>\n",
       "      <td>0.079071</td>\n",
       "      <td>-0.083713</td>\n",
       "    </tr>\n",
       "    <tr>\n",
       "      <th>dysp_repos</th>\n",
       "      <td>-0.012034</td>\n",
       "      <td>-0.232938</td>\n",
       "      <td>-0.260829</td>\n",
       "      <td>-0.534272</td>\n",
       "      <td>0.618960</td>\n",
       "      <td>0.135839</td>\n",
       "      <td>-0.046210</td>\n",
       "      <td>0.477760</td>\n",
       "      <td>0.041127</td>\n",
       "      <td>-0.023171</td>\n",
       "      <td>0.606106</td>\n",
       "      <td>0.128169</td>\n",
       "      <td>-0.050593</td>\n",
       "      <td>0.552338</td>\n",
       "      <td>0.233081</td>\n",
       "      <td>0.023455</td>\n",
       "      <td>0.530419</td>\n",
       "      <td>-0.034744</td>\n",
       "      <td>0.524652</td>\n",
       "      <td>0.309785</td>\n",
       "      <td>0.001588</td>\n",
       "      <td>1.000000</td>\n",
       "      <td>NaN</td>\n",
       "      <td>-1.000000</td>\n",
       "      <td>-0.370791</td>\n",
       "      <td>0.379386</td>\n",
       "      <td>0.049074</td>\n",
       "      <td>0.092002</td>\n",
       "    </tr>\n",
       "    <tr>\n",
       "      <th>amp_mi</th>\n",
       "      <td>0.661223</td>\n",
       "      <td>-0.603804</td>\n",
       "      <td>-0.383205</td>\n",
       "      <td>-0.744458</td>\n",
       "      <td>-0.453691</td>\n",
       "      <td>-0.200106</td>\n",
       "      <td>0.235242</td>\n",
       "      <td>0.120877</td>\n",
       "      <td>-0.267458</td>\n",
       "      <td>0.631631</td>\n",
       "      <td>-0.692410</td>\n",
       "      <td>-0.162062</td>\n",
       "      <td>-0.005996</td>\n",
       "      <td>-0.916951</td>\n",
       "      <td>-0.902276</td>\n",
       "      <td>-0.872101</td>\n",
       "      <td>-0.883613</td>\n",
       "      <td>-0.851032</td>\n",
       "      <td>-0.900200</td>\n",
       "      <td>-0.874912</td>\n",
       "      <td>-0.838687</td>\n",
       "      <td>NaN</td>\n",
       "      <td>1.000000</td>\n",
       "      <td>NaN</td>\n",
       "      <td>1.000000</td>\n",
       "      <td>NaN</td>\n",
       "      <td>NaN</td>\n",
       "      <td>NaN</td>\n",
       "    </tr>\n",
       "    <tr>\n",
       "      <th>omi</th>\n",
       "      <td>-0.000147</td>\n",
       "      <td>-0.274249</td>\n",
       "      <td>0.019112</td>\n",
       "      <td>-0.705318</td>\n",
       "      <td>-0.818376</td>\n",
       "      <td>-0.441490</td>\n",
       "      <td>0.350070</td>\n",
       "      <td>-0.610881</td>\n",
       "      <td>-0.517077</td>\n",
       "      <td>0.428352</td>\n",
       "      <td>-0.650339</td>\n",
       "      <td>-0.463468</td>\n",
       "      <td>0.338067</td>\n",
       "      <td>-0.577700</td>\n",
       "      <td>-0.699610</td>\n",
       "      <td>0.368969</td>\n",
       "      <td>-0.504707</td>\n",
       "      <td>0.318508</td>\n",
       "      <td>-0.582262</td>\n",
       "      <td>-0.650766</td>\n",
       "      <td>0.403451</td>\n",
       "      <td>-1.000000</td>\n",
       "      <td>NaN</td>\n",
       "      <td>1.000000</td>\n",
       "      <td>0.785817</td>\n",
       "      <td>0.399547</td>\n",
       "      <td>-0.695346</td>\n",
       "      <td>0.695346</td>\n",
       "    </tr>\n",
       "    <tr>\n",
       "      <th>omi_godet</th>\n",
       "      <td>0.054734</td>\n",
       "      <td>-0.047533</td>\n",
       "      <td>-0.052296</td>\n",
       "      <td>-0.126043</td>\n",
       "      <td>-0.100917</td>\n",
       "      <td>0.056856</td>\n",
       "      <td>-0.014647</td>\n",
       "      <td>-0.040286</td>\n",
       "      <td>0.045572</td>\n",
       "      <td>-0.012140</td>\n",
       "      <td>-0.049675</td>\n",
       "      <td>0.061958</td>\n",
       "      <td>-0.006049</td>\n",
       "      <td>-0.005929</td>\n",
       "      <td>0.088996</td>\n",
       "      <td>-0.095063</td>\n",
       "      <td>0.012851</td>\n",
       "      <td>-0.060653</td>\n",
       "      <td>-0.045604</td>\n",
       "      <td>-0.025289</td>\n",
       "      <td>-0.031124</td>\n",
       "      <td>-0.370791</td>\n",
       "      <td>1.000000</td>\n",
       "      <td>0.785817</td>\n",
       "      <td>1.000000</td>\n",
       "      <td>0.439349</td>\n",
       "      <td>0.099236</td>\n",
       "      <td>-0.099576</td>\n",
       "    </tr>\n",
       "    <tr>\n",
       "      <th>gly</th>\n",
       "      <td>0.130781</td>\n",
       "      <td>-0.097632</td>\n",
       "      <td>-0.006044</td>\n",
       "      <td>-0.094496</td>\n",
       "      <td>-0.027639</td>\n",
       "      <td>0.057082</td>\n",
       "      <td>-0.081714</td>\n",
       "      <td>0.002614</td>\n",
       "      <td>0.123897</td>\n",
       "      <td>-0.076319</td>\n",
       "      <td>0.003280</td>\n",
       "      <td>0.108504</td>\n",
       "      <td>-0.109720</td>\n",
       "      <td>0.026824</td>\n",
       "      <td>0.071517</td>\n",
       "      <td>-0.089828</td>\n",
       "      <td>0.042375</td>\n",
       "      <td>-0.088326</td>\n",
       "      <td>0.013078</td>\n",
       "      <td>0.093951</td>\n",
       "      <td>-0.099239</td>\n",
       "      <td>0.379386</td>\n",
       "      <td>NaN</td>\n",
       "      <td>0.399547</td>\n",
       "      <td>0.439349</td>\n",
       "      <td>1.000000</td>\n",
       "      <td>0.110720</td>\n",
       "      <td>-0.155055</td>\n",
       "    </tr>\n",
       "    <tr>\n",
       "      <th>event</th>\n",
       "      <td>0.261757</td>\n",
       "      <td>-0.097516</td>\n",
       "      <td>-0.008250</td>\n",
       "      <td>0.011123</td>\n",
       "      <td>0.010005</td>\n",
       "      <td>0.031712</td>\n",
       "      <td>0.005019</td>\n",
       "      <td>-0.000860</td>\n",
       "      <td>0.035487</td>\n",
       "      <td>0.056309</td>\n",
       "      <td>0.003662</td>\n",
       "      <td>0.056233</td>\n",
       "      <td>0.071660</td>\n",
       "      <td>0.013327</td>\n",
       "      <td>-0.003622</td>\n",
       "      <td>0.017562</td>\n",
       "      <td>0.006793</td>\n",
       "      <td>0.058051</td>\n",
       "      <td>-0.000631</td>\n",
       "      <td>0.042515</td>\n",
       "      <td>0.079071</td>\n",
       "      <td>0.049074</td>\n",
       "      <td>NaN</td>\n",
       "      <td>-0.695346</td>\n",
       "      <td>0.099236</td>\n",
       "      <td>0.110720</td>\n",
       "      <td>1.000000</td>\n",
       "      <td>-0.890270</td>\n",
       "    </tr>\n",
       "    <tr>\n",
       "      <th>lifespan</th>\n",
       "      <td>-0.279298</td>\n",
       "      <td>0.132713</td>\n",
       "      <td>0.009679</td>\n",
       "      <td>0.024491</td>\n",
       "      <td>0.028915</td>\n",
       "      <td>-0.036576</td>\n",
       "      <td>-0.006717</td>\n",
       "      <td>0.030690</td>\n",
       "      <td>-0.042933</td>\n",
       "      <td>-0.057807</td>\n",
       "      <td>0.026225</td>\n",
       "      <td>-0.070087</td>\n",
       "      <td>-0.072464</td>\n",
       "      <td>0.003409</td>\n",
       "      <td>0.003620</td>\n",
       "      <td>-0.013668</td>\n",
       "      <td>0.008025</td>\n",
       "      <td>-0.055550</td>\n",
       "      <td>0.028573</td>\n",
       "      <td>-0.044790</td>\n",
       "      <td>-0.083713</td>\n",
       "      <td>0.092002</td>\n",
       "      <td>NaN</td>\n",
       "      <td>0.695346</td>\n",
       "      <td>-0.099576</td>\n",
       "      <td>-0.155055</td>\n",
       "      <td>-0.890270</td>\n",
       "      <td>1.000000</td>\n",
       "    </tr>\n",
       "  </tbody>\n",
       "</table>\n",
       "</div>"
      ],
      "text/plain": [
       "                 age     poids      tail  ...       gly     event  lifespan\n",
       "age         1.000000 -0.139465 -0.008505  ...  0.130781  0.261757 -0.279298\n",
       "poids      -0.139465  1.000000  0.020432  ... -0.097632 -0.097516  0.132713\n",
       "tail       -0.008505  0.020432  1.000000  ... -0.006044 -0.008250  0.009679\n",
       "tour_tail  -0.004588  0.281045 -0.004284  ... -0.094496  0.011123  0.024491\n",
       "pas_bg1    -0.002615  0.174252 -0.052998  ... -0.027639  0.010005  0.028915\n",
       "pad_bg1    -0.005356  0.082873 -0.026380  ...  0.057082  0.031712 -0.036576\n",
       "poulg1     -0.001662  0.000087  0.001044  ... -0.081714  0.005019 -0.006717\n",
       "pas_bg2     0.023489  0.112538 -0.050009  ...  0.002614 -0.000860  0.030690\n",
       "pad_bg2     0.027262  0.070453  0.016141  ...  0.123897  0.035487 -0.042933\n",
       "poulg2      0.004464 -0.000919 -0.009460  ... -0.076319  0.056309 -0.057807\n",
       "pas_bg3     0.006329  0.131659 -0.024889  ...  0.003280  0.003662  0.026225\n",
       "pad_bg3     0.017591  0.064836 -0.030289  ...  0.108504  0.056233 -0.070087\n",
       "poulg3     -0.009072  0.015399  0.003277  ... -0.109720  0.071660 -0.072464\n",
       "pas_bd1     0.012890  0.090177  0.046871  ...  0.026824  0.013327  0.003409\n",
       "pad_bd2    -0.013305  0.020210  0.006141  ...  0.071517 -0.003622  0.003620\n",
       "pould1     -0.035450 -0.003167 -0.006337  ... -0.089828  0.017562 -0.013668\n",
       "pas_bd2     0.055457  0.097390 -0.008661  ...  0.042375  0.006793  0.008025\n",
       "pould2     -0.013739  0.015348  0.002869  ... -0.088326  0.058051 -0.055550\n",
       "pas_bd3     0.039534  0.110813  0.015145  ...  0.013078 -0.000631  0.028573\n",
       "pad_bd3     0.002793  0.026413 -0.050975  ...  0.093951  0.042515 -0.044790\n",
       "pould3      0.000763  0.021106  0.002032  ... -0.099239  0.079071 -0.083713\n",
       "dysp_repos -0.012034 -0.232938 -0.260829  ...  0.379386  0.049074  0.092002\n",
       "amp_mi      0.661223 -0.603804 -0.383205  ...       NaN       NaN       NaN\n",
       "omi        -0.000147 -0.274249  0.019112  ...  0.399547 -0.695346  0.695346\n",
       "omi_godet   0.054734 -0.047533 -0.052296  ...  0.439349  0.099236 -0.099576\n",
       "gly         0.130781 -0.097632 -0.006044  ...  1.000000  0.110720 -0.155055\n",
       "event       0.261757 -0.097516 -0.008250  ...  0.110720  1.000000 -0.890270\n",
       "lifespan   -0.279298  0.132713  0.009679  ... -0.155055 -0.890270  1.000000\n",
       "\n",
       "[28 rows x 28 columns]"
      ]
     },
     "execution_count": 17,
     "metadata": {
      "tags": []
     },
     "output_type": "execute_result"
    }
   ],
   "source": [
    "# Person table\n",
    "pearsoncorr"
   ]
  },
  {
   "cell_type": "code",
   "execution_count": null,
   "metadata": {
    "id": "fCbHO7JCdaGw"
   },
   "outputs": [],
   "source": [
    "# Set inf or NaN value to 0\n",
    "df_all_result = df_all_result.replace([np.inf, -np.inf, np.nan], 0)"
   ]
  },
  {
   "cell_type": "markdown",
   "metadata": {
    "id": "wJo92wr_k9eq"
   },
   "source": [
    "# Feature selections\n",
    "\n",
    "\n"
   ]
  },
  {
   "cell_type": "code",
   "execution_count": null,
   "metadata": {
    "colab": {
     "base_uri": "https://localhost:8080/",
     "height": 394
    },
    "id": "hJ93SNVnlEHa",
    "outputId": "afd967b2-2978-43a5-b454-1aebff6472fb"
   },
   "outputs": [
    {
     "name": "stdout",
     "output_type": "stream",
     "text": [
      "        Specs       Score\n",
      "0         age  791.954787\n",
      "1       poids  133.822343\n",
      "24  omi_godet  118.680563\n",
      "3   tour_tail   98.510828\n",
      "11    pad_bg3   80.191223\n",
      "4     pas_bg1   63.403634\n",
      "25        gly   47.478985\n",
      "9      poulg2   36.215188\n",
      "17     pould2   34.489872\n",
      "12     poulg3   33.016281\n"
     ]
    },
    {
     "name": "stderr",
     "output_type": "stream",
     "text": [
      "/usr/local/lib/python3.6/dist-packages/sklearn/externals/six.py:31: FutureWarning: The module is deprecated in version 0.21 and will be removed in version 0.23 since we've dropped support for Python 2.7. Please rely on the official version of six (https://pypi.org/project/six/).\n",
      "  \"(https://pypi.org/project/six/).\", FutureWarning)\n",
      "/usr/local/lib/python3.6/dist-packages/sklearn/utils/deprecation.py:144: FutureWarning: The sklearn.neighbors.base module is  deprecated in version 0.22 and will be removed in version 0.24. The corresponding classes / functions should instead be imported from sklearn.neighbors. Anything that cannot be imported from sklearn.neighbors is now part of the private API.\n",
      "  warnings.warn(message, FutureWarning)\n",
      "/usr/local/lib/python3.6/dist-packages/sklearn/utils/deprecation.py:87: FutureWarning: Function safe_indexing is deprecated; safe_indexing is deprecated in version 0.22 and will be removed in version 0.24.\n",
      "  warnings.warn(msg, category=FutureWarning)\n",
      "/usr/local/lib/python3.6/dist-packages/sklearn/utils/deprecation.py:87: FutureWarning: Function safe_indexing is deprecated; safe_indexing is deprecated in version 0.22 and will be removed in version 0.24.\n",
      "  warnings.warn(msg, category=FutureWarning)\n",
      "/usr/local/lib/python3.6/dist-packages/sklearn/utils/deprecation.py:87: FutureWarning: Function safe_indexing is deprecated; safe_indexing is deprecated in version 0.22 and will be removed in version 0.24.\n",
      "  warnings.warn(msg, category=FutureWarning)\n"
     ]
    }
   ],
   "source": [
    "import pandas as pd\n",
    "import numpy as np\n",
    "from sklearn.preprocessing import StandardScaler\n",
    "from sklearn.feature_selection import SelectKBest\n",
    "from sklearn.feature_selection import chi2\n",
    "from sklearn.feature_selection import f_classif\n",
    "from imblearn.over_sampling import SMOTE\n",
    "\n",
    "cols_X = list(df_all_result.columns.values)\n",
    "cols_X.pop(cols_X.index('event'))\n",
    "cols_X.pop(cols_X.index('lifespan'))\n",
    "\n",
    "Y_event = df_all_result['event'].values\n",
    "Y_events_new = df_all_result['event']\n",
    "Y_lifespan= df_all_result['lifespan'].values\n",
    "\n",
    "X_all = df_all_result[cols_X].values\n",
    "sc = StandardScaler()\n",
    "X_all_std = sc.fit_transform(X_all)\n",
    "\n",
    "\n",
    "sm= SMOTE(random_state=0)\n",
    "X_all_sm, Y_events_sm= sm.fit_sample(X_all_std, Y_events_new)\n",
    "\n",
    "#data = pd.read_csv(\"D://Blogs//train.csv\")\n",
    "#X = data.iloc[:,0:20]  #independent columns\n",
    "#y = data.iloc[:,-1]    #target column i.e price range\n",
    "\n",
    "#apply SelectKBest class to extract top 10 best features\n",
    "\n",
    "bestfeatures = SelectKBest(score_func=f_classif, k=10)\n",
    "fit = bestfeatures.fit(X_all_sm, Y_events_sm)\n",
    "f_class_support = fit.get_support()\n",
    "dfscores = pd.DataFrame(fit.scores_)\n",
    "dfcolumns = pd.DataFrame(df_all_result.columns)\n",
    "#concat two dataframes for better visualization \n",
    "featureScores = pd.concat([dfcolumns,dfscores],axis=1)\n",
    "featureScores.columns = ['Specs','Score']  #naming the dataframe columns\n",
    "print(featureScores.nlargest(10,'Score'))  #print 10 best features"
   ]
  },
  {
   "cell_type": "code",
   "execution_count": null,
   "metadata": {
    "colab": {
     "base_uri": "https://localhost:8080/",
     "height": 350
    },
    "id": "Z18sEUCrsW90",
    "outputId": "fed0b31f-738a-4450-b34e-2751b9030d35"
   },
   "outputs": [
    {
     "name": "stdout",
     "output_type": "stream",
     "text": [
      "[0.13682789 0.0366326  0.02613735 0.04747311 0.03667787 0.03596857\n",
      " 0.02927976 0.03441291 0.03905699 0.03638017 0.04471991 0.04207388\n",
      " 0.03116153 0.03649377 0.03260832 0.03350532 0.03320809 0.03698673\n",
      " 0.03959841 0.0307039  0.03296544 0.01159575 0.00013984 0.00112549\n",
      " 0.10113762 0.03312878]\n"
     ]
    },
    {
     "data": {
      "image/png": "[encoded data removed]",
      "text/plain": [
       "<Figure size 432x288 with 1 Axes>"
      ]
     },
     "metadata": {
      "needs_background": "light",
      "tags": []
     },
     "output_type": "display_data"
    }
   ],
   "source": [
    "from sklearn.ensemble import ExtraTreesClassifier\n",
    "from sklearn.feature_selection import SelectFromModel\n",
    "import matplotlib.pyplot as plt\n",
    "model = ExtraTreesClassifier()\n",
    "model.fit(X_all_sm, Y_events_sm)\n",
    "etc_selector = SelectFromModel(estimator=ExtraTreesClassifier(), max_features=10)\n",
    "etc_selector.fit(X_all_sm, Y_events_sm)\n",
    "etc_support = etc_selector.get_support()\n",
    "print(model.feature_importances_) #use inbuilt class feature_importances of tree based classifiers\n",
    "#plot graph of feature importances for better visualization\n",
    "#df_all_result2 = df_all_result.copy()\n",
    "#del df_all_result2\n",
    "feat_importances = pd.Series(model.feature_importances_, index=cols_X)\n",
    "feat_importances.nlargest(10).plot(kind='barh')\n",
    "plt.show()"
   ]
  },
  {
   "cell_type": "code",
   "execution_count": null,
   "metadata": {
    "colab": {
     "base_uri": "https://localhost:8080/",
     "height": 68
    },
    "id": "IKoADBo67Xj8",
    "outputId": "3205d108-8710-42c8-ffec-6d624d3ddb54"
   },
   "outputs": [
    {
     "data": {
      "text/plain": [
       "array([ True,  True, False, False, False, False, False, False,  True,\n",
       "       False, False,  True, False, False,  True,  True, False,  True,\n",
       "       False,  True,  True, False,  True, False, False, False])"
      ]
     },
     "execution_count": 46,
     "metadata": {
      "tags": []
     },
     "output_type": "execute_result"
    }
   ],
   "source": [
    "rfe_support"
   ]
  },
  {
   "cell_type": "code",
   "execution_count": null,
   "metadata": {
    "colab": {
     "base_uri": "https://localhost:8080/",
     "height": 326
    },
    "id": "GwbBk6m4xFDZ",
    "outputId": "a73e2b41-669b-45da-b31a-47b799138259"
   },
   "outputs": [
    {
     "name": "stdout",
     "output_type": "stream",
     "text": [
      "Fitting estimator with 26 features.\n",
      "Fitting estimator with 16 features.\n",
      "Fitting estimator with 6 features.\n",
      "Fitting estimator with 26 features.\n",
      "Fitting estimator with 16 features.\n",
      "Fitting estimator with 6 features.\n",
      "Fitting estimator with 26 features.\n",
      "Fitting estimator with 16 features.\n",
      "Fitting estimator with 6 features.\n",
      "Fitting estimator with 26 features.\n",
      "Fitting estimator with 16 features.\n",
      "Fitting estimator with 6 features.\n",
      "Fitting estimator with 26 features.\n",
      "Fitting estimator with 16 features.\n",
      "Fitting estimator with 6 features.\n",
      "26 selected features\n",
      "['age', 'poids', 'tail', 'tour_tail', 'pas_bg1', 'pad_bg1', 'poulg1', 'pas_bg2', 'pad_bg2', 'poulg2', 'pas_bg3', 'pad_bg3', 'poulg3', 'pas_bd1', 'pad_bd2', 'pould1', 'pas_bd2', 'pould2', 'pas_bd3', 'pad_bd3', 'pould3', 'dysp_repos', 'amp_mi', 'omi', 'omi_godet', 'gly']\n"
     ]
    }
   ],
   "source": [
    "from sklearn.feature_selection import RFECV\n",
    "from sklearn.linear_model import LogisticRegression\n",
    "rfe_selector = RFECV(estimator=LogisticRegression(max_iter=1000), min_features_to_select=4, step=10, verbose=5)\n",
    "rfe_selector.fit(X_all_sm, Y_events_sm)\n",
    "rfe_support = rfe_selector.get_support()\n",
    "df_all_result2 = df_all_result.copy()\n",
    "del df_all_result2['lifespan']\n",
    "del df_all_result2['event']\n",
    "rfe_feature = df_all_result2.loc[:,rfe_support].columns.tolist()\n",
    "print(str(len(rfe_feature)), 'selected features')\n",
    "print(rfe_feature)\n",
    "#dfscores = pd.DataFrame(rfe_selector.scores_)\n",
    "#dfcolumns = pd.DataFrame(df_all_result.columns)\n",
    "##concat two dataframes for better visualization \n",
    "#featureScores = pd.concat([dfcolumns,dfscores],axis=1)\n",
    "#featureScores.columns = ['Specs','Score']  #naming the dataframe columns\n",
    "#print(featureScores.nlargest(10,'Score'))  #print 10 best features"
   ]
  },
  {
   "cell_type": "code",
   "execution_count": null,
   "metadata": {
    "colab": {
     "base_uri": "https://localhost:8080/",
     "height": 51
    },
    "id": "V7_k--VryY6j",
    "outputId": "402c3f2e-6b18-42da-92f1-99509d8c50f1"
   },
   "outputs": [
    {
     "name": "stdout",
     "output_type": "stream",
     "text": [
      "10 selected features\n",
      "['age', 'pas_bg1', 'pad_bg1', 'poulg1', 'pad_bg2', 'pas_bg3', 'pad_bg3', 'pad_bd2', 'pad_bd3', 'gly']\n"
     ]
    }
   ],
   "source": [
    "from sklearn.feature_selection import SelectFromModel\n",
    "from sklearn.linear_model import LogisticRegression\n",
    "\n",
    "embeded_lr_selector = SelectFromModel(LogisticRegression(penalty=\"l1\", solver='liblinear'), max_features=10)\n",
    "embeded_lr_selector.fit(X_all_sm, Y_events_sm)\n",
    "\n",
    "embeded_lr_support = embeded_lr_selector.get_support()\n",
    "embeded_lr_feature = df_all_result2.loc[:,embeded_lr_support].columns.tolist()\n",
    "print(str(len(embeded_lr_feature)), 'selected features')\n",
    "print(embeded_lr_feature)"
   ]
  },
  {
   "cell_type": "code",
   "execution_count": null,
   "metadata": {
    "colab": {
     "base_uri": "https://localhost:8080/",
     "height": 51
    },
    "id": "ZtI-KnGGzT-j",
    "outputId": "3ef3cc98-9059-4c0e-86ec-acd7118dfa39"
   },
   "outputs": [
    {
     "name": "stdout",
     "output_type": "stream",
     "text": [
      "9 selected features\n",
      "['age', 'poids', 'tour_tail', 'pas_bg3', 'pad_bg3', 'pad_bd2', 'pould2', 'omi_godet', 'gly']\n"
     ]
    }
   ],
   "source": [
    "\n",
    "from sklearn.feature_selection import SelectFromModel\n",
    "from sklearn.ensemble import RandomForestClassifier\n",
    "\n",
    "embeded_rf_selector = SelectFromModel(RandomForestClassifier(n_estimators=100), max_features=10)\n",
    "embeded_rf_selector.fit(X_all_sm, Y_events_sm)\n",
    "\n",
    "embeded_rf_support = embeded_rf_selector.get_support()\n",
    "embeded_rf_feature = df_all_result2.loc[:,embeded_rf_support].columns.tolist()\n",
    "print(str(len(embeded_rf_feature)), 'selected features')\n",
    "print(embeded_rf_feature)"
   ]
  },
  {
   "cell_type": "code",
   "execution_count": null,
   "metadata": {
    "colab": {
     "base_uri": "https://localhost:8080/",
     "height": 51
    },
    "id": "XQXHVnSwzzRZ",
    "outputId": "43591e77-73e7-40b5-86ed-a19d52d6cd79"
   },
   "outputs": [
    {
     "name": "stdout",
     "output_type": "stream",
     "text": [
      "10 selected features\n",
      "['age', 'poids', 'tail', 'tour_tail', 'pad_bg2', 'pad_bg3', 'pas_bd2', 'pould2', 'pas_bd3', 'omi_godet']\n"
     ]
    }
   ],
   "source": [
    "from sklearn.feature_selection import SelectFromModel\n",
    "from lightgbm import LGBMClassifier\n",
    "\n",
    "lgbc=LGBMClassifier(n_estimators=500, learning_rate=0.05, num_leaves=32, colsample_bytree=0.2,\n",
    "            reg_alpha=3, reg_lambda=1, min_split_gain=0.01, min_child_weight=40)\n",
    "\n",
    "embeded_lgb_selector = SelectFromModel(lgbc, max_features=10)\n",
    "embeded_lgb_selector.fit(X_all_sm, Y_events_sm)\n",
    "\n",
    "embeded_lgb_support = embeded_lgb_selector.get_support()\n",
    "embeded_lgb_feature = df_all_result2.loc[:,embeded_lgb_support].columns.tolist()\n",
    "print(str(len(embeded_lgb_feature)), 'selected features')\n",
    "print(embeded_lgb_feature)"
   ]
  },
  {
   "cell_type": "code",
   "execution_count": null,
   "metadata": {
    "colab": {
     "base_uri": "https://localhost:8080/",
     "height": 1000
    },
    "id": "c4c8yBB9vukK",
    "outputId": "40fcbdb5-4ff3-41bc-aa09-e4c0f2e85119"
   },
   "outputs": [
    {
     "data": {
      "image/png": "[encoded data removed]",
      "text/plain": [
       "<Figure size 2016x2016 with 2 Axes>"
      ]
     },
     "metadata": {
      "needs_background": "light",
      "tags": []
     },
     "output_type": "display_data"
    }
   ],
   "source": [
    "import pandas as pd\n",
    "import numpy as np\n",
    "import seaborn as sns\n",
    "\n",
    "#get correlations of each features in dataset\n",
    "corrmat = df_all_result.corr()\n",
    "top_corr_features = corrmat.index\n",
    "plt.figure(figsize=(28,28))\n",
    "#plot heat map\n",
    "g=sns.heatmap(df_all_result[top_corr_features].corr(),annot=True,cmap=\"RdYlGn\")"
   ]
  },
  {
   "cell_type": "code",
   "execution_count": null,
   "metadata": {
    "colab": {
     "base_uri": "https://localhost:8080/",
     "height": 359
    },
    "id": "mOM4ZIgn29IE",
    "outputId": "282eead3-9367-411b-8f86-93f106bfc9d6"
   },
   "outputs": [
    {
     "data": {
      "text/html": [
       "<div>\n",
       "<style scoped>\n",
       "    .dataframe tbody tr th:only-of-type {\n",
       "        vertical-align: middle;\n",
       "    }\n",
       "\n",
       "    .dataframe tbody tr th {\n",
       "        vertical-align: top;\n",
       "    }\n",
       "\n",
       "    .dataframe thead th {\n",
       "        text-align: right;\n",
       "    }\n",
       "</style>\n",
       "<table border=\"1\" class=\"dataframe\">\n",
       "  <thead>\n",
       "    <tr style=\"text-align: right;\">\n",
       "      <th></th>\n",
       "      <th>Feature</th>\n",
       "      <th>f_class</th>\n",
       "      <th>extra Tree</th>\n",
       "      <th>RFE</th>\n",
       "      <th>Logistics</th>\n",
       "      <th>Random Forest</th>\n",
       "      <th>LightGBM</th>\n",
       "      <th>Total</th>\n",
       "    </tr>\n",
       "  </thead>\n",
       "  <tbody>\n",
       "    <tr>\n",
       "      <th>1</th>\n",
       "      <td>pad_bg3</td>\n",
       "      <td>True</td>\n",
       "      <td>True</td>\n",
       "      <td>True</td>\n",
       "      <td>True</td>\n",
       "      <td>True</td>\n",
       "      <td>True</td>\n",
       "      <td>6</td>\n",
       "    </tr>\n",
       "    <tr>\n",
       "      <th>2</th>\n",
       "      <td>age</td>\n",
       "      <td>True</td>\n",
       "      <td>True</td>\n",
       "      <td>True</td>\n",
       "      <td>True</td>\n",
       "      <td>True</td>\n",
       "      <td>True</td>\n",
       "      <td>6</td>\n",
       "    </tr>\n",
       "    <tr>\n",
       "      <th>3</th>\n",
       "      <td>tour_tail</td>\n",
       "      <td>True</td>\n",
       "      <td>True</td>\n",
       "      <td>True</td>\n",
       "      <td>False</td>\n",
       "      <td>True</td>\n",
       "      <td>True</td>\n",
       "      <td>5</td>\n",
       "    </tr>\n",
       "    <tr>\n",
       "      <th>4</th>\n",
       "      <td>omi_godet</td>\n",
       "      <td>True</td>\n",
       "      <td>True</td>\n",
       "      <td>True</td>\n",
       "      <td>False</td>\n",
       "      <td>True</td>\n",
       "      <td>True</td>\n",
       "      <td>5</td>\n",
       "    </tr>\n",
       "    <tr>\n",
       "      <th>5</th>\n",
       "      <td>pould2</td>\n",
       "      <td>True</td>\n",
       "      <td>False</td>\n",
       "      <td>True</td>\n",
       "      <td>False</td>\n",
       "      <td>True</td>\n",
       "      <td>True</td>\n",
       "      <td>4</td>\n",
       "    </tr>\n",
       "    <tr>\n",
       "      <th>6</th>\n",
       "      <td>poids</td>\n",
       "      <td>True</td>\n",
       "      <td>False</td>\n",
       "      <td>True</td>\n",
       "      <td>False</td>\n",
       "      <td>True</td>\n",
       "      <td>True</td>\n",
       "      <td>4</td>\n",
       "    </tr>\n",
       "    <tr>\n",
       "      <th>7</th>\n",
       "      <td>pas_bg3</td>\n",
       "      <td>False</td>\n",
       "      <td>True</td>\n",
       "      <td>True</td>\n",
       "      <td>True</td>\n",
       "      <td>True</td>\n",
       "      <td>False</td>\n",
       "      <td>4</td>\n",
       "    </tr>\n",
       "    <tr>\n",
       "      <th>8</th>\n",
       "      <td>pad_bg2</td>\n",
       "      <td>False</td>\n",
       "      <td>True</td>\n",
       "      <td>True</td>\n",
       "      <td>True</td>\n",
       "      <td>False</td>\n",
       "      <td>True</td>\n",
       "      <td>4</td>\n",
       "    </tr>\n",
       "    <tr>\n",
       "      <th>9</th>\n",
       "      <td>gly</td>\n",
       "      <td>True</td>\n",
       "      <td>False</td>\n",
       "      <td>True</td>\n",
       "      <td>True</td>\n",
       "      <td>True</td>\n",
       "      <td>False</td>\n",
       "      <td>4</td>\n",
       "    </tr>\n",
       "    <tr>\n",
       "      <th>10</th>\n",
       "      <td>pas_bg1</td>\n",
       "      <td>True</td>\n",
       "      <td>False</td>\n",
       "      <td>True</td>\n",
       "      <td>True</td>\n",
       "      <td>False</td>\n",
       "      <td>False</td>\n",
       "      <td>3</td>\n",
       "    </tr>\n",
       "  </tbody>\n",
       "</table>\n",
       "</div>"
      ],
      "text/plain": [
       "      Feature  f_class  extra Tree  ...  Random Forest  LightGBM  Total\n",
       "1     pad_bg3     True        True  ...           True      True      6\n",
       "2         age     True        True  ...           True      True      6\n",
       "3   tour_tail     True        True  ...           True      True      5\n",
       "4   omi_godet     True        True  ...           True      True      5\n",
       "5      pould2     True       False  ...           True      True      4\n",
       "6       poids     True       False  ...           True      True      4\n",
       "7     pas_bg3    False        True  ...           True     False      4\n",
       "8     pad_bg2    False        True  ...          False      True      4\n",
       "9         gly     True       False  ...           True     False      4\n",
       "10    pas_bg1     True       False  ...          False     False      3\n",
       "\n",
       "[10 rows x 8 columns]"
      ]
     },
     "execution_count": 30,
     "metadata": {
      "tags": []
     },
     "output_type": "execute_result"
    }
   ],
   "source": [
    "# put all selection together\n",
    "#feature_selection_df = pd.DataFrame({'Feature':feature_name, 'Pearson':cor_support, 'Chi-2':chi_support, 'RFE':rfe_support, 'Logistics':embeded_lr_support,\n",
    "#                                    'Random Forest':embeded_rf_support, 'LightGBM':embeded_lgb_support})\n",
    "feature_selection_df = pd.DataFrame({'Feature':cols_X, 'f_class':f_class_support, 'extra Tree':etc_support, 'RFE':rfe_support, 'Logistics':embeded_lr_support,\n",
    "                                    'Random Forest':embeded_rf_support, 'LightGBM':embeded_lgb_support})\n",
    "# count the selected times for each feature\n",
    "feature_selection_df['Total'] = np.sum(feature_selection_df, axis=1)\n",
    "# display the top 100\n",
    "feature_selection_df = feature_selection_df.sort_values(['Total','Feature'] , ascending=False)\n",
    "feature_selection_df.index = range(1, len(feature_selection_df)+1)\n",
    "feature_selection_df.head(10)"
   ]
  },
  {
   "cell_type": "code",
   "execution_count": null,
   "metadata": {
    "id": "LNGAYw7DHlL5"
   },
   "outputs": [],
   "source": [
    "df_select_result = df_all_result[['poids', 'age', 'pad_bg3', 'pould3','pad_bg2', 'pould2', 'pad_bd3', 'omi_godet', 'poulg2', 'pould1']]\n",
    "df_select_result\n",
    "df_select_result = df_all_result[['poids', 'age', 'pad_bg3', 'pould3']]"
   ]
  },
  {
   "cell_type": "code",
   "execution_count": null,
   "metadata": {
    "colab": {
     "base_uri": "https://localhost:8080/",
     "height": 122
    },
    "id": "ZYoaxjQ2Jysh",
    "outputId": "2620402f-5a33-45ed-cfcf-3a7642f448e5"
   },
   "outputs": [
    {
     "name": "stderr",
     "output_type": "stream",
     "text": [
      "/usr/local/lib/python3.6/dist-packages/sklearn/utils/deprecation.py:87: FutureWarning: Function safe_indexing is deprecated; safe_indexing is deprecated in version 0.22 and will be removed in version 0.24.\n",
      "  warnings.warn(msg, category=FutureWarning)\n",
      "/usr/local/lib/python3.6/dist-packages/sklearn/model_selection/_split.py:296: FutureWarning: Setting a random_state has no effect since shuffle is False. This will raise an error in 0.24. You should leave random_state to its default (None), or set shuffle=True.\n",
      "  FutureWarning\n"
     ]
    },
    {
     "name": "stdout",
     "output_type": "stream",
     "text": [
      "Accuracy: 90.92%\n"
     ]
    }
   ],
   "source": [
    "from sklearn.model_selection import KFold\n",
    "from sklearn.model_selection import StratifiedKFold\n",
    "from sklearn.decomposition import PCA\n",
    "from sklearn.ensemble import RandomForestClassifier\n",
    "from sklearn.preprocessing import StandardScaler\n",
    "from imblearn.over_sampling import SMOTE\n",
    "from sklearn import model_selection\n",
    "\n",
    "\n",
    "Y_event = df_all_result['event'].values\n",
    "Y_events_new = df_all_result['event'].apply(lambda x: 1 if x>=1 else 0)\n",
    "Y_lifespan= df_all_result['lifespan'].values\n",
    "\n",
    "X_select = df_select_result.values\n",
    "sc = StandardScaler()\n",
    "X_select_std = sc.fit_transform(X_select)\n",
    "\n",
    "sm= SMOTE(random_state=0)\n",
    "X_select_sm, Y_events_sm= sm.fit_sample(X_select_std, Y_events_new)\n",
    "\n",
    "# data sample\n",
    "skfold = KFold(n_splits=10, random_state=100)\n",
    "model_lr_skfold = RandomForestClassifier()\n",
    "results_skfold = model_selection.cross_val_score(model_lr_skfold, X_select_sm, Y_events_sm, cv=skfold)\n",
    "predict_skfold = model_selection.cross_val_predict(model_lr_skfold, X_select_sm, Y_events_sm, cv=skfold) \n",
    "print(\"Accuracy: %.2f%%\" % (results_skfold.mean()*100.0))\n",
    "\n"
   ]
  },
  {
   "cell_type": "code",
   "execution_count": null,
   "metadata": {
    "colab": {
     "base_uri": "https://localhost:8080/",
     "height": 221
    },
    "id": "GaZNOeufUAXb",
    "outputId": "8807a848-93fc-46b9-cec3-7a8280fe47d6"
   },
   "outputs": [
    {
     "name": "stdout",
     "output_type": "stream",
     "text": [
      "[[1265  166]\n",
      " [  85 1346]]\n",
      "1265 166 85 1346\n",
      "              precision    recall  f1-score   support\n",
      "\n",
      "           0       0.94      0.88      0.91      1431\n",
      "           1       0.89      0.94      0.91      1431\n",
      "\n",
      "    accuracy                           0.91      2862\n",
      "   macro avg       0.91      0.91      0.91      2862\n",
      "weighted avg       0.91      0.91      0.91      2862\n",
      "\n"
     ]
    }
   ],
   "source": [
    "# Report displaying the confusion matrix\n",
    "# and also all the metrics: Accuracy, Recall, Precision, F1\n",
    "from sklearn.metrics import confusion_matrix\n",
    "print(confusion_matrix(Y_events_sm, predict_skfold))\n",
    "tn, fp, fn, tp = confusion_matrix(Y_events_sm, predict_skfold).ravel()\n",
    "print(tn, fp, fn, tp)\n",
    "\n",
    "from sklearn.metrics import classification_report\n",
    "report = classification_report(Y_events_sm, predict_skfold)\n",
    "print(report)"
   ]
  },
  {
   "cell_type": "code",
   "execution_count": null,
   "metadata": {
    "colab": {
     "base_uri": "https://localhost:8080/",
     "height": 122
    },
    "id": "YIc2iAW8R8v7",
    "outputId": "43939473-f413-454b-c650-6e2a3369e9e5"
   },
   "outputs": [
    {
     "name": "stdout",
     "output_type": "stream",
     "text": [
      "Accuracy: 69.05%\n"
     ]
    },
    {
     "name": "stderr",
     "output_type": "stream",
     "text": [
      "/usr/local/lib/python3.6/dist-packages/sklearn/utils/deprecation.py:87: FutureWarning: Function safe_indexing is deprecated; safe_indexing is deprecated in version 0.22 and will be removed in version 0.24.\n",
      "  warnings.warn(msg, category=FutureWarning)\n",
      "/usr/local/lib/python3.6/dist-packages/sklearn/model_selection/_split.py:296: FutureWarning: Setting a random_state has no effect since shuffle is False. This will raise an error in 0.24. You should leave random_state to its default (None), or set shuffle=True.\n",
      "  FutureWarning\n"
     ]
    }
   ],
   "source": [
    "df_select_result = df_all_result[['poids', 'age', 'pad_bg3', 'pould3']]\n",
    "\n",
    "from sklearn import model_selection\n",
    "from sklearn.model_selection import KFold\n",
    "from sklearn.model_selection import StratifiedKFold\n",
    "from sklearn.linear_model import LogisticRegression\n",
    "from sklearn.linear_model import LinearRegression\n",
    "from sklearn.decomposition import PCA\n",
    "from sklearn.preprocessing import StandardScaler\n",
    "from imblearn.over_sampling import SMOTE\n",
    "\n",
    "#data = cross_validation.KFold(len(train_set), n_folds=10, indices=False) \n",
    "\n",
    "Y_event = df_all_result['event'].values\n",
    "Y_events_new = df_all_result['event'].apply(lambda x: 1 if x>=1 else 0)\n",
    "Y_lifespan= df_all_result['lifespan'].values\n",
    "\n",
    "X_select = df_select_result.values\n",
    "sc = StandardScaler()\n",
    "X_select_std = sc.fit_transform(X_select)\n",
    "\n",
    "sm= SMOTE(random_state=0)\n",
    "X_select_sm, Y_events_sm= sm.fit_sample(X_select_std, Y_events_new)\n",
    "\n",
    "# data sample\n",
    "skfold = KFold(n_splits=10, random_state=100)\n",
    "model_lr_skfold = LogisticRegression(multi_class='auto', solver='liblinear')\n",
    "results_skfold = model_selection.cross_val_score(model_lr_skfold, X_select_sm, Y_events_sm, cv=skfold)\n",
    "predict_skfold = model_selection.cross_val_predict(model_lr_skfold, X_select_sm, Y_events_sm, cv=skfold) \n",
    "print(\"Accuracy: %.2f%%\" % (results_skfold.mean()*100.0))\n",
    "\n",
    "\n"
   ]
  },
  {
   "cell_type": "markdown",
   "metadata": {
    "id": "lROGzajk6rrk"
   },
   "source": [
    "### PC Explained Variance for Selection of PC number"
   ]
  },
  {
   "cell_type": "code",
   "execution_count": null,
   "metadata": {
    "id": "aRgWp36bbAy2"
   },
   "outputs": [],
   "source": [
    "from sklearn.preprocessing import StandardScaler\n",
    "\n",
    "# Remove the dependant variable for prediction\n",
    "\n",
    "cols_X = list(df_all_result.columns.values)\n",
    "cols_X.pop(cols_X.index('event'))\n",
    "cols_X.pop(cols_X.index('lifespan'))\n",
    "\n",
    "# Apply standardization to all values\n",
    "X_all = df_all_result[cols_X].values\n",
    "df_all_result = df_all_result[df_all_result.event <= 1]\n",
    "sc = StandardScaler()\n",
    "X_all_std = sc.fit_transform(X_all)\n",
    "\n",
    "# Calculate eighen values and vectors\n",
    "cov_mat = np.cov(X_all_std.T)\n",
    "eigen_vals, eigen_vecs = np.linalg.eig(cov_mat)\n",
    "\n",
    "# Compute explained variance and cumulative explained variance\n",
    "tot = sum(eigen_vals)\n",
    "var_exp = [(i / tot) for i in sorted(eigen_vals, reverse=True)]\n",
    "cum_var_exp = np.cumsum(var_exp)\n"
   ]
  },
  {
   "cell_type": "code",
   "execution_count": null,
   "metadata": {
    "colab": {
     "base_uri": "https://localhost:8080/",
     "height": 279
    },
    "id": "DWW2IUSNBmuz",
    "outputId": "7f7be4ac-75bc-416c-8ded-82e5df091155"
   },
   "outputs": [
    {
     "data": {
      "image/png": "[encoded data removed]",
      "text/plain": [
       "<Figure size 432x288 with 1 Axes>"
      ]
     },
     "metadata": {
      "needs_background": "light",
      "tags": []
     },
     "output_type": "display_data"
    }
   ],
   "source": [
    "import matplotlib.pyplot as plt\n",
    "\n",
    "# plot explained variances\n",
    "plt.bar(range(0,len(var_exp)), var_exp, alpha=0.5, align='center', label='individual explained variance')\n",
    "plt.step(range(0,len(cum_var_exp)), cum_var_exp, where='mid', label='cumulative explained variance')\n",
    "plt.ylabel('Explained variance ratio')\n",
    "plt.xlabel('Principal component index')\n",
    "plt.legend(loc='best')\n",
    "plt.show()"
   ]
  },
  {
   "cell_type": "markdown",
   "metadata": {
    "id": "ndbk3WsVts3C"
   },
   "source": [
    "# PCA + Logistic Regression"
   ]
  },
  {
   "cell_type": "code",
   "execution_count": null,
   "metadata": {
    "colab": {
     "base_uri": "https://localhost:8080/",
     "height": 190
    },
    "id": "kqzRyACetlog",
    "outputId": "bf12219b-2013-49f3-f6f3-80472b435f4f"
   },
   "outputs": [
    {
     "name": "stderr",
     "output_type": "stream",
     "text": [
      "/usr/local/lib/python3.6/dist-packages/sklearn/externals/six.py:31: FutureWarning: The module is deprecated in version 0.21 and will be removed in version 0.23 since we've dropped support for Python 2.7. Please rely on the official version of six (https://pypi.org/project/six/).\n",
      "  \"(https://pypi.org/project/six/).\", FutureWarning)\n",
      "/usr/local/lib/python3.6/dist-packages/sklearn/utils/deprecation.py:144: FutureWarning: The sklearn.neighbors.base module is  deprecated in version 0.22 and will be removed in version 0.24. The corresponding classes / functions should instead be imported from sklearn.neighbors. Anything that cannot be imported from sklearn.neighbors is now part of the private API.\n",
      "  warnings.warn(message, FutureWarning)\n",
      "/usr/local/lib/python3.6/dist-packages/sklearn/utils/deprecation.py:87: FutureWarning: Function safe_indexing is deprecated; safe_indexing is deprecated in version 0.22 and will be removed in version 0.24.\n",
      "  warnings.warn(msg, category=FutureWarning)\n",
      "/usr/local/lib/python3.6/dist-packages/sklearn/model_selection/_split.py:296: FutureWarning: Setting a random_state has no effect since shuffle is False. This will raise an error in 0.24. You should leave random_state to its default (None), or set shuffle=True.\n",
      "  FutureWarning\n"
     ]
    },
    {
     "name": "stdout",
     "output_type": "stream",
     "text": [
      "Accuracy: 74.99%\n"
     ]
    }
   ],
   "source": [
    "from sklearn.model_selection import KFold\n",
    "from sklearn.model_selection import StratifiedKFold\n",
    "from sklearn.linear_model import LogisticRegression\n",
    "from sklearn.linear_model import LinearRegression\n",
    "from sklearn.decomposition import PCA\n",
    "from sklearn.preprocessing import StandardScaler\n",
    "from imblearn.over_sampling import SMOTE\n",
    "from sklearn import model_selection\n",
    "\n",
    "# cols_X datasets without labels (independant variable) \n",
    "cols_X = list(df_all_result.columns.values)\n",
    "cols_X.pop(cols_X.index('event'))\n",
    "cols_X.pop(cols_X.index('lifespan'))\n",
    "\n",
    "# Y_event datasets of labels\n",
    "Y_event = df_all_result['event'].values\n",
    "Y_events_new = df_all_result['event'].apply(lambda x: 1 if x>=1 else 0)\n",
    "Y_lifespan= df_all_result['lifespan'].values\n",
    "\n",
    "# standardization of the values\n",
    "X_all = df_all_result[cols_X].values\n",
    "sc = StandardScaler()\n",
    "X_all_std = sc.fit_transform(X_all)\n",
    "\n",
    "# Application of SMOTE technique to correct imbalanced classes\n",
    "sm= SMOTE(random_state=0)\n",
    "X_all_sm, Y_events_sm= sm.fit_sample(X_all_std, Y_events_new)\n",
    "\n",
    "\n",
    "# intialize pca and logistic regression model\n",
    "pca = PCA(n_components=16)\n",
    "lr = LogisticRegression(multi_class='auto', solver='liblinear')\n",
    "\n",
    "# fit and transform data\n",
    "X_all_pca = pca.fit_transform(X_all_sm)\n",
    "\n",
    "# K-fold cross-validation application\n",
    "skfold = StratifiedKFold(n_splits=10, random_state=100)\n",
    "# Logistic Regression model applied for classification\n",
    "model_lr_skfold = LogisticRegression(multi_class='auto', solver='liblinear')\n",
    "results_skfold = model_selection.cross_val_score(model_lr_skfold, X_all_pca, Y_events_sm, cv=skfold)\n",
    "predict_skfold = model_selection.cross_val_predict(model_lr_skfold, X_all_pca, Y_events_sm, cv=skfold) \n",
    "print(\"Accuracy: %.2f%%\" % (results_skfold.mean()*100.0))\n",
    "\n"
   ]
  },
  {
   "cell_type": "code",
   "execution_count": null,
   "metadata": {
    "colab": {
     "base_uri": "https://localhost:8080/",
     "height": 221
    },
    "id": "WQ0aInpOt_7U",
    "outputId": "c4a1edea-3f8f-4519-f69b-46a98be03715"
   },
   "outputs": [
    {
     "name": "stdout",
     "output_type": "stream",
     "text": [
      "[[1078  353]\n",
      " [ 363 1068]]\n",
      "1078 353 363 1068\n",
      "              precision    recall  f1-score   support\n",
      "\n",
      "           0       0.75      0.75      0.75      1431\n",
      "           1       0.75      0.75      0.75      1431\n",
      "\n",
      "    accuracy                           0.75      2862\n",
      "   macro avg       0.75      0.75      0.75      2862\n",
      "weighted avg       0.75      0.75      0.75      2862\n",
      "\n"
     ]
    }
   ],
   "source": [
    "# Report displaying the confusion matrix\n",
    "# and also all the metrics: Accuracy, Recall, Precision, F1\n",
    "from sklearn.metrics import confusion_matrix\n",
    "print(confusion_matrix(Y_events_sm, predict_skfold))\n",
    "tn, fp, fn, tp = confusion_matrix(Y_events_sm, predict_skfold).ravel()\n",
    "print(tn, fp, fn, tp)\n",
    "\n",
    "from sklearn.metrics import classification_report\n",
    "report = classification_report(Y_events_sm, predict_skfold)\n",
    "print(report)"
   ]
  },
  {
   "cell_type": "markdown",
   "metadata": {
    "id": "6UlA6BwPwGuv"
   },
   "source": [
    "# PCA + Random Tree Forest"
   ]
  },
  {
   "cell_type": "code",
   "execution_count": null,
   "metadata": {
    "colab": {
     "base_uri": "https://localhost:8080/",
     "height": 122
    },
    "id": "bDFUn9OdwhRC",
    "outputId": "d63046ee-0e93-4c9e-f20a-07285e4adb10"
   },
   "outputs": [
    {
     "name": "stderr",
     "output_type": "stream",
     "text": [
      "/usr/local/lib/python3.6/dist-packages/sklearn/utils/deprecation.py:87: FutureWarning: Function safe_indexing is deprecated; safe_indexing is deprecated in version 0.22 and will be removed in version 0.24.\n",
      "  warnings.warn(msg, category=FutureWarning)\n",
      "/usr/local/lib/python3.6/dist-packages/sklearn/model_selection/_split.py:296: FutureWarning: Setting a random_state has no effect since shuffle is False. This will raise an error in 0.24. You should leave random_state to its default (None), or set shuffle=True.\n",
      "  FutureWarning\n"
     ]
    },
    {
     "name": "stdout",
     "output_type": "stream",
     "text": [
      "Accuracy: 95.84%\n"
     ]
    }
   ],
   "source": [
    "from sklearn.model_selection import KFold\n",
    "from sklearn.model_selection import StratifiedKFold\n",
    "from sklearn.decomposition import PCA\n",
    "from sklearn.ensemble import RandomForestClassifier\n",
    "from sklearn.preprocessing import StandardScaler\n",
    "from imblearn.over_sampling import SMOTE\n",
    "from sklearn import model_selection\n",
    "\n",
    "cols_X = list(df_all_result.columns.values)\n",
    "cols_X.pop(cols_X.index('event'))\n",
    "cols_X.pop(cols_X.index('lifespan'))\n",
    "\n",
    "Y_event = df_all_result['event'].values\n",
    "Y_events_new = df_all_result['event'].apply(lambda x: 1 if x>=1 else 0)\n",
    "Y_lifespan= df_all_result['lifespan'].values\n",
    "\n",
    "X_all = df_all_result[cols_X].values\n",
    "sc = StandardScaler()\n",
    "X_all_std = sc.fit_transform(X_all)\n",
    "\n",
    "\n",
    "sm= SMOTE(random_state=0)\n",
    "X_all_sm, Y_events_sm= sm.fit_sample(X_all_std, Y_events_new)\n",
    "\n",
    "# intialize pca and logistic regression model\n",
    "pca = PCA(n_components=16)\n",
    "\n",
    "# fit and transform data\n",
    "X_all_pca = pca.fit_transform(X_all_sm)\n",
    "\n",
    "# data sample\n",
    "skfold = StratifiedKFold(n_splits=10, random_state=100)\n",
    "model_rf_skfold = RandomForestClassifier()\n",
    "results_skfold = model_selection.cross_val_score(model_rf_skfold, X_all_pca, Y_events_sm, cv=skfold)\n",
    "predict_skfold = model_selection.cross_val_predict(model_rf_skfold, X_all_pca, Y_events_sm, cv=skfold) \n",
    "print(\"Accuracy: %.2f%%\" % (results_skfold.mean()*100.0))\n",
    "\n"
   ]
  },
  {
   "cell_type": "code",
   "execution_count": null,
   "metadata": {
    "colab": {
     "base_uri": "https://localhost:8080/",
     "height": 221
    },
    "id": "-A4IaWIqw2A5",
    "outputId": "66d7ea0b-9fdb-4a86-8819-6e108da3667f"
   },
   "outputs": [
    {
     "name": "stdout",
     "output_type": "stream",
     "text": [
      "[[1341   90]\n",
      " [  24 1407]]\n",
      "1341 90 24 1407\n",
      "              precision    recall  f1-score   support\n",
      "\n",
      "           0       0.98      0.94      0.96      1431\n",
      "           1       0.94      0.98      0.96      1431\n",
      "\n",
      "    accuracy                           0.96      2862\n",
      "   macro avg       0.96      0.96      0.96      2862\n",
      "weighted avg       0.96      0.96      0.96      2862\n",
      "\n"
     ]
    }
   ],
   "source": [
    "from sklearn.metrics import confusion_matrix\n",
    "print(confusion_matrix(Y_events_sm, predict_skfold))\n",
    "tn, fp, fn, tp = confusion_matrix(Y_events_sm, predict_skfold).ravel()\n",
    "print(tn, fp, fn, tp)\n",
    "\n",
    "from sklearn.metrics import classification_report\n",
    "report = classification_report(Y_events_sm, predict_skfold)\n",
    "print(report)"
   ]
  },
  {
   "cell_type": "markdown",
   "metadata": {
    "id": "1HxWLr6jxYL6"
   },
   "source": [
    "# PCA + KNN"
   ]
  },
  {
   "cell_type": "code",
   "execution_count": null,
   "metadata": {
    "colab": {
     "base_uri": "https://localhost:8080/",
     "height": 122
    },
    "id": "6u_-k3FYxXj9",
    "outputId": "30f0da6e-5470-44ae-afff-43ebb66eb8e5"
   },
   "outputs": [
    {
     "name": "stderr",
     "output_type": "stream",
     "text": [
      "/usr/local/lib/python3.6/dist-packages/sklearn/utils/deprecation.py:87: FutureWarning: Function safe_indexing is deprecated; safe_indexing is deprecated in version 0.22 and will be removed in version 0.24.\n",
      "  warnings.warn(msg, category=FutureWarning)\n",
      "/usr/local/lib/python3.6/dist-packages/sklearn/model_selection/_split.py:296: FutureWarning: Setting a random_state has no effect since shuffle is False. This will raise an error in 0.24. You should leave random_state to its default (None), or set shuffle=True.\n",
      "  FutureWarning\n"
     ]
    },
    {
     "name": "stdout",
     "output_type": "stream",
     "text": [
      "Accuracy: 94.30%\n"
     ]
    }
   ],
   "source": [
    "from sklearn.model_selection import KFold\n",
    "from sklearn.model_selection import StratifiedKFold\n",
    "from sklearn.decomposition import PCA\n",
    "from sklearn.ensemble import RandomForestClassifier\n",
    "from sklearn.neighbors import KNeighborsClassifier\n",
    "from sklearn.preprocessing import StandardScaler\n",
    "from imblearn.over_sampling import SMOTE\n",
    "from sklearn import model_selection\n",
    "\n",
    "cols_X = list(df_all_result.columns.values)\n",
    "cols_X.pop(cols_X.index('event'))\n",
    "cols_X.pop(cols_X.index('lifespan'))\n",
    "\n",
    "Y_event = df_all_result['event'].values\n",
    "Y_events_new = df_all_result['event'].apply(lambda x: 1 if x>=1 else 0)\n",
    "Y_lifespan= df_all_result['lifespan'].values\n",
    "\n",
    "X_all = df_all_result[cols_X].values\n",
    "sc = StandardScaler()\n",
    "X_all_std = sc.fit_transform(X_all)\n",
    "\n",
    "sm= SMOTE(random_state=0)\n",
    "X_all_sm, Y_events_sm= sm.fit_sample(X_all_std, Y_events_new)\n",
    "\n",
    "# intialize pca and logistic regression model\n",
    "pca = PCA(n_components=16)\n",
    "\n",
    "# fit and transform data\n",
    "X_all_pca = pca.fit_transform(X_all_sm)\n",
    "\n",
    "# data sample\n",
    "skfold = StratifiedKFold(n_splits=10, random_state=100)\n",
    "model_rf_skfold = KNeighborsClassifier(n_neighbors=3)\n",
    "results_skfold = model_selection.cross_val_score(model_rf_skfold, X_all_pca, Y_events_sm, cv=skfold)\n",
    "predict_skfold = model_selection.cross_val_predict(model_rf_skfold, X_all_pca, Y_events_sm, cv=skfold) \n",
    "print(\"Accuracy: %.2f%%\" % (results_skfold.mean()*100.0))\n",
    "\n"
   ]
  },
  {
   "cell_type": "code",
   "execution_count": null,
   "metadata": {
    "colab": {
     "base_uri": "https://localhost:8080/",
     "height": 221
    },
    "id": "kEOqTKt_yRG9",
    "outputId": "9e4d22bf-cc2f-4fce-a50d-6d834180975a"
   },
   "outputs": [
    {
     "name": "stdout",
     "output_type": "stream",
     "text": [
      "[[1280  151]\n",
      " [  12 1419]]\n",
      "1280 151 12 1419\n",
      "              precision    recall  f1-score   support\n",
      "\n",
      "           0       0.99      0.89      0.94      1431\n",
      "           1       0.90      0.99      0.95      1431\n",
      "\n",
      "    accuracy                           0.94      2862\n",
      "   macro avg       0.95      0.94      0.94      2862\n",
      "weighted avg       0.95      0.94      0.94      2862\n",
      "\n"
     ]
    }
   ],
   "source": [
    "from sklearn.metrics import confusion_matrix\n",
    "print(confusion_matrix(Y_events_sm, predict_skfold))\n",
    "tn, fp, fn, tp = confusion_matrix(Y_events_sm, predict_skfold).ravel()\n",
    "print(tn, fp, fn, tp)\n",
    "\n",
    "from sklearn.metrics import classification_report\n",
    "report = classification_report(Y_events_sm, predict_skfold)\n",
    "print(report)"
   ]
  },
  {
   "cell_type": "markdown",
   "metadata": {
    "id": "K7E1av9uyWaQ"
   },
   "source": [
    "# TSNE + Logistic Regression"
   ]
  },
  {
   "cell_type": "code",
   "execution_count": null,
   "metadata": {
    "colab": {
     "base_uri": "https://localhost:8080/",
     "height": 122
    },
    "id": "baJvV2LeybYm",
    "outputId": "7eb1f11c-42b8-42e2-e337-700c466e3b1a"
   },
   "outputs": [
    {
     "name": "stderr",
     "output_type": "stream",
     "text": [
      "/usr/local/lib/python3.6/dist-packages/sklearn/utils/deprecation.py:87: FutureWarning: Function safe_indexing is deprecated; safe_indexing is deprecated in version 0.22 and will be removed in version 0.24.\n",
      "  warnings.warn(msg, category=FutureWarning)\n"
     ]
    },
    {
     "name": "stdout",
     "output_type": "stream",
     "text": [
      "Accuracy: 43.63%\n"
     ]
    },
    {
     "name": "stderr",
     "output_type": "stream",
     "text": [
      "/usr/local/lib/python3.6/dist-packages/sklearn/model_selection/_split.py:296: FutureWarning: Setting a random_state has no effect since shuffle is False. This will raise an error in 0.24. You should leave random_state to its default (None), or set shuffle=True.\n",
      "  FutureWarning\n"
     ]
    }
   ],
   "source": [
    "from sklearn.model_selection import KFold\n",
    "from sklearn.model_selection import StratifiedKFold\n",
    "from sklearn.linear_model import LogisticRegression\n",
    "from sklearn.linear_model import LinearRegression\n",
    "from sklearn.manifold import TSNE\n",
    "from sklearn.preprocessing import StandardScaler\n",
    "from imblearn.over_sampling import SMOTE\n",
    "from sklearn import model_selection\n",
    "\n",
    "cols_X = list(df_all_result.columns.values)\n",
    "cols_X.pop(cols_X.index('event'))\n",
    "cols_X.pop(cols_X.index('lifespan'))\n",
    "\n",
    "Y_event = df_all_result['event'].values\n",
    "Y_events_new = df_all_result['event'].apply(lambda x: 1 if x>=1 else 0)\n",
    "Y_lifespan= df_all_result['lifespan'].values\n",
    "\n",
    "X_all = df_all_result[cols_X].values\n",
    "sc = StandardScaler()\n",
    "X_all_std = sc.fit_transform(X_all)\n",
    "\n",
    "sm= SMOTE(random_state=0)\n",
    "X_all_sm, Y_events_sm= sm.fit_sample(X_all_std, Y_events_new)\n",
    "\n",
    "tsne = TSNE(n_components=2)\n",
    "\n",
    "# fit and transform data\n",
    "X_all_tsne = tsne.fit_transform(X_all_sm)\n",
    "\n",
    "# data sample\n",
    "skfold = StratifiedKFold(n_splits=10, random_state=100)\n",
    "model_lr_skfold = LogisticRegression(multi_class='auto', solver='liblinear')\n",
    "results_skfold = model_selection.cross_val_score(model_lr_skfold, X_all_tsne, Y_events_sm, cv=skfold)\n",
    "predict_skfold = model_selection.cross_val_predict(model_lr_skfold, X_all_tsne, Y_events_sm, cv=skfold) \n",
    "print(\"Accuracy: %.2f%%\" % (results_skfold.mean()*100.0))\n"
   ]
  },
  {
   "cell_type": "code",
   "execution_count": null,
   "metadata": {
    "colab": {
     "base_uri": "https://localhost:8080/",
     "height": 221
    },
    "id": "BjzzR_Ify1fq",
    "outputId": "a745d7e9-41c8-4ece-d0a2-9e59baea860b"
   },
   "outputs": [
    {
     "name": "stdout",
     "output_type": "stream",
     "text": [
      "[[513 918]\n",
      " [695 736]]\n",
      "513 918 695 736\n",
      "              precision    recall  f1-score   support\n",
      "\n",
      "           0       0.42      0.36      0.39      1431\n",
      "           1       0.44      0.51      0.48      1431\n",
      "\n",
      "    accuracy                           0.44      2862\n",
      "   macro avg       0.43      0.44      0.43      2862\n",
      "weighted avg       0.43      0.44      0.43      2862\n",
      "\n"
     ]
    }
   ],
   "source": [
    "from sklearn.metrics import confusion_matrix\n",
    "print(confusion_matrix(Y_events_sm, predict_skfold))\n",
    "tn, fp, fn, tp = confusion_matrix(Y_events_sm, predict_skfold).ravel()\n",
    "print(tn, fp, fn, tp)\n",
    "\n",
    "from sklearn.metrics import classification_report\n",
    "report = classification_report(Y_events_sm, predict_skfold)\n",
    "print(report)"
   ]
  },
  {
   "cell_type": "code",
   "execution_count": null,
   "metadata": {
    "colab": {
     "base_uri": "https://localhost:8080/",
     "height": 282
    },
    "id": "xMXH6wfjzC9v",
    "outputId": "c0bb4c26-d652-4fb4-9d79-c2afd19d4b41"
   },
   "outputs": [
    {
     "data": {
      "text/plain": [
       "<matplotlib.axes._subplots.AxesSubplot at 0x7f440cd2d1d0>"
      ]
     },
     "execution_count": 31,
     "metadata": {
      "tags": []
     },
     "output_type": "execute_result"
    },
    {
     "data": {
      "image/png": "[encoded data removed]",
      "text/plain": [
       "<Figure size 432x288 with 1 Axes>"
      ]
     },
     "metadata": {
      "needs_background": "light",
      "tags": []
     },
     "output_type": "display_data"
    }
   ],
   "source": [
    "import seaborn as sns\n",
    "palette = sns.color_palette(\"bright\", 2)\n",
    "sns.scatterplot(X_all_tsne[:,0], X_all_tsne[:,1], hue=Y_events_sm, legend='full', palette=palette)"
   ]
  },
  {
   "cell_type": "markdown",
   "metadata": {
    "id": "zy7LN7ctzLWg"
   },
   "source": [
    "# TSNE + Random Tree Forest"
   ]
  },
  {
   "cell_type": "code",
   "execution_count": null,
   "metadata": {
    "colab": {
     "base_uri": "https://localhost:8080/",
     "height": 122
    },
    "id": "KrKzMsxUzOzk",
    "outputId": "e1bc9f0e-e66f-4ab6-83cf-a51e546d57e6"
   },
   "outputs": [
    {
     "name": "stderr",
     "output_type": "stream",
     "text": [
      "/usr/local/lib/python3.6/dist-packages/sklearn/utils/deprecation.py:87: FutureWarning: Function safe_indexing is deprecated; safe_indexing is deprecated in version 0.22 and will be removed in version 0.24.\n",
      "  warnings.warn(msg, category=FutureWarning)\n",
      "/usr/local/lib/python3.6/dist-packages/sklearn/model_selection/_split.py:296: FutureWarning: Setting a random_state has no effect since shuffle is False. This will raise an error in 0.24. You should leave random_state to its default (None), or set shuffle=True.\n",
      "  FutureWarning\n"
     ]
    },
    {
     "name": "stdout",
     "output_type": "stream",
     "text": [
      "Accuracy: 94.86%\n"
     ]
    }
   ],
   "source": [
    "from sklearn.model_selection import KFold\n",
    "from sklearn.model_selection import StratifiedKFold\n",
    "from sklearn.ensemble import RandomForestClassifier\n",
    "from sklearn.manifold import TSNE\n",
    "from sklearn.preprocessing import StandardScaler\n",
    "from imblearn.over_sampling import SMOTE\n",
    "from sklearn import model_selection\n",
    "\n",
    "cols_X = list(df_all_result.columns.values)\n",
    "cols_X.pop(cols_X.index('event'))\n",
    "cols_X.pop(cols_X.index('lifespan'))\n",
    "\n",
    "Y_event = df_all_result['event'].values\n",
    "Y_events_new = df_all_result['event'].apply(lambda x: 1 if x>=1 else 0)\n",
    "Y_lifespan= df_all_result['lifespan'].values\n",
    "\n",
    "X_all = df_all_result[cols_X].values\n",
    "sc = StandardScaler()\n",
    "X_all_std = sc.fit_transform(X_all)\n",
    "\n",
    "sm= SMOTE(random_state=0)\n",
    "X_all_sm, Y_events_sm= sm.fit_sample(X_all_std, Y_events_new)\n",
    "\n",
    "# intialize pca and logistic regression model\n",
    "tsne = TSNE(n_components=2)\n",
    "\n",
    "# fit and transform data\n",
    "X_all_tsne = tsne.fit_transform(X_all_sm)\n",
    "\n",
    "# data sample\n",
    "skfold = StratifiedKFold(n_splits=10, random_state=100)\n",
    "model_lr_skfold = RandomForestClassifier()\n",
    "results_skfold = model_selection.cross_val_score(model_lr_skfold, X_all_tsne, Y_events_sm, cv=skfold)\n",
    "predict_skfold = model_selection.cross_val_predict(model_lr_skfold, X_all_tsne, Y_events_sm, cv=skfold) \n",
    "print(\"Accuracy: %.2f%%\" % (results_skfold.mean()*100.0))\n"
   ]
  },
  {
   "cell_type": "code",
   "execution_count": null,
   "metadata": {
    "colab": {
     "base_uri": "https://localhost:8080/",
     "height": 221
    },
    "id": "pjaa60C6zvAx",
    "outputId": "ee2a8c13-a599-4287-9b30-0271b3fbdd02"
   },
   "outputs": [
    {
     "name": "stdout",
     "output_type": "stream",
     "text": [
      "[[1325  106]\n",
      " [  44 1387]]\n",
      "1325 106 44 1387\n",
      "              precision    recall  f1-score   support\n",
      "\n",
      "           0       0.97      0.93      0.95      1431\n",
      "           1       0.93      0.97      0.95      1431\n",
      "\n",
      "    accuracy                           0.95      2862\n",
      "   macro avg       0.95      0.95      0.95      2862\n",
      "weighted avg       0.95      0.95      0.95      2862\n",
      "\n"
     ]
    }
   ],
   "source": [
    "from sklearn.metrics import confusion_matrix\n",
    "print(confusion_matrix(Y_events_sm, predict_skfold))\n",
    "tn, fp, fn, tp = confusion_matrix(Y_events_sm, predict_skfold).ravel()\n",
    "print(tn, fp, fn, tp)\n",
    "\n",
    "from sklearn.metrics import classification_report\n",
    "report = classification_report(Y_events_sm, predict_skfold)\n",
    "print(report)"
   ]
  },
  {
   "cell_type": "markdown",
   "metadata": {
    "id": "8YZnu_Ujz0sU"
   },
   "source": [
    "# TSNE + KNN"
   ]
  },
  {
   "cell_type": "code",
   "execution_count": null,
   "metadata": {
    "colab": {
     "base_uri": "https://localhost:8080/",
     "height": 122
    },
    "id": "-UDRZhno0Gna",
    "outputId": "da6e31fc-fc4f-484e-e7d6-4bfca6f5da2a"
   },
   "outputs": [
    {
     "name": "stderr",
     "output_type": "stream",
     "text": [
      "/usr/local/lib/python3.6/dist-packages/sklearn/utils/deprecation.py:87: FutureWarning: Function safe_indexing is deprecated; safe_indexing is deprecated in version 0.22 and will be removed in version 0.24.\n",
      "  warnings.warn(msg, category=FutureWarning)\n",
      "/usr/local/lib/python3.6/dist-packages/sklearn/model_selection/_split.py:296: FutureWarning: Setting a random_state has no effect since shuffle is False. This will raise an error in 0.24. You should leave random_state to its default (None), or set shuffle=True.\n",
      "  FutureWarning\n"
     ]
    },
    {
     "name": "stdout",
     "output_type": "stream",
     "text": [
      "Accuracy: 94.02%\n"
     ]
    }
   ],
   "source": [
    "from sklearn.model_selection import KFold\n",
    "from sklearn.model_selection import StratifiedKFold\n",
    "from sklearn.decomposition import PCA\n",
    "from sklearn.ensemble import RandomForestClassifier\n",
    "from sklearn.neighbors import KNeighborsClassifier\n",
    "from sklearn.preprocessing import StandardScaler\n",
    "from imblearn.over_sampling import SMOTE\n",
    "from sklearn import model_selection\n",
    "\n",
    "cols_X = list(df_all_result.columns.values)\n",
    "cols_X.pop(cols_X.index('event'))\n",
    "cols_X.pop(cols_X.index('lifespan'))\n",
    "\n",
    "Y_event = df_all_result['event'].values\n",
    "Y_events_new = df_all_result['event'].apply(lambda x: 1 if x>=1 else 0)\n",
    "Y_lifespan= df_all_result['lifespan'].values\n",
    "\n",
    "X_all = df_all_result[cols_X].values\n",
    "sc = StandardScaler()\n",
    "X_all_std = sc.fit_transform(X_all)\n",
    "\n",
    "sm= SMOTE(random_state=0)\n",
    "X_all_sm, Y_events_sm= sm.fit_sample(X_all_std, Y_events_new)\n",
    "\n",
    "# intialize pca and logistic regression model\n",
    "tsne = TSNE(n_components=2)\n",
    "\n",
    "# fit and transform data\n",
    "X_all_tsne = tsne.fit_transform(X_all_sm)\n",
    "\n",
    "# data sample\n",
    "skfold = StratifiedKFold(n_splits=10, random_state=100)\n",
    "model_rf_skfold = KNeighborsClassifier(n_neighbors=3)\n",
    "results_skfold = model_selection.cross_val_score(model_rf_skfold, X_all_tsne, Y_events_sm, cv=skfold)\n",
    "predict_skfold = model_selection.cross_val_predict(model_rf_skfold, X_all_tsne, Y_events_sm, cv=skfold) \n",
    "print(\"Accuracy: %.2f%%\" % (results_skfold.mean()*100.0))\n"
   ]
  },
  {
   "cell_type": "code",
   "execution_count": null,
   "metadata": {
    "colab": {
     "base_uri": "https://localhost:8080/",
     "height": 221
    },
    "id": "xVaHWPOQ0bHa",
    "outputId": "19da986d-9c0d-493f-b33b-ab42ba4cdc21"
   },
   "outputs": [
    {
     "name": "stdout",
     "output_type": "stream",
     "text": [
      "[[1295  136]\n",
      " [  35 1396]]\n",
      "1295 136 35 1396\n",
      "              precision    recall  f1-score   support\n",
      "\n",
      "           0       0.97      0.90      0.94      1431\n",
      "           1       0.91      0.98      0.94      1431\n",
      "\n",
      "    accuracy                           0.94      2862\n",
      "   macro avg       0.94      0.94      0.94      2862\n",
      "weighted avg       0.94      0.94      0.94      2862\n",
      "\n"
     ]
    }
   ],
   "source": [
    "from sklearn.metrics import confusion_matrix\n",
    "print(confusion_matrix(Y_events_sm, predict_skfold))\n",
    "tn, fp, fn, tp = confusion_matrix(Y_events_sm, predict_skfold).ravel()\n",
    "print(tn, fp, fn, tp)\n",
    "\n",
    "from sklearn.metrics import classification_report\n",
    "report = classification_report(Y_events_sm, predict_skfold)\n",
    "print(report)"
   ]
  },
  {
   "cell_type": "markdown",
   "metadata": {
    "id": "JXr100xS0o7R"
   },
   "source": [
    "# Autoencoder + Logistic Regression"
   ]
  },
  {
   "cell_type": "code",
   "execution_count": null,
   "metadata": {
    "colab": {
     "base_uri": "https://localhost:8080/",
     "height": 1000
    },
    "id": "SN0-yJyS0xNw",
    "outputId": "843ac3ab-9bea-4c62-f196-05e12b17acb0"
   },
   "outputs": [
    {
     "name": "stderr",
     "output_type": "stream",
     "text": [
      "Using TensorFlow backend.\n"
     ]
    },
    {
     "name": "stdout",
     "output_type": "stream",
     "text": [
      "Train on 2575 samples, validate on 287 samples\n",
      "Epoch 1/200\n",
      "2575/2575 [==============================] - 2s 670us/step - loss: -2.4014 - val_loss: -5.3981\n",
      "Epoch 2/200\n",
      "2575/2575 [==============================] - 0s 64us/step - loss: -4.2711 - val_loss: -5.9546\n",
      "Epoch 3/200\n",
      "2575/2575 [==============================] - 0s 56us/step - loss: -4.7728 - val_loss: -6.0123\n",
      "Epoch 4/200\n",
      "2575/2575 [==============================] - 0s 58us/step - loss: -5.1351 - val_loss: -6.8931\n",
      "Epoch 5/200\n",
      "2575/2575 [==============================] - 0s 60us/step - loss: -5.3928 - val_loss: -7.0424\n",
      "Epoch 6/200\n",
      "2575/2575 [==============================] - 0s 60us/step - loss: -5.4423 - val_loss: -6.0210\n",
      "Epoch 7/200\n",
      "2575/2575 [==============================] - 0s 58us/step - loss: -5.3446 - val_loss: -7.0671\n",
      "Epoch 8/200\n",
      "2575/2575 [==============================] - 0s 56us/step - loss: -5.4333 - val_loss: -7.0645\n",
      "Epoch 9/200\n",
      "2575/2575 [==============================] - 0s 59us/step - loss: -5.2101 - val_loss: -7.0843\n",
      "Epoch 10/200\n",
      "2575/2575 [==============================] - 0s 54us/step - loss: -5.6198 - val_loss: -7.1728\n",
      "Epoch 11/200\n",
      "2575/2575 [==============================] - 0s 56us/step - loss: -2.2977 - val_loss: -0.1527\n",
      "Epoch 12/200\n",
      "2575/2575 [==============================] - 0s 57us/step - loss: -2.1118 - val_loss: -6.0868\n",
      "Epoch 13/200\n",
      "2575/2575 [==============================] - 0s 55us/step - loss: -5.1436 - val_loss: -6.8377\n",
      "Epoch 14/200\n",
      "2575/2575 [==============================] - 0s 53us/step - loss: -5.5257 - val_loss: -7.1547\n",
      "Epoch 15/200\n",
      "2575/2575 [==============================] - 0s 56us/step - loss: -5.6851 - val_loss: -7.2410\n",
      "Epoch 16/200\n",
      "2575/2575 [==============================] - 0s 58us/step - loss: -4.8893 - val_loss: -7.1083\n",
      "Epoch 17/200\n",
      "2575/2575 [==============================] - 0s 56us/step - loss: -5.6419 - val_loss: -7.2099\n",
      "Epoch 18/200\n",
      "2575/2575 [==============================] - 0s 57us/step - loss: -4.6184 - val_loss: -6.6299\n",
      "Epoch 19/200\n",
      "2575/2575 [==============================] - 0s 57us/step - loss: -5.4581 - val_loss: -7.0308\n",
      "Epoch 20/200\n",
      "2575/2575 [==============================] - 0s 58us/step - loss: -5.6212 - val_loss: -7.1809\n",
      "Epoch 21/200\n",
      "2575/2575 [==============================] - 0s 55us/step - loss: -5.7197 - val_loss: -7.1773\n",
      "Epoch 22/200\n",
      "2575/2575 [==============================] - 0s 58us/step - loss: -5.7389 - val_loss: -7.2672\n",
      "Epoch 23/200\n",
      "2575/2575 [==============================] - 0s 60us/step - loss: -5.7295 - val_loss: -7.2815\n",
      "Epoch 24/200\n",
      "2575/2575 [==============================] - 0s 58us/step - loss: -5.7871 - val_loss: -7.2858\n",
      "Epoch 25/200\n",
      "2575/2575 [==============================] - 0s 60us/step - loss: -5.8084 - val_loss: -7.3403\n",
      "Epoch 26/200\n",
      "2575/2575 [==============================] - 0s 63us/step - loss: -5.8261 - val_loss: -7.3448\n",
      "Epoch 27/200\n",
      "2575/2575 [==============================] - 0s 56us/step - loss: -5.8569 - val_loss: -7.3918\n",
      "Epoch 28/200\n",
      "2575/2575 [==============================] - 0s 57us/step - loss: -5.8431 - val_loss: -7.3721\n",
      "Epoch 29/200\n",
      "2575/2575 [==============================] - 0s 61us/step - loss: -5.8830 - val_loss: -7.3881\n",
      "Epoch 30/200\n",
      "2575/2575 [==============================] - 0s 56us/step - loss: -5.0673 - val_loss: -6.9886\n",
      "Epoch 31/200\n",
      "2575/2575 [==============================] - 0s 54us/step - loss: -5.5951 - val_loss: -7.2296\n",
      "Epoch 32/200\n",
      "2575/2575 [==============================] - 0s 54us/step - loss: -5.7607 - val_loss: -7.3282\n",
      "Epoch 33/200\n",
      "2575/2575 [==============================] - 0s 55us/step - loss: -5.7379 - val_loss: -7.2849\n",
      "Epoch 34/200\n",
      "2575/2575 [==============================] - 0s 54us/step - loss: -5.7984 - val_loss: -7.3543\n",
      "Epoch 35/200\n",
      "2575/2575 [==============================] - 0s 54us/step - loss: -5.8610 - val_loss: -7.3870\n",
      "Epoch 36/200\n",
      "2575/2575 [==============================] - 0s 56us/step - loss: -5.8994 - val_loss: -7.4114\n",
      "Epoch 37/200\n",
      "2575/2575 [==============================] - 0s 56us/step - loss: -5.8895 - val_loss: -7.3677\n",
      "Epoch 38/200\n",
      "2575/2575 [==============================] - 0s 52us/step - loss: -5.8746 - val_loss: -7.4026\n",
      "Epoch 39/200\n",
      "2575/2575 [==============================] - 0s 55us/step - loss: -5.9158 - val_loss: -7.4250\n",
      "Epoch 40/200\n",
      "2575/2575 [==============================] - 0s 51us/step - loss: -4.8201 - val_loss: -5.4501\n",
      "Epoch 41/200\n",
      "2575/2575 [==============================] - 0s 54us/step - loss: -4.4786 - val_loss: -6.2221\n",
      "Epoch 42/200\n",
      "2575/2575 [==============================] - 0s 52us/step - loss: -5.3137 - val_loss: -6.9459\n",
      "Epoch 43/200\n",
      "2575/2575 [==============================] - 0s 55us/step - loss: -5.6278 - val_loss: -7.2357\n",
      "Epoch 44/200\n",
      "2575/2575 [==============================] - 0s 55us/step - loss: -5.7397 - val_loss: -7.2696\n",
      "Epoch 45/200\n",
      "2575/2575 [==============================] - 0s 54us/step - loss: -5.7815 - val_loss: -7.3350\n",
      "Epoch 46/200\n",
      "2575/2575 [==============================] - 0s 54us/step - loss: -5.8267 - val_loss: -7.3488\n",
      "Epoch 47/200\n",
      "2575/2575 [==============================] - 0s 53us/step - loss: -5.8304 - val_loss: -7.2787\n",
      "Epoch 48/200\n",
      "2575/2575 [==============================] - 0s 54us/step - loss: -5.8472 - val_loss: -7.3516\n",
      "Epoch 49/200\n",
      "2575/2575 [==============================] - 0s 51us/step - loss: -5.7756 - val_loss: -7.2378\n",
      "Epoch 50/200\n",
      "2575/2575 [==============================] - 0s 56us/step - loss: -5.7993 - val_loss: -7.3321\n",
      "Epoch 51/200\n",
      "2575/2575 [==============================] - 0s 56us/step - loss: -5.2748 - val_loss: -6.6315\n",
      "Epoch 52/200\n",
      "2575/2575 [==============================] - 0s 55us/step - loss: -5.2691 - val_loss: -6.5732\n",
      "Epoch 53/200\n",
      "2575/2575 [==============================] - 0s 57us/step - loss: -5.1103 - val_loss: -0.5679\n",
      "Epoch 54/200\n",
      "2575/2575 [==============================] - 0s 57us/step - loss: 0.0755 - val_loss: -0.4756\n",
      "Epoch 55/200\n",
      "2575/2575 [==============================] - 0s 58us/step - loss: -0.0444 - val_loss: -0.5912\n",
      "Epoch 56/200\n",
      "2575/2575 [==============================] - 0s 56us/step - loss: -0.1528 - val_loss: -1.0380\n",
      "Epoch 57/200\n",
      "2575/2575 [==============================] - 0s 56us/step - loss: -1.5151 - val_loss: -4.6345\n",
      "Epoch 58/200\n",
      "2575/2575 [==============================] - 0s 55us/step - loss: -3.0999 - val_loss: -5.4766\n",
      "Epoch 59/200\n",
      "2575/2575 [==============================] - 0s 56us/step - loss: -2.3370 - val_loss: -5.0146\n",
      "Epoch 60/200\n",
      "2575/2575 [==============================] - 0s 53us/step - loss: -3.8085 - val_loss: -5.4433\n",
      "Epoch 61/200\n",
      "2575/2575 [==============================] - 0s 56us/step - loss: -4.3602 - val_loss: -6.0924\n",
      "Epoch 62/200\n",
      "2575/2575 [==============================] - 0s 56us/step - loss: -4.8262 - val_loss: -6.4653\n",
      "Epoch 63/200\n",
      "2575/2575 [==============================] - 0s 55us/step - loss: -5.0195 - val_loss: -6.5807\n",
      "Epoch 64/200\n",
      "2575/2575 [==============================] - 0s 56us/step - loss: -3.5538 - val_loss: -2.8798\n",
      "Epoch 65/200\n",
      "2575/2575 [==============================] - 0s 58us/step - loss: -3.0757 - val_loss: -5.8555\n",
      "Epoch 66/200\n",
      "2575/2575 [==============================] - 0s 60us/step - loss: -4.4171 - val_loss: -5.9302\n",
      "Epoch 67/200\n",
      "2575/2575 [==============================] - 0s 62us/step - loss: -4.6664 - val_loss: -6.3600\n",
      "Epoch 68/200\n",
      "2575/2575 [==============================] - 0s 61us/step - loss: -4.8733 - val_loss: -6.5851\n",
      "Epoch 69/200\n",
      "2575/2575 [==============================] - 0s 59us/step - loss: -5.0767 - val_loss: -6.6915\n",
      "Epoch 70/200\n",
      "2575/2575 [==============================] - 0s 57us/step - loss: -5.2054 - val_loss: -6.7822\n",
      "Epoch 71/200\n",
      "2575/2575 [==============================] - 0s 54us/step - loss: -5.2948 - val_loss: -6.8612\n",
      "Epoch 72/200\n",
      "2575/2575 [==============================] - 0s 53us/step - loss: -5.3735 - val_loss: -6.9460\n",
      "Epoch 73/200\n",
      "2575/2575 [==============================] - 0s 56us/step - loss: -5.4485 - val_loss: -7.0226\n",
      "Epoch 74/200\n",
      "2575/2575 [==============================] - 0s 52us/step - loss: -5.5212 - val_loss: -7.0872\n",
      "Epoch 75/200\n",
      "2575/2575 [==============================] - 0s 52us/step - loss: -5.5839 - val_loss: -7.1740\n",
      "Epoch 76/200\n",
      "2575/2575 [==============================] - 0s 54us/step - loss: -5.6353 - val_loss: -7.2096\n",
      "Epoch 77/200\n",
      "2575/2575 [==============================] - 0s 53us/step - loss: -5.6742 - val_loss: -7.1954\n",
      "Epoch 78/200\n",
      "2575/2575 [==============================] - 0s 56us/step - loss: -5.7008 - val_loss: -7.2637\n",
      "Epoch 79/200\n",
      "2575/2575 [==============================] - 0s 56us/step - loss: -5.6199 - val_loss: -7.2069\n",
      "Epoch 80/200\n",
      "2575/2575 [==============================] - 0s 59us/step - loss: -3.9104 - val_loss: -5.5446\n",
      "Epoch 81/200\n",
      "2575/2575 [==============================] - 0s 52us/step - loss: -4.3571 - val_loss: -6.0751\n",
      "Epoch 82/200\n",
      "2575/2575 [==============================] - 0s 56us/step - loss: -4.4812 - val_loss: -6.3551\n",
      "Epoch 83/200\n",
      "2575/2575 [==============================] - 0s 54us/step - loss: -5.0561 - val_loss: -6.4817\n",
      "Epoch 84/200\n",
      "2575/2575 [==============================] - 0s 53us/step - loss: -4.6953 - val_loss: -5.8703\n",
      "Epoch 85/200\n",
      "2575/2575 [==============================] - 0s 54us/step - loss: -4.7745 - val_loss: -6.0532\n",
      "Epoch 86/200\n",
      "2575/2575 [==============================] - 0s 52us/step - loss: -5.0803 - val_loss: -6.9005\n",
      "Epoch 87/200\n",
      "2575/2575 [==============================] - 0s 54us/step - loss: -5.1377 - val_loss: -5.5743\n",
      "Epoch 88/200\n",
      "2575/2575 [==============================] - 0s 49us/step - loss: -5.1047 - val_loss: -6.8711\n",
      "Epoch 89/200\n",
      "2575/2575 [==============================] - 0s 51us/step - loss: -5.4779 - val_loss: -7.0206\n",
      "Epoch 90/200\n",
      "2575/2575 [==============================] - 0s 50us/step - loss: -5.5398 - val_loss: -7.0456\n",
      "Epoch 91/200\n",
      "2575/2575 [==============================] - 0s 53us/step - loss: -5.5839 - val_loss: -7.0539\n",
      "Epoch 92/200\n",
      "2575/2575 [==============================] - 0s 51us/step - loss: -5.6347 - val_loss: -7.1551\n",
      "Epoch 93/200\n",
      "2575/2575 [==============================] - 0s 54us/step - loss: -5.6777 - val_loss: -7.1969\n",
      "Epoch 94/200\n",
      "2575/2575 [==============================] - 0s 54us/step - loss: -5.7134 - val_loss: -7.2229\n",
      "Epoch 95/200\n",
      "2575/2575 [==============================] - 0s 53us/step - loss: -5.7508 - val_loss: -7.2541\n",
      "Epoch 96/200\n",
      "2575/2575 [==============================] - 0s 51us/step - loss: -5.7163 - val_loss: -7.2420\n",
      "Epoch 97/200\n",
      "2575/2575 [==============================] - 0s 52us/step - loss: -5.6977 - val_loss: -7.2270\n",
      "Epoch 98/200\n",
      "2575/2575 [==============================] - 0s 54us/step - loss: -5.2291 - val_loss: -5.1697\n",
      "Epoch 99/200\n",
      "2575/2575 [==============================] - 0s 51us/step - loss: -4.7251 - val_loss: -6.6253\n",
      "Epoch 100/200\n",
      "2575/2575 [==============================] - 0s 54us/step - loss: -5.4398 - val_loss: -7.1079\n",
      "Epoch 101/200\n",
      "2575/2575 [==============================] - 0s 50us/step - loss: -5.6258 - val_loss: -7.1887\n",
      "Epoch 102/200\n",
      "2575/2575 [==============================] - 0s 55us/step - loss: -5.7145 - val_loss: -7.1536\n",
      "Epoch 103/200\n",
      "2575/2575 [==============================] - 0s 56us/step - loss: -5.6467 - val_loss: -7.1986\n",
      "Epoch 104/200\n",
      "2575/2575 [==============================] - 0s 51us/step - loss: -5.7561 - val_loss: -7.2647\n",
      "Epoch 105/200\n",
      "2575/2575 [==============================] - 0s 54us/step - loss: -5.7811 - val_loss: -7.2400\n",
      "Epoch 106/200\n",
      "2575/2575 [==============================] - 0s 51us/step - loss: -5.6785 - val_loss: -7.1260\n",
      "Epoch 107/200\n",
      "2575/2575 [==============================] - 0s 54us/step - loss: -5.6729 - val_loss: -7.1960\n",
      "Epoch 108/200\n",
      "2575/2575 [==============================] - 0s 54us/step - loss: -5.7377 - val_loss: -7.2628\n",
      "Epoch 109/200\n",
      "2575/2575 [==============================] - 0s 53us/step - loss: -5.7986 - val_loss: -7.2953\n",
      "Epoch 110/200\n",
      "2575/2575 [==============================] - 0s 51us/step - loss: -5.8284 - val_loss: -7.3129\n",
      "Epoch 111/200\n",
      "2575/2575 [==============================] - 0s 50us/step - loss: -5.8518 - val_loss: -7.3448\n",
      "Epoch 112/200\n",
      "2575/2575 [==============================] - 0s 52us/step - loss: -5.8739 - val_loss: -7.3577\n",
      "Epoch 113/200\n",
      "2575/2575 [==============================] - 0s 52us/step - loss: -5.8872 - val_loss: -7.3795\n",
      "Epoch 114/200\n",
      "2575/2575 [==============================] - 0s 54us/step - loss: -5.8797 - val_loss: -7.3821\n",
      "Epoch 115/200\n",
      "2575/2575 [==============================] - 0s 60us/step - loss: -5.8873 - val_loss: -7.2928\n",
      "Epoch 116/200\n",
      "2575/2575 [==============================] - 0s 55us/step - loss: -5.8738 - val_loss: -7.3803\n",
      "Epoch 117/200\n",
      "2575/2575 [==============================] - 0s 59us/step - loss: -5.6308 - val_loss: -4.2845\n",
      "Epoch 118/200\n",
      "2575/2575 [==============================] - 0s 55us/step - loss: -5.0337 - val_loss: -7.2022\n",
      "Epoch 119/200\n",
      "2575/2575 [==============================] - 0s 56us/step - loss: -5.6567 - val_loss: -7.2708\n",
      "Epoch 120/200\n",
      "2575/2575 [==============================] - 0s 53us/step - loss: -5.6405 - val_loss: -7.1461\n",
      "Epoch 121/200\n",
      "2575/2575 [==============================] - 0s 51us/step - loss: -5.6852 - val_loss: -7.2242\n",
      "Epoch 122/200\n",
      "2575/2575 [==============================] - 0s 55us/step - loss: -5.7462 - val_loss: -7.2692\n",
      "Epoch 123/200\n",
      "2575/2575 [==============================] - 0s 51us/step - loss: -5.6566 - val_loss: -7.1095\n",
      "Epoch 124/200\n",
      "2575/2575 [==============================] - 0s 55us/step - loss: -5.2889 - val_loss: -6.8445\n",
      "Epoch 125/200\n",
      "2575/2575 [==============================] - 0s 54us/step - loss: -5.6403 - val_loss: -7.2019\n",
      "Epoch 126/200\n",
      "2575/2575 [==============================] - 0s 50us/step - loss: -5.7522 - val_loss: -7.0366\n",
      "Epoch 127/200\n",
      "2575/2575 [==============================] - 0s 50us/step - loss: -5.6830 - val_loss: -6.9622\n",
      "Epoch 128/200\n",
      "2575/2575 [==============================] - 0s 51us/step - loss: -5.6255 - val_loss: -7.2240\n",
      "Epoch 129/200\n",
      "2575/2575 [==============================] - 0s 52us/step - loss: -5.7880 - val_loss: -7.2980\n",
      "Epoch 130/200\n",
      "2575/2575 [==============================] - 0s 52us/step - loss: -5.8360 - val_loss: -7.3431\n",
      "Epoch 131/200\n",
      "2575/2575 [==============================] - 0s 51us/step - loss: -5.8608 - val_loss: -7.3586\n",
      "Epoch 132/200\n",
      "2575/2575 [==============================] - 0s 54us/step - loss: -5.8830 - val_loss: -7.3789\n",
      "Epoch 133/200\n",
      "2575/2575 [==============================] - 0s 49us/step - loss: -5.8568 - val_loss: -7.3617\n",
      "Epoch 134/200\n",
      "2575/2575 [==============================] - 0s 55us/step - loss: -5.8885 - val_loss: -7.3851\n",
      "Epoch 135/200\n",
      "2575/2575 [==============================] - 0s 52us/step - loss: -5.8987 - val_loss: -7.4005\n",
      "Epoch 136/200\n",
      "2575/2575 [==============================] - 0s 52us/step - loss: -5.9083 - val_loss: -7.4083\n",
      "Epoch 137/200\n",
      "2575/2575 [==============================] - 0s 57us/step - loss: -5.9191 - val_loss: -7.4160\n",
      "Epoch 138/200\n",
      "2575/2575 [==============================] - 0s 51us/step - loss: -5.9290 - val_loss: -7.4250\n",
      "Epoch 139/200\n",
      "2575/2575 [==============================] - 0s 55us/step - loss: -5.9384 - val_loss: -7.4311\n",
      "Epoch 140/200\n",
      "2575/2575 [==============================] - 0s 50us/step - loss: -5.9085 - val_loss: -7.3709\n",
      "Epoch 141/200\n",
      "2575/2575 [==============================] - 0s 51us/step - loss: -5.6635 - val_loss: -7.0734\n",
      "Epoch 142/200\n",
      "2575/2575 [==============================] - 0s 64us/step - loss: -5.7789 - val_loss: -7.2962\n",
      "Epoch 143/200\n",
      "2575/2575 [==============================] - 0s 53us/step - loss: -5.7108 - val_loss: -7.2020\n",
      "Epoch 144/200\n",
      "2575/2575 [==============================] - 0s 58us/step - loss: -5.8033 - val_loss: -7.3020\n",
      "Epoch 145/200\n",
      "2575/2575 [==============================] - 0s 54us/step - loss: -5.8433 - val_loss: -7.3502\n",
      "Epoch 146/200\n",
      "2575/2575 [==============================] - 0s 56us/step - loss: -5.8766 - val_loss: -7.3791\n",
      "Epoch 147/200\n",
      "2575/2575 [==============================] - 0s 56us/step - loss: -5.8956 - val_loss: -7.3911\n",
      "Epoch 148/200\n",
      "2575/2575 [==============================] - 0s 50us/step - loss: -5.9083 - val_loss: -7.3944\n",
      "Epoch 149/200\n",
      "2575/2575 [==============================] - 0s 51us/step - loss: -5.9093 - val_loss: -7.4291\n",
      "Epoch 150/200\n",
      "2575/2575 [==============================] - 0s 52us/step - loss: -5.9341 - val_loss: -7.4361\n",
      "Epoch 151/200\n",
      "2575/2575 [==============================] - 0s 50us/step - loss: -5.9389 - val_loss: -7.4432\n",
      "Epoch 152/200\n",
      "2575/2575 [==============================] - 0s 55us/step - loss: -5.9237 - val_loss: -7.3994\n",
      "Epoch 153/200\n",
      "2575/2575 [==============================] - 0s 53us/step - loss: -5.9301 - val_loss: -7.4336\n",
      "Epoch 154/200\n",
      "2575/2575 [==============================] - 0s 59us/step - loss: -5.9471 - val_loss: -7.4545\n",
      "Epoch 155/200\n",
      "2575/2575 [==============================] - 0s 52us/step - loss: -5.9627 - val_loss: -7.4573\n",
      "Epoch 156/200\n",
      "2575/2575 [==============================] - 0s 56us/step - loss: -5.7758 - val_loss: -7.3525\n",
      "Epoch 157/200\n",
      "2575/2575 [==============================] - 0s 52us/step - loss: -5.9148 - val_loss: -7.4471\n",
      "Epoch 158/200\n",
      "2575/2575 [==============================] - 0s 55us/step - loss: -5.9579 - val_loss: -7.4588\n",
      "Epoch 159/200\n",
      "2575/2575 [==============================] - 0s 56us/step - loss: -5.9720 - val_loss: -7.4725\n",
      "Epoch 160/200\n",
      "2575/2575 [==============================] - 0s 55us/step - loss: -5.9159 - val_loss: -7.4356\n",
      "Epoch 161/200\n",
      "2575/2575 [==============================] - 0s 57us/step - loss: -5.9374 - val_loss: -7.4420\n",
      "Epoch 162/200\n",
      "2575/2575 [==============================] - 0s 54us/step - loss: -5.9582 - val_loss: -7.4694\n",
      "Epoch 163/200\n",
      "2575/2575 [==============================] - 0s 51us/step - loss: -5.9579 - val_loss: -7.4703\n",
      "Epoch 164/200\n",
      "2575/2575 [==============================] - 0s 51us/step - loss: -5.9350 - val_loss: -7.2829\n",
      "Epoch 165/200\n",
      "2575/2575 [==============================] - 0s 56us/step - loss: -5.7960 - val_loss: -7.2605\n",
      "Epoch 166/200\n",
      "2575/2575 [==============================] - 0s 56us/step - loss: -5.8219 - val_loss: -7.3491\n",
      "Epoch 167/200\n",
      "2575/2575 [==============================] - 0s 55us/step - loss: -5.8881 - val_loss: -7.3964\n",
      "Epoch 168/200\n",
      "2575/2575 [==============================] - 0s 59us/step - loss: -5.9345 - val_loss: -7.4209\n",
      "Epoch 169/200\n",
      "2575/2575 [==============================] - 0s 52us/step - loss: -5.9501 - val_loss: -7.4484\n",
      "Epoch 170/200\n",
      "2575/2575 [==============================] - 0s 52us/step - loss: -5.9607 - val_loss: -7.4643\n",
      "Epoch 171/200\n",
      "2575/2575 [==============================] - 0s 52us/step - loss: -5.9473 - val_loss: -7.4354\n",
      "Epoch 172/200\n",
      "2575/2575 [==============================] - 0s 55us/step - loss: -5.9429 - val_loss: -7.4356\n",
      "Epoch 173/200\n",
      "2575/2575 [==============================] - 0s 53us/step - loss: -5.9511 - val_loss: -7.4421\n",
      "Epoch 174/200\n",
      "2575/2575 [==============================] - 0s 54us/step - loss: -5.9600 - val_loss: -7.4459\n",
      "Epoch 175/200\n",
      "2575/2575 [==============================] - 0s 50us/step - loss: -5.9574 - val_loss: -7.4055\n",
      "Epoch 176/200\n",
      "2575/2575 [==============================] - 0s 51us/step - loss: -5.9301 - val_loss: -7.4264\n",
      "Epoch 177/200\n",
      "2575/2575 [==============================] - 0s 53us/step - loss: -5.9074 - val_loss: -7.3225\n",
      "Epoch 178/200\n",
      "2575/2575 [==============================] - 0s 52us/step - loss: -5.1115 - val_loss: -6.4868\n",
      "Epoch 179/200\n",
      "2575/2575 [==============================] - 0s 55us/step - loss: -5.3952 - val_loss: -7.1228\n",
      "Epoch 180/200\n",
      "2575/2575 [==============================] - 0s 54us/step - loss: -5.1441 - val_loss: -6.5896\n",
      "Epoch 181/200\n",
      "2575/2575 [==============================] - 0s 57us/step - loss: -5.3277 - val_loss: -6.9495\n",
      "Epoch 182/200\n",
      "2575/2575 [==============================] - 0s 54us/step - loss: -5.5824 - val_loss: -7.1653\n",
      "Epoch 183/200\n",
      "2575/2575 [==============================] - 0s 57us/step - loss: -5.7435 - val_loss: -7.2664\n",
      "Epoch 184/200\n",
      "2575/2575 [==============================] - 0s 54us/step - loss: -5.2652 - val_loss: -6.8629\n",
      "Epoch 185/200\n",
      "2575/2575 [==============================] - 0s 51us/step - loss: -5.5310 - val_loss: -7.1067\n",
      "Epoch 186/200\n",
      "2575/2575 [==============================] - 0s 51us/step - loss: -5.6540 - val_loss: -7.1676\n",
      "Epoch 187/200\n",
      "2575/2575 [==============================] - 0s 50us/step - loss: -5.7127 - val_loss: -7.2568\n",
      "Epoch 188/200\n",
      "2575/2575 [==============================] - 0s 57us/step - loss: -5.7798 - val_loss: -7.3104\n",
      "Epoch 189/200\n",
      "2575/2575 [==============================] - 0s 50us/step - loss: -5.8185 - val_loss: -7.2816\n",
      "Epoch 190/200\n",
      "2575/2575 [==============================] - 0s 51us/step - loss: -5.8227 - val_loss: -7.2440\n",
      "Epoch 191/200\n",
      "2575/2575 [==============================] - 0s 50us/step - loss: -5.7865 - val_loss: -7.3142\n",
      "Epoch 192/200\n",
      "2575/2575 [==============================] - 0s 51us/step - loss: -5.8175 - val_loss: -7.3652\n",
      "Epoch 193/200\n",
      "2575/2575 [==============================] - 0s 53us/step - loss: -5.8664 - val_loss: -7.3902\n",
      "Epoch 194/200\n",
      "2575/2575 [==============================] - 0s 50us/step - loss: -5.8912 - val_loss: -7.4204\n",
      "Epoch 195/200\n",
      "2575/2575 [==============================] - 0s 54us/step - loss: -5.9096 - val_loss: -7.4072\n",
      "Epoch 196/200\n",
      "2575/2575 [==============================] - 0s 50us/step - loss: -5.9016 - val_loss: -7.4175\n",
      "Epoch 197/200\n",
      "2575/2575 [==============================] - 0s 52us/step - loss: -5.9151 - val_loss: -7.4181\n",
      "Epoch 198/200\n",
      "2575/2575 [==============================] - 0s 56us/step - loss: -5.9261 - val_loss: -6.9695\n",
      "Epoch 199/200\n",
      "2575/2575 [==============================] - 0s 50us/step - loss: -5.5667 - val_loss: -7.2364\n",
      "Epoch 200/200\n",
      "2575/2575 [==============================] - 0s 55us/step - loss: -5.7837 - val_loss: -7.3656\n"
     ]
    },
    {
     "data": {
      "image/png": "[encoded data removed]",
      "text/plain": [
       "<Figure size 432x288 with 1 Axes>"
      ]
     },
     "metadata": {
      "needs_background": "light",
      "tags": []
     },
     "output_type": "display_data"
    }
   ],
   "source": [
    "import keras\n",
    "from keras.models import Sequential\n",
    "from keras.layers import Conv1D, MaxPooling1D, UpSampling1D\n",
    "from numpy import newaxis\n",
    "X_all_sm1= X_all_sm[..., newaxis]\n",
    "\n",
    "\n",
    "autoencoder = Sequential()\n",
    "autoencoder.add(Conv1D(64,4,padding='same', activation='relu' ))\n",
    "autoencoder.add(MaxPooling1D(pool_size=2))\n",
    "autoencoder.add(Conv1D(128,4,padding='same', activation='relu'))\n",
    "autoencoder.add(UpSampling1D(2))\n",
    "autoencoder.add(Conv1D(64,4,padding='same', activation='relu'))\n",
    "autoencoder.add(Conv1D(1,4,padding='same', activation='relu'))\n",
    "\n",
    "# Compile model\n",
    "autoencoder.compile(optimizer='Nadam', loss='binary_crossentropy', )\n",
    "\n",
    "history = autoencoder.fit(X_all_sm1, X_all_sm1, epochs=200, batch_size=200, shuffle=True, validation_split=0.1)\n",
    "# summarize history for loss\n",
    "plt.plot(history.history['loss'])\n",
    "plt.plot(history.history['val_loss'])\n",
    "plt.title('model loss')\n",
    "plt.ylabel('loss')\n",
    "plt.xlabel('epoch')\n",
    "plt.legend(['train', 'test'], loc='upper left')\n",
    "plt.show()\n"
   ]
  },
  {
   "cell_type": "code",
   "execution_count": null,
   "metadata": {
    "colab": {
     "base_uri": "https://localhost:8080/",
     "height": 88
    },
    "id": "UqIUzZqP1dNt",
    "outputId": "b3d79bf6-86bb-48dc-8437-5080a242094c"
   },
   "outputs": [
    {
     "name": "stderr",
     "output_type": "stream",
     "text": [
      "/usr/local/lib/python3.6/dist-packages/sklearn/model_selection/_split.py:296: FutureWarning: Setting a random_state has no effect since shuffle is False. This will raise an error in 0.24. You should leave random_state to its default (None), or set shuffle=True.\n",
      "  FutureWarning\n"
     ]
    },
    {
     "name": "stdout",
     "output_type": "stream",
     "text": [
      "Accuracy: 75.02%\n"
     ]
    }
   ],
   "source": [
    "Y_events_sm1= Y_events_sm[..., newaxis]\n",
    "\n",
    "X_all_sm2 = autoencoder.predict(X_all_sm1)\n",
    "\n",
    "X_all_sm2 = X_all_sm2[:,:,0]\n",
    "\n",
    "# data sample\n",
    "skfold = StratifiedKFold(n_splits=10, random_state=100)\n",
    "model_lr_skfold = LogisticRegression(multi_class='auto', solver='liblinear')\n",
    "results_skfold = model_selection.cross_val_score(model_lr_skfold, X_all_sm2, Y_events_sm, cv=skfold)\n",
    "predict_skfold = model_selection.cross_val_predict(model_lr_skfold, X_all_sm2, Y_events_sm, cv=skfold) \n",
    "print(\"Accuracy: %.2f%%\" % (results_skfold.mean()*100.0))\n",
    "\n",
    "\n"
   ]
  },
  {
   "cell_type": "code",
   "execution_count": null,
   "metadata": {
    "colab": {
     "base_uri": "https://localhost:8080/",
     "height": 221
    },
    "id": "f_h-E-yl1yoR",
    "outputId": "00f3280a-857b-4cd2-ca82-f7ea474b979e"
   },
   "outputs": [
    {
     "name": "stdout",
     "output_type": "stream",
     "text": [
      "[[1137  294]\n",
      " [ 421 1010]]\n",
      "1137 294 421 1010\n",
      "              precision    recall  f1-score   support\n",
      "\n",
      "           0       0.73      0.79      0.76      1431\n",
      "           1       0.77      0.71      0.74      1431\n",
      "\n",
      "    accuracy                           0.75      2862\n",
      "   macro avg       0.75      0.75      0.75      2862\n",
      "weighted avg       0.75      0.75      0.75      2862\n",
      "\n"
     ]
    }
   ],
   "source": [
    "from sklearn.metrics import confusion_matrix\n",
    "print(confusion_matrix(Y_events_sm, predict_skfold))\n",
    "tn, fp, fn, tp = confusion_matrix(Y_events_sm, predict_skfold).ravel()\n",
    "print(tn, fp, fn, tp)\n",
    "\n",
    "from sklearn.metrics import classification_report\n",
    "report = classification_report(Y_events_sm, predict_skfold)\n",
    "print(report)"
   ]
  },
  {
   "cell_type": "markdown",
   "metadata": {
    "id": "Z3vTMb312ixw"
   },
   "source": [
    "# Autoencoder + Random Tree Forest"
   ]
  },
  {
   "cell_type": "code",
   "execution_count": null,
   "metadata": {
    "colab": {
     "base_uri": "https://localhost:8080/",
     "height": 88
    },
    "id": "I8qtC_Dw2VE7",
    "outputId": "b529280d-18cd-4d3f-80ec-a2acad8388c6"
   },
   "outputs": [
    {
     "name": "stderr",
     "output_type": "stream",
     "text": [
      "/usr/local/lib/python3.6/dist-packages/sklearn/model_selection/_split.py:296: FutureWarning: Setting a random_state has no effect since shuffle is False. This will raise an error in 0.24. You should leave random_state to its default (None), or set shuffle=True.\n",
      "  FutureWarning\n"
     ]
    },
    {
     "name": "stdout",
     "output_type": "stream",
     "text": [
      "Accuracy: 90.99%\n"
     ]
    }
   ],
   "source": [
    "from sklearn.model_selection import KFold\n",
    "from sklearn.model_selection import StratifiedKFold\n",
    "from sklearn.ensemble import RandomForestClassifier\n",
    "from sklearn.manifold import TSNE\n",
    "from sklearn.preprocessing import StandardScaler\n",
    "from imblearn.over_sampling import SMOTE\n",
    "from sklearn import model_selection\n",
    "\n",
    "X_all_sm2 = autoencoder.predict(X_all_sm1)\n",
    "\n",
    "X_all_sm2 = X_all_sm2[:,:,0]\n",
    "\n",
    "# intialize pca and logistic regression model\n",
    "pca = PCA(n_components=16)\n",
    "\n",
    "# fit and transform data\n",
    "X_all_pca = pca.fit_transform(X_all_sm2)\n",
    "\n",
    "# data sample\n",
    "skfold = StratifiedKFold(n_splits=10, random_state=100)\n",
    "model_rf_skfold = RandomForestClassifier()\n",
    "results_skfold = model_selection.cross_val_score(model_rf_skfold, X_all_pca, Y_events_sm, cv=skfold)\n",
    "predict_skfold = model_selection.cross_val_predict(model_rf_skfold, X_all_pca, Y_events_sm, cv=skfold) \n",
    "print(\"Accuracy: %.2f%%\" % (results_skfold.mean()*100.0))"
   ]
  },
  {
   "cell_type": "code",
   "execution_count": null,
   "metadata": {
    "colab": {
     "base_uri": "https://localhost:8080/",
     "height": 221
    },
    "id": "xF6Mz4vx2vqQ",
    "outputId": "80fc5222-61c6-4880-e3f4-2e11bac23fe9"
   },
   "outputs": [
    {
     "name": "stdout",
     "output_type": "stream",
     "text": [
      "[[1277  154]\n",
      " [ 107 1324]]\n",
      "1277 154 107 1324\n",
      "              precision    recall  f1-score   support\n",
      "\n",
      "           0       0.92      0.89      0.91      1431\n",
      "           1       0.90      0.93      0.91      1431\n",
      "\n",
      "    accuracy                           0.91      2862\n",
      "   macro avg       0.91      0.91      0.91      2862\n",
      "weighted avg       0.91      0.91      0.91      2862\n",
      "\n"
     ]
    }
   ],
   "source": [
    "from sklearn.metrics import confusion_matrix\n",
    "print(confusion_matrix(Y_events_sm, predict_skfold))\n",
    "tn, fp, fn, tp = confusion_matrix(Y_events_sm, predict_skfold).ravel()\n",
    "print(tn, fp, fn, tp)\n",
    "\n",
    "from sklearn.metrics import classification_report\n",
    "report = classification_report(Y_events_sm, predict_skfold)\n",
    "print(report)"
   ]
  },
  {
   "cell_type": "markdown",
   "metadata": {
    "id": "FFmV8_HS2xSc"
   },
   "source": [
    "# Autoencoder + KNN"
   ]
  },
  {
   "cell_type": "code",
   "execution_count": null,
   "metadata": {
    "colab": {
     "base_uri": "https://localhost:8080/",
     "height": 88
    },
    "id": "bVrqWRv327kp",
    "outputId": "17368992-d4ba-43b3-d005-5f4080597070"
   },
   "outputs": [
    {
     "name": "stderr",
     "output_type": "stream",
     "text": [
      "/usr/local/lib/python3.6/dist-packages/sklearn/model_selection/_split.py:296: FutureWarning: Setting a random_state has no effect since shuffle is False. This will raise an error in 0.24. You should leave random_state to its default (None), or set shuffle=True.\n",
      "  FutureWarning\n"
     ]
    },
    {
     "name": "stdout",
     "output_type": "stream",
     "text": [
      "Accuracy: 87.60%\n"
     ]
    }
   ],
   "source": [
    "X_all_sm2 = autoencoder.predict(X_all_sm1)\n",
    "\n",
    "X_all_sm2 = X_all_sm2[:,:,0]\n",
    "\n",
    "# data sample\n",
    "skfold = StratifiedKFold(n_splits=10, random_state=100)\n",
    "model_rf_skfold = KNeighborsClassifier(n_neighbors=3)\n",
    "results_skfold = model_selection.cross_val_score(model_rf_skfold, X_all_sm2, Y_events_sm, cv=skfold)\n",
    "predict_skfold = model_selection.cross_val_predict(model_rf_skfold, X_all_sm2, Y_events_sm, cv=skfold) \n",
    "print(\"Accuracy: %.2f%%\" % (results_skfold.mean()*100.0))\n",
    "\n"
   ]
  },
  {
   "cell_type": "code",
   "execution_count": null,
   "metadata": {
    "colab": {
     "base_uri": "https://localhost:8080/",
     "height": 221
    },
    "id": "JnZH35nf3bn9",
    "outputId": "73ca364a-a948-486c-d25d-3ec61aa5f7bb"
   },
   "outputs": [
    {
     "name": "stdout",
     "output_type": "stream",
     "text": [
      "[[1131  300]\n",
      " [  55 1376]]\n",
      "1131 300 55 1376\n",
      "              precision    recall  f1-score   support\n",
      "\n",
      "           0       0.95      0.79      0.86      1431\n",
      "           1       0.82      0.96      0.89      1431\n",
      "\n",
      "    accuracy                           0.88      2862\n",
      "   macro avg       0.89      0.88      0.88      2862\n",
      "weighted avg       0.89      0.88      0.88      2862\n",
      "\n"
     ]
    }
   ],
   "source": [
    "from sklearn.metrics import confusion_matrix\n",
    "print(confusion_matrix(Y_events_sm, predict_skfold))\n",
    "tn, fp, fn, tp = confusion_matrix(Y_events_sm, predict_skfold).ravel()\n",
    "print(tn, fp, fn, tp)\n",
    "\n",
    "from sklearn.metrics import classification_report\n",
    "report = classification_report(Y_events_sm, predict_skfold)\n",
    "print(report)"
   ]
  },
  {
   "cell_type": "markdown",
   "metadata": {
    "id": "GbbfVMK_3gBB"
   },
   "source": [
    "# Raw + Logistic Regression"
   ]
  },
  {
   "cell_type": "code",
   "execution_count": null,
   "metadata": {
    "colab": {
     "base_uri": "https://localhost:8080/",
     "height": 122
    },
    "id": "6Lkos2J73fdy",
    "outputId": "1cbbc72b-2c56-4907-d768-e43b825c2492"
   },
   "outputs": [
    {
     "name": "stdout",
     "output_type": "stream",
     "text": [
      "Accuracy: 59.58%\n"
     ]
    },
    {
     "name": "stderr",
     "output_type": "stream",
     "text": [
      "/usr/local/lib/python3.6/dist-packages/sklearn/utils/deprecation.py:87: FutureWarning: Function safe_indexing is deprecated; safe_indexing is deprecated in version 0.22 and will be removed in version 0.24.\n",
      "  warnings.warn(msg, category=FutureWarning)\n",
      "/usr/local/lib/python3.6/dist-packages/sklearn/model_selection/_split.py:296: FutureWarning: Setting a random_state has no effect since shuffle is False. This will raise an error in 0.24. You should leave random_state to its default (None), or set shuffle=True.\n",
      "  FutureWarning\n"
     ]
    }
   ],
   "source": [
    "from sklearn import model_selection\n",
    "from sklearn.model_selection import KFold\n",
    "from sklearn.model_selection import StratifiedKFold\n",
    "from sklearn.linear_model import LogisticRegression\n",
    "from sklearn.linear_model import LinearRegression\n",
    "from sklearn.decomposition import PCA\n",
    "from sklearn.preprocessing import StandardScaler\n",
    "from imblearn.over_sampling import SMOTE\n",
    "\n",
    "#data = cross_validation.KFold(len(train_set), n_folds=10, indices=False) \n",
    "\n",
    "cols_X = list(df_all_result.columns.values)\n",
    "cols_X.pop(cols_X.index('event'))\n",
    "cols_X.pop(cols_X.index('lifespan'))\n",
    "\n",
    "Y_event = df_all_result['event'].values\n",
    "Y_events_new = df_all_result['event'].apply(lambda x: 1 if x>=1 else 0)\n",
    "Y_events_new = df_all_result['event'].values\n",
    "Y_lifespan= df_all_result['lifespan'].values\n",
    "\n",
    "X_all = df_all_result[cols_X].values\n",
    "sc = StandardScaler()\n",
    "X_all_std = sc.fit_transform(X_all)\n",
    "\n",
    "sm= SMOTE(random_state=0)\n",
    "X_all_sm, Y_events_sm= sm.fit_sample(X_all, Y_events_new)\n",
    "\n",
    "# intialize pca and logistic regression model\n",
    "lr = LogisticRegression(multi_class='auto', solver='liblinear')\n",
    "\n",
    "# data sample\n",
    "skfold = KFold(n_splits=5, random_state=100)\n",
    "model_lr_skfold = LogisticRegression(multi_class='auto', solver='liblinear')\n",
    "results_skfold = model_selection.cross_val_score(model_lr_skfold, X_all_sm, Y_events_sm, cv=skfold)\n",
    "predict_skfold = model_selection.cross_val_predict(model_lr_skfold, X_all_sm, Y_events_sm, cv=skfold) \n",
    "print(\"Accuracy: %.2f%%\" % (results_skfold.mean()*100.0))\n",
    "\n"
   ]
  },
  {
   "cell_type": "code",
   "execution_count": null,
   "metadata": {
    "colab": {
     "base_uri": "https://localhost:8080/",
     "height": 221
    },
    "id": "FAvpUiOs37uq",
    "outputId": "3dfc7452-c8fa-4a40-a060-f24146b05b58"
   },
   "outputs": [
    {
     "name": "stdout",
     "output_type": "stream",
     "text": [
      "[[891 540]\n",
      " [617 814]]\n",
      "891 540 617 814\n",
      "              precision    recall  f1-score   support\n",
      "\n",
      "         0.0       0.59      0.62      0.61      1431\n",
      "         1.0       0.60      0.57      0.58      1431\n",
      "\n",
      "    accuracy                           0.60      2862\n",
      "   macro avg       0.60      0.60      0.60      2862\n",
      "weighted avg       0.60      0.60      0.60      2862\n",
      "\n"
     ]
    }
   ],
   "source": [
    "from sklearn.metrics import confusion_matrix\n",
    "print(confusion_matrix(Y_events_sm, predict_skfold))\n",
    "tn, fp, fn, tp = confusion_matrix(Y_events_sm, predict_skfold).ravel()\n",
    "print(tn, fp, fn, tp)\n",
    "\n",
    "from sklearn.metrics import classification_report\n",
    "report = classification_report(Y_events_sm, predict_skfold)\n",
    "print(report)"
   ]
  },
  {
   "cell_type": "markdown",
   "metadata": {
    "id": "CKKxka1EBa62"
   },
   "source": [
    "# Raw + Random Tree Forest"
   ]
  },
  {
   "cell_type": "code",
   "execution_count": null,
   "metadata": {
    "colab": {
     "base_uri": "https://localhost:8080/",
     "height": 122
    },
    "id": "FRXpp5-W4OcT",
    "outputId": "ae60c8b7-a2d0-46a6-9754-773c70490861"
   },
   "outputs": [
    {
     "name": "stderr",
     "output_type": "stream",
     "text": [
      "/usr/local/lib/python3.6/dist-packages/sklearn/utils/deprecation.py:87: FutureWarning: Function safe_indexing is deprecated; safe_indexing is deprecated in version 0.22 and will be removed in version 0.24.\n",
      "  warnings.warn(msg, category=FutureWarning)\n",
      "/usr/local/lib/python3.6/dist-packages/sklearn/model_selection/_split.py:296: FutureWarning: Setting a random_state has no effect since shuffle is False. This will raise an error in 0.24. You should leave random_state to its default (None), or set shuffle=True.\n",
      "  FutureWarning\n"
     ]
    },
    {
     "name": "stdout",
     "output_type": "stream",
     "text": [
      "Accuracy: 90.26%\n"
     ]
    }
   ],
   "source": [
    "from sklearn.model_selection import KFold\n",
    "from sklearn.model_selection import StratifiedKFold\n",
    "from sklearn.decomposition import PCA\n",
    "from sklearn.ensemble import RandomForestClassifier\n",
    "from sklearn.preprocessing import StandardScaler\n",
    "from imblearn.over_sampling import SMOTE\n",
    "from sklearn import model_selection\n",
    "\n",
    "cols_X = list(df_all_result.columns.values)\n",
    "cols_X.pop(cols_X.index('event'))\n",
    "cols_X.pop(cols_X.index('lifespan'))\n",
    "\n",
    "Y_event = df_all_result['event'].values\n",
    "Y_events_new = df_all_result['event'].apply(lambda x: 1 if x>=1 else 0)\n",
    "Y_lifespan= df_all_result['lifespan'].values\n",
    "\n",
    "X_all = df_all_result[cols_X].values\n",
    "sc = StandardScaler()\n",
    "X_all_std = sc.fit_transform(X_all)\n",
    "\n",
    "sm= SMOTE(random_state=0)\n",
    "X_all_sm, Y_events_sm= sm.fit_sample(X_all_std, Y_events_new)\n",
    "\n",
    "# data sample\n",
    "skfold = KFold(n_splits=5, random_state=100)\n",
    "model_lr_skfold = RandomForestClassifier()\n",
    "results_skfold = model_selection.cross_val_score(model_lr_skfold, X_all_sm, Y_events_sm, cv=skfold)\n",
    "predict_skfold = model_selection.cross_val_predict(model_lr_skfold, X_all_sm, Y_events_sm, cv=skfold) \n",
    "print(\"Accuracy: %.2f%%\" % (results_skfold.mean()*100.0))\n",
    "\n"
   ]
  },
  {
   "cell_type": "code",
   "execution_count": null,
   "metadata": {
    "colab": {
     "base_uri": "https://localhost:8080/",
     "height": 221
    },
    "id": "oElR19Hs4b7u",
    "outputId": "ad9ddc9c-777f-46e9-fd2c-af03adddab3f"
   },
   "outputs": [
    {
     "name": "stdout",
     "output_type": "stream",
     "text": [
      "[[1215  216]\n",
      " [  36 1395]]\n",
      "1215 216 36 1395\n",
      "              precision    recall  f1-score   support\n",
      "\n",
      "           0       0.97      0.85      0.91      1431\n",
      "           1       0.87      0.97      0.92      1431\n",
      "\n",
      "    accuracy                           0.91      2862\n",
      "   macro avg       0.92      0.91      0.91      2862\n",
      "weighted avg       0.92      0.91      0.91      2862\n",
      "\n"
     ]
    }
   ],
   "source": [
    "from sklearn.metrics import confusion_matrix\n",
    "print(confusion_matrix(Y_events_sm, predict_skfold))\n",
    "tn, fp, fn, tp = confusion_matrix(Y_events_sm, predict_skfold).ravel()\n",
    "print(tn, fp, fn, tp)\n",
    "\n",
    "from sklearn.metrics import classification_report\n",
    "report = classification_report(Y_events_sm, predict_skfold)\n",
    "print(report)"
   ]
  },
  {
   "cell_type": "markdown",
   "metadata": {
    "id": "SXw7jWTP4otO"
   },
   "source": [
    "\n",
    "\n",
    "```\n",
    "# This is formatted as code\n",
    "```\n",
    "\n",
    "# Raw + KNN"
   ]
  },
  {
   "cell_type": "code",
   "execution_count": null,
   "metadata": {
    "colab": {
     "base_uri": "https://localhost:8080/",
     "height": 88
    },
    "id": "dIIkQsqg4sAb",
    "outputId": "a9b00e50-959a-4142-ddef-79b8328b1807"
   },
   "outputs": [
    {
     "name": "stderr",
     "output_type": "stream",
     "text": [
      "/usr/local/lib/python3.6/dist-packages/sklearn/utils/deprecation.py:87: FutureWarning: Function safe_indexing is deprecated; safe_indexing is deprecated in version 0.22 and will be removed in version 0.24.\n",
      "  warnings.warn(msg, category=FutureWarning)\n"
     ]
    },
    {
     "name": "stdout",
     "output_type": "stream",
     "text": [
      "Accuracy: 89.80%\n"
     ]
    }
   ],
   "source": [
    "from sklearn.model_selection import KFold\n",
    "from sklearn.model_selection import StratifiedKFold\n",
    "from sklearn.decomposition import PCA\n",
    "from sklearn.ensemble import RandomForestClassifier\n",
    "from sklearn.neighbors import KNeighborsClassifier\n",
    "from sklearn.preprocessing import StandardScaler\n",
    "from imblearn.over_sampling import SMOTE\n",
    "from sklearn import model_selection\n",
    "\n",
    "cols_X = list(df_all_result.columns.values)\n",
    "cols_X.pop(cols_X.index('event'))\n",
    "cols_X.pop(cols_X.index('lifespan'))\n",
    "\n",
    "Y_event = df_all_result['event'].values\n",
    "Y_events_new = df_all_result['event'].apply(lambda x: 1 if x>=1 else 0)\n",
    "Y_lifespan= df_all_result['lifespan'].values\n",
    "\n",
    "X_all = df_all_result[cols_X].values\n",
    "sc = StandardScaler()\n",
    "X_all_std = sc.fit_transform(X_all)\n",
    "\n",
    "\n",
    "sm= SMOTE(random_state=0)\n",
    "X_all_sm, Y_events_sm= sm.fit_sample(X_all_std, Y_events_new)\n",
    "\n",
    "\n",
    "# data sample\n",
    "skfold = KFold(n_splits=5)\n",
    "model_rf_skfold = KNeighborsClassifier(n_neighbors=3)\n",
    "results_skfold = model_selection.cross_val_score(model_rf_skfold, X_all_sm, Y_events_sm, cv=skfold)\n",
    "predict_skfold = model_selection.cross_val_predict(model_rf_skfold, X_all_sm, Y_events_sm, cv=skfold) \n",
    "print(\"Accuracy: %.2f%%\" % (results_skfold.mean()*100.0))\n"
   ]
  },
  {
   "cell_type": "code",
   "execution_count": null,
   "metadata": {
    "colab": {
     "base_uri": "https://localhost:8080/",
     "height": 221
    },
    "id": "TjtHQdgm4ydn",
    "outputId": "5475702c-8193-4032-95cc-be93ae359327"
   },
   "outputs": [
    {
     "name": "stdout",
     "output_type": "stream",
     "text": [
      "[[1150  281]\n",
      " [  11 1420]]\n",
      "1150 281 11 1420\n",
      "              precision    recall  f1-score   support\n",
      "\n",
      "           0       0.99      0.80      0.89      1431\n",
      "           1       0.83      0.99      0.91      1431\n",
      "\n",
      "    accuracy                           0.90      2862\n",
      "   macro avg       0.91      0.90      0.90      2862\n",
      "weighted avg       0.91      0.90      0.90      2862\n",
      "\n"
     ]
    }
   ],
   "source": [
    "from sklearn.metrics import confusion_matrix\n",
    "print(confusion_matrix(Y_events_sm, predict_skfold))\n",
    "tn, fp, fn, tp = confusion_matrix(Y_events_sm, predict_skfold).ravel()\n",
    "print(tn, fp, fn, tp)\n",
    "\n",
    "from sklearn.metrics import classification_report\n",
    "report = classification_report(Y_events_sm, predict_skfold)\n",
    "print(report)"
   ]
  },
  {
   "cell_type": "markdown",
   "metadata": {
    "id": "nyxoKCnfuCEs"
   },
   "source": [
    "# MISCILEANOUS"
   ]
  },
  {
   "cell_type": "code",
   "execution_count": null,
   "metadata": {
    "id": "sXx2jXDXHYPz"
   },
   "outputs": [],
   "source": [
    "from sklearn.model_selection import train_test_split\n",
    "# split into training and testing sets\n",
    "#X, y = df_wine.iloc[:, 1:].values, df_wine.iloc[:, 0].values\n",
    "X_train, X_test, y_train, y_test = train_test_split(\n",
    "    X_all_std, Y_events_new, test_size=0.1,\n",
    "    stratify=Y_events_new, random_state=0\n",
    ")\n",
    "\n"
   ]
  },
  {
   "cell_type": "code",
   "execution_count": null,
   "metadata": {
    "id": "gINBQVwKHfbq"
   },
   "outputs": [],
   "source": [
    "from sklearn.linear_model import LogisticRegression\n",
    "from sklearn.linear_model import LinearRegression\n",
    "from sklearn.decomposition import PCA\n",
    "\n",
    "#pca = PCA(n_components=18)\n",
    "# intialize pca and logistic regression model\n",
    "pca = PCA(n_components=16)\n",
    "lr = LogisticRegression(multi_class='auto', solver='liblinear')\n",
    "#lr = LinearRegression()\n",
    "\n",
    "# fit and transform data\n",
    "X_train_pca = pca.fit_transform(X_train)\n",
    "X_test_pca = pca.fit_transform(X_test)\n",
    "\n",
    "model_pca = lr.fit(X_train_pca, y_train)"
   ]
  },
  {
   "cell_type": "code",
   "execution_count": null,
   "metadata": {
    "colab": {
     "base_uri": "https://localhost:8080/",
     "height": 296
    },
    "id": "Rm5mqLicHpeN",
    "outputId": "152f08db-1034-4058-b56e-d75f11fc2626"
   },
   "outputs": [
    {
     "data": {
      "text/plain": [
       "Text(0, 0.5, 'Predictions')"
      ]
     },
     "execution_count": 36,
     "metadata": {
      "tags": []
     },
     "output_type": "execute_result"
    },
    {
     "data": {
      "image/png": "[encoded data removed]",
      "text/plain": [
       "<Figure size 432x288 with 1 Axes>"
      ]
     },
     "metadata": {
      "needs_background": "light",
      "tags": []
     },
     "output_type": "display_data"
    }
   ],
   "source": [
    "predictions = lr.predict(X_test_pca)\n",
    "\n",
    "plt.scatter(y_test, predictions)\n",
    "plt.xlabel(\"True Values\")\n",
    "plt.ylabel(\"Predictions\")"
   ]
  },
  {
   "cell_type": "code",
   "execution_count": null,
   "metadata": {
    "colab": {
     "base_uri": "https://localhost:8080/",
     "height": 119
    },
    "id": "4dSefQYrHv2W",
    "outputId": "e8820c3a-d33e-4526-ce5b-45a414b90555"
   },
   "outputs": [
    {
     "name": "stdout",
     "output_type": "stream",
     "text": [
      "Accuracy 0.9477124183006536\n",
      "Confusion Matrix\n"
     ]
    },
    {
     "data": {
      "text/plain": [
       "array([[144,   0,   0,   0],\n",
       "       [  6,   1,   0,   0],\n",
       "       [  1,   0,   0,   0],\n",
       "       [  1,   0,   0,   0]])"
      ]
     },
     "execution_count": 37,
     "metadata": {
      "tags": []
     },
     "output_type": "execute_result"
    }
   ],
   "source": [
    "from sklearn.metrics import confusion_matrix\n",
    "print(\"Accuracy\", model_pca.score(X_test_pca, y_test))\n",
    "print(\"Confusion Matrix\" )\n",
    "confusion_matrix(y_test, predictions)"
   ]
  },
  {
   "cell_type": "code",
   "execution_count": null,
   "metadata": {
    "colab": {
     "base_uri": "https://localhost:8080/",
     "height": 181
    },
    "id": "3yw2K6WaH24Q",
    "outputId": "740d96bc-7f86-402c-9211-978cb7e206ec"
   },
   "outputs": [
    {
     "ename": "ValueError",
     "evalue": "ignored",
     "output_type": "error",
     "traceback": [
      "\u001b[0;31m---------------------------------------------------------------------------\u001b[0m",
      "\u001b[0;31mValueError\u001b[0m                                Traceback (most recent call last)",
      "\u001b[0;32m<ipython-input-23-dfbed91426f9>\u001b[0m in \u001b[0;36m<module>\u001b[0;34m()\u001b[0m\n\u001b[0;32m----> 1\u001b[0;31m \u001b[0mtn\u001b[0m\u001b[0;34m,\u001b[0m \u001b[0mfp\u001b[0m\u001b[0;34m,\u001b[0m \u001b[0mfn\u001b[0m\u001b[0;34m,\u001b[0m \u001b[0mtp\u001b[0m \u001b[0;34m=\u001b[0m \u001b[0mconfusion_matrix\u001b[0m\u001b[0;34m(\u001b[0m\u001b[0my_test\u001b[0m\u001b[0;34m,\u001b[0m \u001b[0mpredictions\u001b[0m\u001b[0;34m)\u001b[0m\u001b[0;34m.\u001b[0m\u001b[0mravel\u001b[0m\u001b[0;34m(\u001b[0m\u001b[0;34m)\u001b[0m\u001b[0;34m\u001b[0m\u001b[0;34m\u001b[0m\u001b[0m\n\u001b[0m\u001b[1;32m      2\u001b[0m \u001b[0mprint\u001b[0m\u001b[0;34m(\u001b[0m\u001b[0mtn\u001b[0m\u001b[0;34m,\u001b[0m \u001b[0mfp\u001b[0m\u001b[0;34m,\u001b[0m \u001b[0mfn\u001b[0m\u001b[0;34m,\u001b[0m \u001b[0mtp\u001b[0m\u001b[0;34m)\u001b[0m\u001b[0;34m\u001b[0m\u001b[0;34m\u001b[0m\u001b[0m\n",
      "\u001b[0;31mValueError\u001b[0m: too many values to unpack (expected 4)"
     ]
    }
   ],
   "source": [
    "tn, fp, fn, tp = confusion_matrix(y_test, predictions).ravel()\n",
    "print(tn, fp, fn, tp)"
   ]
  }
 ],
 "metadata": {
  "accelerator": "GPU",
  "colab": {
   "collapsed_sections": [],
   "name": "ML Prog model SSA CVD_Feat_Red Final_Year_Project.ipynb",
   "provenance": []
  },
  "kernelspec": {
   "display_name": "Python 3",
   "language": "python",
   "name": "python3"
  },
  "language_info": {
   "codemirror_mode": {
    "name": "ipython",
    "version": 3
   },
   "file_extension": ".py",
   "mimetype": "text/x-python",
   "name": "python",
   "nbconvert_exporter": "python",
   "pygments_lexer": "ipython3",
   "version": "3.6.12"
  }
 },
 "nbformat": 4,
 "nbformat_minor": 1
}
