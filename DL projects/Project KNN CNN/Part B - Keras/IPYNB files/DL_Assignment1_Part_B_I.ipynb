{
  "nbformat": 4,
  "nbformat_minor": 0,
  "metadata": {
    "colab": {
      "name": "DL_Assignment1_Part_B_I.ipynb",
      "version": "0.3.2",
      "provenance": [],
      "collapsed_sections": []
    },
    "kernelspec": {
      "name": "python3",
      "display_name": "Python 3"
    }
  },
  "cells": [
    {
      "metadata": {
        "id": "swn8_3CpLwOq",
        "colab_type": "text"
      },
      "cell_type": "markdown",
      "source": [
        "\n",
        "\n",
        "\n",
        "\n",
        "\\#\\#\\#\\#\\#\\#\\#\\#\\#\\#\\#\\#\\#\\#\\#\\#\\#\\#\\#\\#\\#\\#\\#\\#\\#\\#\\#\\#\\#\\#\\#\\#\\#\\#\\#\\#\\#\\#\\#\\#\\#\\#\\#\\#\\#\\#\\#\\#\\#\\#\\#\\#\\#\\#\\#\\#\\#\\#\\#\\#\\#\\#\n",
        "#     PART B Section I       # \n",
        "\\#\\#\\#\\#\\#\\#\\#\\#\\#\\#\\#\\#\\#\\#\\#\\#\\#\\#\\#\\#\\#\\#\\#\\#\\#\\#\\#\\#\\#\\#\\#\\#\\#\\#\\#\\#\\#\\#\\#\\#\\#\\#\\#\\#\\#\\#\\#\\#\\#\\#\\#\\#\\#\\#\\#\\#\\#\\#\\#\\#\\#\n",
        "  "
      ]
    },
    {
      "metadata": {
        "id": "X3K8BZd6VOB6",
        "colab_type": "code",
        "outputId": "e53ea83d-7dce-4e8e-c616-691057eed8dc",
        "colab": {
          "base_uri": "https://localhost:8080/",
          "height": 87
        }
      },
      "cell_type": "code",
      "source": [
        "# Importation of libraries (incuding tensorflow and keras)\n",
        "import tensorflow as tf\n",
        "from tensorflow import keras\n",
        "from sklearn import preprocessing\n",
        "import h5py\n",
        "\n",
        "import numpy as np\n",
        "import matplotlib.pyplot as plt\n",
        "\n",
        "# read data\n",
        "from google.colab import drive\n",
        "drive.mount('/content/gdrive')\n",
        "!unzip \"/content/gdrive/My Drive/Colab Notebooks/data.zip\""
      ],
      "execution_count": 0,
      "outputs": [
        {
          "output_type": "stream",
          "text": [
            "Drive already mounted at /content/gdrive; to attempt to forcibly remount, call drive.mount(\"/content/gdrive\", force_remount=True).\n",
            "Archive:  /content/gdrive/My Drive/Colab Notebooks/data.zip\n",
            "  inflating: data.h5                 \n"
          ],
          "name": "stdout"
        }
      ]
    },
    {
      "metadata": {
        "id": "owONz4YQWkUQ",
        "colab_type": "code",
        "colab": {}
      },
      "cell_type": "code",
      "source": [
        "\n",
        "# loadData is a function which load the dataset and split into training/test images and labels\n",
        "def loadData():\n",
        "  with h5py.File('data.h5','r') as hf:\n",
        "    print('List of arrays in this file: \\n', hf.keys())\n",
        "    allTrain = hf.get('trainData')\n",
        "    allTest = hf.get('testData')\n",
        "    npTrain = np.array(allTrain)\n",
        "    npTest = np.array(allTest)\n",
        "    print('Shape of the array dataset_1: \\n', npTrain.shape)\n",
        "    print('Shape of the array dataset_2: \\n', npTest.shape)\n",
        "    return npTrain[:,:-1], npTrain[:, -1], npTest[:,:-1], npTest[:, -1]\n",
        "\n"
      ],
      "execution_count": 0,
      "outputs": []
    },
    {
      "metadata": {
        "id": "BgjiYhSQhBpC",
        "colab_type": "code",
        "outputId": "a859b2f3-e038-476c-9a0c-cb3d2ebfcf15",
        "colab": {
          "base_uri": "https://localhost:8080/",
          "height": 188
        }
      },
      "cell_type": "code",
      "source": [
        "\n",
        "# Load the data\n",
        "x_train, y_train, x_test, y_test = loadData()\n",
        "\n",
        "# Build the keras neronal network model:\n",
        "# Here, there are 2 layers:\n",
        "#   1st layer of 512 fully-connected neurons with a relu activation \n",
        "#   2nd layer of 10 fully-connected neurons with a softmax activation \n",
        "model = tf.keras.models.Sequential([\n",
        "    tf.keras.layers.Dense(512, activation=tf.nn.relu, input_shape=(x_train.shape[1],)),\n",
        "    tf.keras.layers.Dense(10, activation=tf.nn.softmax)])\n",
        "\n",
        "# the model is configured for training with the those parameters:\n",
        "#   For the optimizer: Adam Optimization algorithm\n",
        "#   For the loss: the sparse categorical cross entropy\n",
        "#   The metric to be evaluated by the model: accuracy \n",
        "model.compile(optimizer='adam',\n",
        "              loss='sparse_categorical_crossentropy',\n",
        "              metrics=['accuracy'])"
      ],
      "execution_count": 0,
      "outputs": [
        {
          "output_type": "stream",
          "text": [
            "List of arrays in this file: \n",
            " KeysView(<HDF5 file \"data.h5\" (mode r)>)\n",
            "Shape of the array dataset_1: \n",
            " (200000, 785)\n",
            "Shape of the array dataset_2: \n",
            " (17000, 785)\n",
            "WARNING:tensorflow:From /usr/local/lib/python3.6/dist-packages/tensorflow/python/ops/resource_variable_ops.py:435: colocate_with (from tensorflow.python.framework.ops) is deprecated and will be removed in a future version.\n",
            "Instructions for updating:\n",
            "Colocations handled automatically by placer.\n"
          ],
          "name": "stdout"
        }
      ]
    },
    {
      "metadata": {
        "id": "0hvJ36FyjsnL",
        "colab_type": "code",
        "outputId": "3366074f-1cc8-4bc5-be2a-6f12307345b1",
        "colab": {
          "base_uri": "https://localhost:8080/",
          "height": 205
        }
      },
      "cell_type": "code",
      "source": [
        "# the model is trained with the those parameters:\n",
        "#   epoch: 3 iterations\n",
        "#   batch_size: the size of the mini batch which contains 256 elements\n",
        "#   validation_split: 10% of data used as a validation data\n",
        "history = model.fit(x_train, y_train, epochs=3, batch_size=256, validation_split=0.1)\n",
        "\n",
        "# the model is evaluated and returns test loss and accuracy\n",
        "results = model.evaluate(x_test, y_test)\n",
        "\n",
        "# Print the model result on the test data\n",
        "print(\"Final Test Loss: {:.2f}\".format(results[0]))\n",
        "print(\"Final Test Accuracy: {:.2f}\".format(results[1]))"
      ],
      "execution_count": 0,
      "outputs": [
        {
          "output_type": "stream",
          "text": [
            "Train on 180000 samples, validate on 20000 samples\n",
            "Epoch 1/3\n",
            "180000/180000 [==============================] - 11s 62us/sample - loss: 0.2474 - acc: 0.9270 - val_loss: 0.3709 - val_acc: 0.9003\n",
            "Epoch 2/3\n",
            "180000/180000 [==============================] - 11s 63us/sample - loss: 0.2289 - acc: 0.9321 - val_loss: 0.3903 - val_acc: 0.8962\n",
            "Epoch 3/3\n",
            "180000/180000 [==============================] - 11s 63us/sample - loss: 0.2148 - acc: 0.9363 - val_loss: 0.3854 - val_acc: 0.8997\n",
            "17000/17000 [==============================] - 1s 51us/sample - loss: 0.3052 - acc: 0.9194\n",
            "Final Test Loss: 0.31\n",
            "Final Test Accuracy: 0.92\n"
          ],
          "name": "stdout"
        }
      ]
    },
    {
      "metadata": {
        "id": "R_wHzjjfkE7_",
        "colab_type": "code",
        "outputId": "272bc08d-4615-4e08-c97c-90074c740fad",
        "colab": {
          "base_uri": "https://localhost:8080/",
          "height": 316
        }
      },
      "cell_type": "code",
      "source": [
        "plt.style.use(\"ggplot\")\n",
        "plt.figure()\n",
        "plt.plot(np.arange(0, 3), history.history[\"loss\"], label=\"train_loss\")\n",
        "plt.plot(np.arange(0, 3), history.history[\"val_loss\"], label=\"val_loss\")\n",
        "plt.plot(np.arange(0, 3), history.history[\"acc\"], label=\"train_acc\")\n",
        "plt.plot(np.arange(0, 3), history.history[\"val_acc\"], label=\"val_acc\")\n",
        "plt.title(\"Training/Validation Loss and Accuracy \")\n",
        "plt.xlabel(\"Epoch #\")\n",
        "plt.ylabel(\"Loss/Accuracy\")\n",
        "plt.legend()"
      ],
      "execution_count": 0,
      "outputs": [
        {
          "output_type": "execute_result",
          "data": {
            "text/plain": [
              "<matplotlib.legend.Legend at 0x7f16b5ed42b0>"
            ]
          },
          "metadata": {
            "tags": []
          },
          "execution_count": 11
        },
        {
          "output_type": "display_data",
          "data": {
            "image/png": "[encoded data removed]",
            "text/plain": [
              "<Figure size 432x288 with 1 Axes>"
            ]
          },
          "metadata": {
            "tags": []
          }
        }
      ]
    }
  ]
}